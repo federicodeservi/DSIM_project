{
 "cells": [
  {
   "cell_type": "code",
   "execution_count": 1,
   "metadata": {},
   "outputs": [
    {
     "name": "stdout",
     "output_type": "stream",
     "text": [
      " 0\n",
      "antelope 1046\n",
      "bat 383\n",
      "beaver 193\n",
      "blue+whale 174\n",
      "bobcat 630\n",
      "buffalo 895\n",
      "chihuahua 567\n",
      "chimpanzee 728\n",
      "collie 1028\n",
      "cow 1338\n",
      "dalmatian 549\n",
      "deer 1344\n",
      "dolphin 946\n",
      "elephant 1038\n",
      "fox 664\n",
      "german+shepherd 1033\n",
      "giant+panda 874\n",
      "giraffe 1202\n",
      "gorilla 872\n",
      "grizzly+bear 852\n",
      "hamster 779\n",
      "hippopotamus 684\n",
      "horse 1645\n",
      "humpback+whale 709\n",
      "killer+whale 291\n",
      "leopard 720\n",
      "lion 1019\n",
      "mole 100\n",
      "moose 704\n",
      "mouse 185\n",
      "otter 758\n",
      "ox 728\n",
      "persian+cat 747\n",
      "pig 713\n",
      "polar+bear 868\n",
      "rabbit 1088\n",
      "raccoon 512\n",
      "rat 310\n",
      "rhinoceros 696\n",
      "seal 988\n",
      "sheep 1420\n",
      "siamese+cat 500\n",
      "skunk 188\n",
      "spider+monkey 291\n",
      "squirrel 1200\n",
      "tiger 877\n",
      "walrus 215\n",
      "weasel 272\n",
      "wolf 589\n",
      "zebra 1170\n",
      "Total Files  37322\n"
     ]
    }
   ],
   "source": [
    "import os\n",
    "import pandas as pd\n",
    "\n",
    "N = 0  # total files\n",
    "list_name = []\n",
    "list_number = []\n",
    "for dirpath, dirnames, filenames in os.walk(r\"C:\\Users\\feder\\Desktop\\AwA2-data\\Animals_with_Attributes2\\JPEGImages\"):\n",
    "    N_c = len(filenames)\n",
    "    N += N_c\n",
    "    print(dirpath.split(\"JPEGImages\",1)[1][1:] , N_c)\n",
    "    list_name.append(dirpath.split(\"JPEGImages\",1)[1][1:])\n",
    "    list_number.append(N_c)\n",
    "print (\"Total Files \",N)"
   ]
  },
  {
   "cell_type": "code",
   "execution_count": 2,
   "metadata": {},
   "outputs": [],
   "source": [
    "dfAWA = pd.DataFrame()\n",
    "dfAWA[\"name\"] = list_name\n",
    "dfAWA[\"count\"] = list_number"
   ]
  },
  {
   "cell_type": "code",
   "execution_count": 3,
   "metadata": {},
   "outputs": [],
   "source": [
    "dfAWA = dfAWA.sort_values(\"count\", ascending=False).reset_index(drop=True)"
   ]
  },
  {
   "cell_type": "code",
   "execution_count": 4,
   "metadata": {},
   "outputs": [
    {
     "data": {
      "text/html": [
       "<div>\n",
       "<style scoped>\n",
       "    .dataframe tbody tr th:only-of-type {\n",
       "        vertical-align: middle;\n",
       "    }\n",
       "\n",
       "    .dataframe tbody tr th {\n",
       "        vertical-align: top;\n",
       "    }\n",
       "\n",
       "    .dataframe thead th {\n",
       "        text-align: right;\n",
       "    }\n",
       "</style>\n",
       "<table border=\"1\" class=\"dataframe\">\n",
       "  <thead>\n",
       "    <tr style=\"text-align: right;\">\n",
       "      <th></th>\n",
       "      <th>name</th>\n",
       "      <th>count</th>\n",
       "    </tr>\n",
       "  </thead>\n",
       "  <tbody>\n",
       "    <tr>\n",
       "      <th>0</th>\n",
       "      <td>horse</td>\n",
       "      <td>1645</td>\n",
       "    </tr>\n",
       "    <tr>\n",
       "      <th>1</th>\n",
       "      <td>sheep</td>\n",
       "      <td>1420</td>\n",
       "    </tr>\n",
       "    <tr>\n",
       "      <th>2</th>\n",
       "      <td>deer</td>\n",
       "      <td>1344</td>\n",
       "    </tr>\n",
       "    <tr>\n",
       "      <th>3</th>\n",
       "      <td>cow</td>\n",
       "      <td>1338</td>\n",
       "    </tr>\n",
       "    <tr>\n",
       "      <th>4</th>\n",
       "      <td>giraffe</td>\n",
       "      <td>1202</td>\n",
       "    </tr>\n",
       "    <tr>\n",
       "      <th>5</th>\n",
       "      <td>squirrel</td>\n",
       "      <td>1200</td>\n",
       "    </tr>\n",
       "    <tr>\n",
       "      <th>6</th>\n",
       "      <td>zebra</td>\n",
       "      <td>1170</td>\n",
       "    </tr>\n",
       "    <tr>\n",
       "      <th>7</th>\n",
       "      <td>rabbit</td>\n",
       "      <td>1088</td>\n",
       "    </tr>\n",
       "    <tr>\n",
       "      <th>8</th>\n",
       "      <td>antelope</td>\n",
       "      <td>1046</td>\n",
       "    </tr>\n",
       "    <tr>\n",
       "      <th>9</th>\n",
       "      <td>elephant</td>\n",
       "      <td>1038</td>\n",
       "    </tr>\n",
       "  </tbody>\n",
       "</table>\n",
       "</div>"
      ],
      "text/plain": [
       "       name  count\n",
       "0     horse   1645\n",
       "1     sheep   1420\n",
       "2      deer   1344\n",
       "3       cow   1338\n",
       "4   giraffe   1202\n",
       "5  squirrel   1200\n",
       "6     zebra   1170\n",
       "7    rabbit   1088\n",
       "8  antelope   1046\n",
       "9  elephant   1038"
      ]
     },
     "execution_count": 4,
     "metadata": {},
     "output_type": "execute_result"
    }
   ],
   "source": [
    "top10 = dfAWA.head(10)\n",
    "top10"
   ]
  },
  {
   "cell_type": "code",
   "execution_count": null,
   "metadata": {},
   "outputs": [],
   "source": [
    "gpif = pd.read_csv(r\"C:\\Users\\feder\\Desktop\\Taxon.tsv\", sep=\"\\t\")"
   ]
  },
  {
   "cell_type": "code",
   "execution_count": null,
   "metadata": {},
   "outputs": [],
   "source": [
    "gpif = gpif[[\"taxonID\", \"canonicalName\", \"genericName\"]]"
   ]
  },
  {
   "cell_type": "code",
   "execution_count": null,
   "metadata": {},
   "outputs": [],
   "source": [
    "vern_names= pd.read_csv(r\"C:\\Users\\feder\\Desktop\\VernacularName.tsv\", sep=\"\\t\")"
   ]
  },
  {
   "cell_type": "code",
   "execution_count": null,
   "metadata": {},
   "outputs": [],
   "source": [
    "df_final = vern_names.merge(gpif, how=\"inner\", left_on=\"taxonID\", right_on=\"taxonID\")\n",
    "df_final=df_final[df_final[\"language\"] ==\"en\"]"
   ]
  },
  {
   "cell_type": "code",
   "execution_count": null,
   "metadata": {},
   "outputs": [],
   "source": [
    "df_final=df_final.drop(['language', 'country', \"countryCode\", \"sex\", \"lifeStage\", \"source\"], axis=1)"
   ]
  },
  {
   "cell_type": "code",
   "execution_count": null,
   "metadata": {},
   "outputs": [],
   "source": [
    "to_choose = df_final.merge(dfAWA, how=\"inner\", left_on=\"vernacularName\", right_on=\"name\")\n"
   ]
  },
  {
   "cell_type": "code",
   "execution_count": null,
   "metadata": {},
   "outputs": [],
   "source": [
    "to_choose = to_choose.sort_values(\"count\", ascending=False).reset_index(drop=True)"
   ]
  },
  {
   "cell_type": "code",
   "execution_count": null,
   "metadata": {},
   "outputs": [],
   "source": [
    "to_choose = to_choose.drop_duplicates(subset=[\"vernacularName\"]).reset_index(drop=True)"
   ]
  },
  {
   "cell_type": "code",
   "execution_count": null,
   "metadata": {},
   "outputs": [],
   "source": [
    "to_choose.head(10)"
   ]
  },
  {
   "cell_type": "code",
   "execution_count": null,
   "metadata": {},
   "outputs": [],
   "source": [
    "to_choose.to_csv(\"species_to_choose.csv\")"
   ]
  },
  {
   "cell_type": "code",
   "execution_count": null,
   "metadata": {},
   "outputs": [],
   "source": []
  }
 ],
 "metadata": {
  "kernelspec": {
   "display_name": "Python 3",
   "language": "python",
   "name": "python3"
  },
  "language_info": {
   "codemirror_mode": {
    "name": "ipython",
    "version": 3
   },
   "file_extension": ".py",
   "mimetype": "text/x-python",
   "name": "python",
   "nbconvert_exporter": "python",
   "pygments_lexer": "ipython3",
   "version": "3.7.6"
  }
 },
 "nbformat": 4,
 "nbformat_minor": 4
}