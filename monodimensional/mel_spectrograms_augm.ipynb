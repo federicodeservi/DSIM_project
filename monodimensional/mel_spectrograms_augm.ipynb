{
 "cells": [
  {
   "cell_type": "code",
   "execution_count": 1,
   "metadata": {
    "executionInfo": {
     "elapsed": 5112,
     "status": "ok",
     "timestamp": 1607523705732,
     "user": {
      "displayName": "Federico Luzzi",
      "photoUrl": "",
      "userId": "07861939631567515659"
     },
     "user_tz": -60
    },
    "id": "YGiUq1731BlI",
    "scrolled": true
   },
   "outputs": [],
   "source": [
    "import os\n",
    "import pathlib\n",
    "import matplotlib.pyplot as plt\n",
    "import numpy as np\n",
    "import seaborn as sns\n",
    "import tensorflow as tf\n",
    "from tensorflow.keras.layers.experimental import preprocessing\n",
    "from tensorflow.keras import layers\n",
    "from tensorflow.keras import models\n",
    "from tensorflow.keras.applications import inception_v3\n",
    "from IPython import display\n",
    "from tensorflow.keras.callbacks import EarlyStopping, ModelCheckpoint\n",
    "import matplotlib.pyplot as plt\n",
    "import numpy as np\n",
    "from matplotlib import cm\n",
    "from matplotlib.backends.backend_agg import FigureCanvasAgg as FigureCanvas\n",
    "import librosa\n",
    "from pathlib import Path\n",
    "import os, shutil\n",
    "import random\n",
    "plt.ioff()"
   ]
  },
  {
   "cell_type": "code",
   "execution_count": 2,
   "metadata": {
    "colab": {
     "base_uri": "https://localhost:8080/"
    },
    "executionInfo": {
     "elapsed": 11413,
     "status": "ok",
     "timestamp": 1607523712147,
     "user": {
      "displayName": "Federico Luzzi",
      "photoUrl": "",
      "userId": "07861939631567515659"
     },
     "user_tz": -60
    },
    "id": "j5DD_kk2q4XL",
    "outputId": "9b60296c-e53f-40a8-8b3f-a77ccadd8184"
   },
   "outputs": [],
   "source": [
    "#!pip install audiomentations\n",
    "#!pip install soundfile"
   ]
  },
  {
   "cell_type": "code",
   "execution_count": 3,
   "metadata": {
    "executionInfo": {
     "elapsed": 11413,
     "status": "ok",
     "timestamp": 1607523712151,
     "user": {
      "displayName": "Federico Luzzi",
      "photoUrl": "",
      "userId": "07861939631567515659"
     },
     "user_tz": -60
    },
    "id": "_KRRcdKR1BlR",
    "scrolled": true
   },
   "outputs": [],
   "source": [
    "#!rm -rf data_augm\n",
    "#!mkdir data_augm\n",
    "#!mkdir data_augm/dataset"
   ]
  },
  {
   "cell_type": "code",
   "execution_count": 5,
   "metadata": {
    "executionInfo": {
     "elapsed": 13398,
     "status": "ok",
     "timestamp": 1607523714139,
     "user": {
      "displayName": "Federico Luzzi",
      "photoUrl": "",
      "userId": "07861939631567515659"
     },
     "user_tz": -60
    },
    "id": "EJHung4j1BlS"
   },
   "outputs": [],
   "source": [
    "import requests\n",
    "\n",
    "def download_file_from_google_drive(id, destination):\n",
    "    URL = \"https://docs.google.com/uc?export=download\"\n",
    "\n",
    "    session = requests.Session()\n",
    "\n",
    "    response = session.get(URL, params = { 'id' : id }, stream = True)\n",
    "    token = get_confirm_token(response)\n",
    "\n",
    "    if token:\n",
    "        params = { 'id' : id, 'confirm' : token }\n",
    "        response = session.get(URL, params = params, stream = True)\n",
    "\n",
    "    save_response_content(response, destination)    \n",
    "\n",
    "def get_confirm_token(response):\n",
    "    for key, value in response.cookies.items():\n",
    "        if key.startswith('download_warning'):\n",
    "            return value\n",
    "\n",
    "    return None\n",
    "\n",
    "def save_response_content(response, destination):\n",
    "    CHUNK_SIZE = 32768\n",
    "\n",
    "    with open(destination, \"wb\") as f:\n",
    "        for chunk in response.iter_content(CHUNK_SIZE):\n",
    "            if chunk: # filter out keep-alive new chunks\n",
    "                f.write(chunk)\n",
    "\n",
    "file_id = '1jwIWW2vuBJVO-XcCTL9HgmcolCfQJ2ir'    \n",
    "download_file_from_google_drive(file_id, \"data.zip\")"
   ]
  },
  {
   "cell_type": "code",
   "execution_count": 6,
   "metadata": {
    "executionInfo": {
     "elapsed": 13407,
     "status": "ok",
     "timestamp": 1607523714151,
     "user": {
      "displayName": "Federico Luzzi",
      "photoUrl": "",
      "userId": "07861939631567515659"
     },
     "user_tz": -60
    },
    "id": "FYOyQlrT1BlT"
   },
   "outputs": [],
   "source": [
    "from zipfile import ZipFile\n",
    "if not os.path.exists('data'):\n",
    "    os.makedirs('data')\n",
    "zf = ZipFile('data.zip', 'r')\n",
    "zf.extractall('data')\n",
    "zf.close()"
   ]
  },
  {
   "cell_type": "code",
   "execution_count": 4,
   "metadata": {
    "executionInfo": {
     "elapsed": 13405,
     "status": "ok",
     "timestamp": 1607523714153,
     "user": {
      "displayName": "Federico Luzzi",
      "photoUrl": "",
      "userId": "07861939631567515659"
     },
     "user_tz": -60
    },
    "id": "Y8gacRoL1BlT",
    "scrolled": true
   },
   "outputs": [],
   "source": [
    "data_dir = pathlib.Path(\"data/data_final\")"
   ]
  },
  {
   "cell_type": "code",
   "execution_count": 5,
   "metadata": {
    "executionInfo": {
     "elapsed": 13403,
     "status": "ok",
     "timestamp": 1607523714154,
     "user": {
      "displayName": "Federico Luzzi",
      "photoUrl": "",
      "userId": "07861939631567515659"
     },
     "user_tz": -60
    },
    "id": "Zyeu4l-a1BlU"
   },
   "outputs": [],
   "source": [
    "def decode_audio(audio_binary):\n",
    "  audio, _ = tf.audio.decode_wav(audio_binary)\n",
    "  return tf.squeeze(audio, axis=-1)"
   ]
  },
  {
   "cell_type": "code",
   "execution_count": 6,
   "metadata": {
    "executionInfo": {
     "elapsed": 13401,
     "status": "ok",
     "timestamp": 1607523714156,
     "user": {
      "displayName": "Federico Luzzi",
      "photoUrl": "",
      "userId": "07861939631567515659"
     },
     "user_tz": -60
    },
    "id": "cWyK4jcR1BlU"
   },
   "outputs": [],
   "source": [
    "def get_label(file_path):\n",
    "  parts = tf.strings.split(file_path, os.path.sep)\n",
    "\n",
    "  # Note: You'll use indexing here instead of tuple unpacking to enable this \n",
    "  # to work in a TensorFlow graph.\n",
    "  return parts[-2].numpy().decode()"
   ]
  },
  {
   "cell_type": "code",
   "execution_count": 7,
   "metadata": {
    "executionInfo": {
     "elapsed": 842,
     "status": "ok",
     "timestamp": 1607524583844,
     "user": {
      "displayName": "Federico Luzzi",
      "photoUrl": "",
      "userId": "07861939631567515659"
     },
     "user_tz": -60
    },
    "id": "Jd3eeKmt1BlU"
   },
   "outputs": [],
   "source": [
    "def get_waveform(file_path):\n",
    "  audio_binary = tf.io.read_file(file_path)\n",
    "  waveform = decode_audio(audio_binary)\n",
    "  return waveform, audio_binary"
   ]
  },
  {
   "cell_type": "code",
   "execution_count": 8,
   "metadata": {
    "executionInfo": {
     "elapsed": 13393,
     "status": "ok",
     "timestamp": 1607523714158,
     "user": {
      "displayName": "Federico Luzzi",
      "photoUrl": "",
      "userId": "07861939631567515659"
     },
     "user_tz": -60
    },
    "id": "EkDB8J0-1BlV"
   },
   "outputs": [],
   "source": [
    "frame_length = 2048\n",
    "frame_step = 512\n",
    "num_mel_bins = 75\n",
    "num_spectrogram_bins = (frame_length // 2) + 1\n",
    "fmin = 0.0\n",
    "sample_rate = 44100\n",
    "fmax = sample_rate / 2\n",
    "\n",
    "\n",
    "def get_spectrogram(waveform):\n",
    "    # Padding for files with less than 16000 samples\n",
    "    #zero_padding = tf.zeros([140000] - tf.shape(waveform), dtype=tf.float32) # NON SUPERARE I 3 SECONDI CON TIME STRETCH\n",
    "    # Concatenate audio with padding so that all audio clips will be of the \n",
    "    # same length\n",
    "    waveform = tf.cast(waveform, tf.float32)\n",
    "    equal_length = waveform\n",
    "    magnitude_spectrograms  = tf.signal.stft(\n",
    "      equal_length, frame_length, frame_step)\n",
    "    magnitude_spectrograms  = tf.abs(magnitude_spectrograms)\n",
    "    \n",
    "    # Step: magnitude_spectrograms->mel_spectrograms\n",
    "    # Warp the linear-scale, magnitude spectrograms into the mel-scale.\n",
    "    num_spectrogram_bins = magnitude_spectrograms.shape[-1]\n",
    "\n",
    "\n",
    "    linear_to_mel_weight_matrix = tf.signal.linear_to_mel_weight_matrix(\n",
    "        num_mel_bins, num_spectrogram_bins, sample_rate, fmin,\n",
    "        fmax)\n",
    "\n",
    "    mel_spectrograms = tf.tensordot(\n",
    "        magnitude_spectrograms, linear_to_mel_weight_matrix, 1)\n",
    "\n",
    "    mel_spectrograms.set_shape(magnitude_spectrograms.shape[:-1].concatenate(\n",
    "  linear_to_mel_weight_matrix.shape[-1:]))\n",
    "\n",
    "    # Compute a stabilized log to get log-magnitude mel-scale spectrograms.\n",
    "    log_mel_spectrograms = tf.math.log(mel_spectrograms + 1e-6)\n",
    "\n",
    "    # Compute MFCCs from log_mel_spectrograms and take the first 13.\n",
    "    #mfccs = tf.signal.mfccs_from_log_mel_spectrograms(\n",
    "    #  log_mel_spectrograms)[..., :75]\n",
    "  \n",
    "    return log_mel_spectrograms"
   ]
  },
  {
   "cell_type": "code",
   "execution_count": 9,
   "metadata": {
    "executionInfo": {
     "elapsed": 13389,
     "status": "ok",
     "timestamp": 1607523714158,
     "user": {
      "displayName": "Federico Luzzi",
      "photoUrl": "",
      "userId": "07861939631567515659"
     },
     "user_tz": -60
    },
    "id": "51hCVma61BlX"
   },
   "outputs": [],
   "source": [
    "# VERSIONE PROSTAZIA\n",
    "#def plot_spectrogram(spectrogram, label, class_path, i):\n",
    "#  fig, ax = plt.subplots(figsize=(20,20))\n",
    "#  mfcc_data= np.swapaxes(spectrogram, 0 ,1)\n",
    "#  cax = ax.imshow(mfcc_data, interpolation='nearest', cmap=cm.coolwarm, origin='lower')\n",
    "#  ax.axis(\"off\")\n",
    "#  fig.savefig('data\\dataset\\mels{}\\mel_{}_{}.png'.format(class_path.split(\"data\\dataset\\data_final\")[1], label, i), bbox_inches='tight', pad_inches=0, dpi=300)"
   ]
  },
  {
   "cell_type": "code",
   "execution_count": 10,
   "metadata": {
    "executionInfo": {
     "elapsed": 823,
     "status": "ok",
     "timestamp": 1607524971787,
     "user": {
      "displayName": "Federico Luzzi",
      "photoUrl": "",
      "userId": "07861939631567515659"
     },
     "user_tz": -60
    },
    "id": "zv-CmqJj1r5P"
   },
   "outputs": [],
   "source": [
    "# VERSIONE FEDOUS\n",
    "def draw_spectrogram(spectrogram, output_dir_path, i):\n",
    "    fig, ax = plt.subplots()\n",
    "    fig.set_size_inches(2.24, 2.24)\n",
    "    mfcc_data= np.swapaxes(spectrogram, 0 ,1)\n",
    "    cax = ax.imshow(mfcc_data, interpolation='nearest', cmap=cm.coolwarm, origin='lower')\n",
    "    ax.axis(\"off\")\n",
    "    fig.savefig(f'{output_dir_path}/mel_{i}.png', bbox_inches='tight', pad_inches=0, dpi=100)\n",
    "    plt.close()\n",
    "  "
   ]
  },
  {
   "cell_type": "markdown",
   "metadata": {
    "id": "ioTzKnMa1BlX"
   },
   "source": [
    "### Split in Train - Val - Test"
   ]
  },
  {
   "cell_type": "code",
   "execution_count": 14,
   "metadata": {
    "colab": {
     "base_uri": "https://localhost:8080/"
    },
    "executionInfo": {
     "elapsed": 16013,
     "status": "ok",
     "timestamp": 1607523716806,
     "user": {
      "displayName": "Federico Luzzi",
      "photoUrl": "",
      "userId": "07861939631567515659"
     },
     "user_tz": -60
    },
    "id": "HJ1iADGZupqs",
    "outputId": "fe33becc-b3fa-48aa-da31-c1207a9cb873"
   },
   "outputs": [],
   "source": [
    "#!pip install split-folders"
   ]
  },
  {
   "cell_type": "code",
   "execution_count": 15,
   "metadata": {
    "colab": {
     "base_uri": "https://localhost:8080/"
    },
    "executionInfo": {
     "elapsed": 15996,
     "status": "ok",
     "timestamp": 1607523716812,
     "user": {
      "displayName": "Federico Luzzi",
      "photoUrl": "",
      "userId": "07861939631567515659"
     },
     "user_tz": -60
    },
    "id": "CnilKs6UtNXK",
    "outputId": "5884966d-3fb4-42bf-df20-d03e8f91e213"
   },
   "outputs": [],
   "source": [
    "import splitfolders\n",
    "splitfolders.ratio(\"data/data_final\", output=\"data/split\", seed=1337, ratio=(.6, .2, .2))"
   ]
  },
  {
   "cell_type": "markdown",
   "metadata": {
    "id": "uiN5NHo4w-FQ"
   },
   "source": [
    "### Data Augmentation"
   ]
  },
  {
   "cell_type": "code",
   "execution_count": 11,
   "metadata": {
    "executionInfo": {
     "elapsed": 15988,
     "status": "ok",
     "timestamp": 1607523716814,
     "user": {
      "displayName": "Federico Luzzi",
      "photoUrl": "",
      "userId": "07861939631567515659"
     },
     "user_tz": -60
    },
    "id": "OcZJ-JrXqw5D"
   },
   "outputs": [],
   "source": [
    "from audiomentations import Compose, AddGaussianNoise, PitchShift, Normalize, FrequencyMask\n",
    "import numpy as np\n",
    "import soundfile as sf\n",
    "import librosa"
   ]
  },
  {
   "cell_type": "code",
   "execution_count": 17,
   "metadata": {
    "executionInfo": {
     "elapsed": 15980,
     "status": "ok",
     "timestamp": 1607523716816,
     "user": {
      "displayName": "Federico Luzzi",
      "photoUrl": "",
      "userId": "07861939631567515659"
     },
     "user_tz": -60
    },
    "id": "RUq4zfaW1BlY"
   },
   "outputs": [],
   "source": [
    "augm_01 = Compose([\n",
    "    AddGaussianNoise(min_amplitude=0.001, max_amplitude=0.015, p=1)\n",
    "])\n",
    "\n",
    "augm_02 = Compose([\n",
    "    PitchShift(min_semitones=-4, max_semitones=4, p=1)\n",
    "])\n",
    "\n",
    "augm_03 = Compose([\n",
    "    Normalize(p=1)\n",
    "])\n",
    "\n",
    "aug_l = [augm_01, augm_02, augm_03]"
   ]
  },
  {
   "cell_type": "code",
   "execution_count": 12,
   "metadata": {
    "executionInfo": {
     "elapsed": 15969,
     "status": "ok",
     "timestamp": 1607523716818,
     "user": {
      "displayName": "Federico Luzzi",
      "photoUrl": "",
      "userId": "07861939631567515659"
     },
     "user_tz": -60
    },
    "id": "_sinfp6v1BlZ"
   },
   "outputs": [],
   "source": [
    "def augmentation(path, augment):\n",
    "    y, sr = librosa.load(path)\n",
    "    augmented_samples = augment(samples=y, sample_rate=sr)\n",
    "    return augmented_samples, sr"
   ]
  },
  {
   "cell_type": "code",
   "execution_count": 19,
   "metadata": {
    "colab": {
     "base_uri": "https://localhost:8080/"
    },
    "executionInfo": {
     "elapsed": 104180,
     "status": "ok",
     "timestamp": 1607523805055,
     "user": {
      "displayName": "Federico Luzzi",
      "photoUrl": "",
      "userId": "07861939631567515659"
     },
     "user_tz": -60
    },
    "id": "_48siQBQ1BlZ",
    "outputId": "a1a57e58-35e5-42a7-ca9a-e541c41de720",
    "scrolled": true
   },
   "outputs": [
    {
     "output_type": "stream",
     "name": "stdout",
     "text": [
      "AUGMENTATION on data/split/train\n",
      "data\\split\\train\\Alces_alces\n",
      "data\\split\\train\\Bos_taurus\n",
      "data\\split\\train\\Cervus_elaphus\n",
      "data\\split\\train\\Equus_caballus\n",
      "data\\split\\train\\Lutra_lutra\n",
      "data\\split\\train\\Ovis\n",
      "data\\split\\train\\Pan\n",
      "data\\split\\train\\Panthera_leo\n",
      "data\\split\\train\\Procyon\n",
      "data\\split\\train\\Vulpes\n"
     ]
    }
   ],
   "source": [
    "main_dirs = [\"data/split/train\"] #2 folders\n",
    "\n",
    "for main_dir in main_dirs:\n",
    "    print(f\"AUGMENTATION on {main_dir}\")\n",
    "    folders_pathlist = Path(main_dir).glob('*')\n",
    "\n",
    "    for path in folders_pathlist: # per ogni cartella nella lista\n",
    "        # because path is object not string\n",
    "        class_path = str(path)\n",
    "        print(class_path)\n",
    "        wav_pathlist = Path(class_path).glob('./' + ('[0-9]' * 2) + \".wav\")\n",
    "        i = 300\n",
    "        for w_path in wav_pathlist: # per ogni file audio\n",
    "            #print(w_path)\n",
    "            wav_path = str(w_path)\n",
    "            label = get_label(wav_path)\n",
    "            for aug in aug_l: # per ogni data augmentation da applicare\n",
    "                augmented_samples, sr = augmentation(wav_path, aug)\n",
    "                #print('{}/{}/{}.wav'.format(label,i)) #300 in avanti\n",
    "                sf.write('{}/{}/{}.wav'.format(main_dir,label,i), augmented_samples, sr)\n",
    "                i +=1\n"
   ]
  },
  {
   "cell_type": "code",
   "execution_count": 20,
   "metadata": {
    "executionInfo": {
     "elapsed": 104171,
     "status": "ok",
     "timestamp": 1607523805078,
     "user": {
      "displayName": "Federico Luzzi",
      "photoUrl": "",
      "userId": "07861939631567515659"
     },
     "user_tz": -60
    },
    "id": "kZPx_XrF1Bla"
   },
   "outputs": [],
   "source": [
    "\n",
    "#try:\n",
    "#    os.makedirs('data/dataset/mels')\n",
    "#except:\n",
    "#    print(\"Folder already exists, deleting its content to replace them with new ones.\")\n",
    "#    shutil.rmtree('data/dataset/mels')\n",
    "#    os.makedirs('data/dataset/mels')"
   ]
  },
  {
   "cell_type": "markdown",
   "metadata": {
    "id": "HXixs9N0w5rT"
   },
   "source": [
    "### Wav -> MEL"
   ]
  },
  {
   "cell_type": "code",
   "execution_count": 13,
   "metadata": {},
   "outputs": [],
   "source": [
    "#Define function to apply SpecAugment to wav files\n",
    "\n",
    "def spec_augment(spec: np.ndarray, num_mask=1, \n",
    "                 freq_masking_max_percentage=0.15, time_masking_max_percentage=0.05):\n",
    "\n",
    "    spec = spec.copy()\n",
    "    for i in range(num_mask):\n",
    "        all_frames_num, all_freqs_num = spec.shape\n",
    "        freq_percentage = random.uniform(0.05, freq_masking_max_percentage)\n",
    "        \n",
    "        num_freqs_to_mask = int(freq_percentage * all_freqs_num)\n",
    "        f0 = np.random.uniform(low=0.02, high=all_freqs_num - num_freqs_to_mask)\n",
    "        f0 = int(f0)\n",
    "        #Set band to 0\n",
    "        spec[:, f0:f0 + num_freqs_to_mask] = 0\n",
    "\n",
    "        time_percentage = random.uniform(0.0, time_masking_max_percentage)\n",
    "        \n",
    "        num_frames_to_mask = int(time_percentage * all_frames_num)\n",
    "        t0 = np.random.uniform(low=0.0, high=all_frames_num - num_frames_to_mask)\n",
    "        t0 = int(t0)\n",
    "        #Set band to 0\n",
    "        spec[t0:t0 + num_frames_to_mask, :] = 0\n",
    "    \n",
    "    return spec"
   ]
  },
  {
   "cell_type": "code",
   "execution_count": 14,
   "metadata": {
    "executionInfo": {
     "elapsed": 104166,
     "status": "ok",
     "timestamp": 1607523805080,
     "user": {
      "displayName": "Federico Luzzi",
      "photoUrl": "",
      "userId": "07861939631567515659"
     },
     "user_tz": -60
    },
    "id": "QRlF5FChxucN"
   },
   "outputs": [],
   "source": [
    "input_dirs = [\"data/split/train\", \"data/split/val\", \"data/split/test\"] \n",
    "output_dirs = [\"data_mel/train\", \"data_mel/val\", \"data_mel/test\"] \n",
    "\n",
    "if not os.path.exists('data_mel'):\n",
    "    os.makedirs('data_mel')\n",
    "for output_dir in output_dirs:\n",
    "  if not os.path.exists(output_dir):\n",
    "    os.makedirs(output_dir) "
   ]
  },
  {
   "cell_type": "code",
   "execution_count": 15,
   "metadata": {
    "colab": {
     "background_save": true,
     "base_uri": "https://localhost:8080/",
     "height": 0,
     "output_embedded_package_id": "11H-GsmkbYc0pSpbvg5cMnEPevqRmwmkb"
    },
    "id": "zKVzfaY0x8zc",
    "outputId": "f837d2c7-658a-428b-837c-e8ba52ab32b0"
   },
   "outputs": [
    {
     "output_type": "stream",
     "name": "stdout",
     "text": [
      "data_mel/train/Alces_alces/ DONE\n",
      "data_mel/train/Bos_taurus/ DONE\n",
      "data_mel/train/Cervus_elaphus/ DONE\n",
      "data_mel/train/Equus_caballus/ DONE\n",
      "data_mel/train/Lutra_lutra/ DONE\n",
      "data_mel/train/Ovis/ DONE\n",
      "data_mel/train/Pan/ DONE\n",
      "data_mel/train/Panthera_leo/ DONE\n",
      "data_mel/train/Procyon/ DONE\n",
      "data_mel/train/Vulpes/ DONE\n",
      "data_mel/val/Alces_alces/ DONE\n",
      "data_mel/val/Bos_taurus/ DONE\n",
      "data_mel/val/Cervus_elaphus/ DONE\n",
      "data_mel/val/Equus_caballus/ DONE\n",
      "data_mel/val/Lutra_lutra/ DONE\n",
      "data_mel/val/Ovis/ DONE\n",
      "data_mel/val/Pan/ DONE\n",
      "data_mel/val/Panthera_leo/ DONE\n",
      "data_mel/val/Procyon/ DONE\n",
      "data_mel/val/Vulpes/ DONE\n",
      "data_mel/test/Alces_alces/ DONE\n",
      "data_mel/test/Bos_taurus/ DONE\n",
      "data_mel/test/Cervus_elaphus/ DONE\n",
      "data_mel/test/Equus_caballus/ DONE\n",
      "data_mel/test/Lutra_lutra/ DONE\n",
      "data_mel/test/Ovis/ DONE\n",
      "data_mel/test/Pan/ DONE\n",
      "data_mel/test/Panthera_leo/ DONE\n",
      "data_mel/test/Procyon/ DONE\n",
      "data_mel/test/Vulpes/ DONE\n"
     ]
    }
   ],
   "source": [
    "# VERSIONE FEDOUS\n",
    "plt.ioff()\n",
    "for i in range(3): # per le 3 cartelle train-val-test\n",
    "    folds = os.listdir(f'{input_dirs[i]}/') # cartelle delle classi\n",
    "  \n",
    "    for fold in folds:\n",
    "        if not os.path.exists(f'{output_dirs[i]}/{fold}/'):\n",
    "            os.makedirs(f'{output_dirs[i]}/{fold}')\n",
    "        wav_files = (os.listdir(f'{input_dirs[i]}/{fold}/'))\n",
    "    \n",
    "        j = 0\n",
    "\n",
    "        for wav_file in wav_files: # per ogni file wav\n",
    "            wav_path = f'{input_dirs[i]}/{fold}/{wav_file}'\n",
    "            output_dir_path = f'{output_dirs[i]}/{fold}'\n",
    "            wave, _ = get_waveform(wav_path)\n",
    "            #label = get_label(wav_path)\n",
    "            mel = get_spectrogram(wave)\n",
    "            draw_spectrogram(mel, output_dir_path, j)\n",
    "            j += 1\n",
    "            #we now apply SpecAugment for the same wav if it is an original audio\n",
    "            if len(wav_path.split(\"/\")[-1]) == 6:\n",
    "                mel = get_spectrogram(wave)\n",
    "                warped_masked_spectrogram = spec_augment(mel.numpy())\n",
    "                draw_spectrogram(warped_masked_spectrogram, output_dir_path, j)\n",
    "                j += 1\n",
    "\n",
    "        print(f'{output_dirs[i]}/{fold}/ DONE')"
   ]
  },
  {
   "cell_type": "code",
   "execution_count": null,
   "metadata": {},
   "outputs": [],
   "source": []
  },
  {
   "cell_type": "code",
   "execution_count": null,
   "metadata": {
    "executionInfo": {
     "elapsed": 105698,
     "status": "aborted",
     "timestamp": 1607523806719,
     "user": {
      "displayName": "Federico Luzzi",
      "photoUrl": "",
      "userId": "07861939631567515659"
     },
     "user_tz": -60
    },
    "id": "JFv_s4sW1Blc"
   },
   "outputs": [],
   "source": []
  },
  {
   "cell_type": "code",
   "execution_count": null,
   "metadata": {},
   "outputs": [],
   "source": []
  }
 ],
 "metadata": {
  "colab": {
   "name": "mel_spectrograms.ipynb",
   "version": ""
  },
  "kernelspec": {
   "name": "python3",
   "display_name": "Python 3.8.5 64-bit ('dsim': conda)",
   "metadata": {
    "interpreter": {
     "hash": "c6d8b0923b4478c13753bcd1691855a9d3e14a2ebfbd74ecce2f10551e9ffca2"
    }
   }
  },
  "language_info": {
   "codemirror_mode": {
    "name": "ipython",
    "version": 3
   },
   "file_extension": ".py",
   "mimetype": "text/x-python",
   "name": "python",
   "nbconvert_exporter": "python",
   "pygments_lexer": "ipython3",
   "version": "3.8.5-final"
  }
 },
 "nbformat": 4,
 "nbformat_minor": 1
}