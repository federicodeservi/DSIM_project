{
 "cells": [
  {
   "cell_type": "code",
   "execution_count": 1,
   "metadata": {
    "executionInfo": {
     "elapsed": 5112,
     "status": "ok",
     "timestamp": 1607523705732,
     "user": {
      "displayName": "Federico Luzzi",
      "photoUrl": "",
      "userId": "07861939631567515659"
     },
     "user_tz": -60
    },
    "id": "YGiUq1731BlI",
    "scrolled": true
   },
   "outputs": [],
   "source": [
    "import os\n",
    "import pathlib\n",
    "import matplotlib.pyplot as plt\n",
    "import numpy as np\n",
    "import seaborn as sns\n",
    "import tensorflow as tf\n",
    "from tensorflow.keras.layers.experimental import preprocessing\n",
    "from tensorflow.keras import layers\n",
    "from tensorflow.keras import models\n",
    "from tensorflow.keras.applications import inception_v3\n",
    "from IPython import display\n",
    "from keras.callbacks import EarlyStopping, ModelCheckpoint\n",
    "import matplotlib.pyplot as plt\n",
    "import numpy as np\n",
    "from matplotlib import cm\n",
    "from matplotlib.backends.backend_agg import FigureCanvasAgg as FigureCanvas\n",
    "import librosa\n",
    "from pathlib import Path\n",
    "import os, shutil\n",
    "import random\n",
    "plt.ioff()"
   ]
  },
  {
   "cell_type": "code",
   "execution_count": 2,
   "metadata": {
    "colab": {
     "base_uri": "https://localhost:8080/"
    },
    "executionInfo": {
     "elapsed": 11413,
     "status": "ok",
     "timestamp": 1607523712147,
     "user": {
      "displayName": "Federico Luzzi",
      "photoUrl": "",
      "userId": "07861939631567515659"
     },
     "user_tz": -60
    },
    "id": "j5DD_kk2q4XL",
    "outputId": "9b60296c-e53f-40a8-8b3f-a77ccadd8184"
   },
   "outputs": [],
   "source": [
    "#!pip install audiomentations\n",
    "#!pip install soundfile"
   ]
  },
  {
   "cell_type": "code",
   "execution_count": 3,
   "metadata": {
    "executionInfo": {
     "elapsed": 11413,
     "status": "ok",
     "timestamp": 1607523712151,
     "user": {
      "displayName": "Federico Luzzi",
      "photoUrl": "",
      "userId": "07861939631567515659"
     },
     "user_tz": -60
    },
    "id": "_KRRcdKR1BlR",
    "scrolled": true
   },
   "outputs": [],
   "source": [
    "#!rm -rf data_augm\n",
    "#!mkdir data_augm\n",
    "#!mkdir data_augm/dataset"
   ]
  },
  {
   "cell_type": "code",
   "execution_count": 5,
   "metadata": {
    "executionInfo": {
     "elapsed": 13398,
     "status": "ok",
     "timestamp": 1607523714139,
     "user": {
      "displayName": "Federico Luzzi",
      "photoUrl": "",
      "userId": "07861939631567515659"
     },
     "user_tz": -60
    },
    "id": "EJHung4j1BlS"
   },
   "outputs": [],
   "source": [
    "import requests\n",
    "\n",
    "def download_file_from_google_drive(id, destination):\n",
    "    URL = \"https://docs.google.com/uc?export=download\"\n",
    "\n",
    "    session = requests.Session()\n",
    "\n",
    "    response = session.get(URL, params = { 'id' : id }, stream = True)\n",
    "    token = get_confirm_token(response)\n",
    "\n",
    "    if token:\n",
    "        params = { 'id' : id, 'confirm' : token }\n",
    "        response = session.get(URL, params = params, stream = True)\n",
    "\n",
    "    save_response_content(response, destination)    \n",
    "\n",
    "def get_confirm_token(response):\n",
    "    for key, value in response.cookies.items():\n",
    "        if key.startswith('download_warning'):\n",
    "            return value\n",
    "\n",
    "    return None\n",
    "\n",
    "def save_response_content(response, destination):\n",
    "    CHUNK_SIZE = 32768\n",
    "\n",
    "    with open(destination, \"wb\") as f:\n",
    "        for chunk in response.iter_content(CHUNK_SIZE):\n",
    "            if chunk: # filter out keep-alive new chunks\n",
    "                f.write(chunk)\n",
    "\n",
    "file_id = '1jwIWW2vuBJVO-XcCTL9HgmcolCfQJ2ir'    \n",
    "download_file_from_google_drive(file_id, \"data.zip\")"
   ]
  },
  {
   "cell_type": "code",
   "execution_count": 4,
   "metadata": {
    "executionInfo": {
     "elapsed": 13407,
     "status": "ok",
     "timestamp": 1607523714151,
     "user": {
      "displayName": "Federico Luzzi",
      "photoUrl": "",
      "userId": "07861939631567515659"
     },
     "user_tz": -60
    },
    "id": "FYOyQlrT1BlT"
   },
   "outputs": [],
   "source": [
    "from zipfile import ZipFile\n",
    "if not os.path.exists('data'):\n",
    "    os.makedirs('data')\n",
    "zf = ZipFile('data.zip', 'r')\n",
    "zf.extractall('data')\n",
    "zf.close()"
   ]
  },
  {
   "cell_type": "code",
   "execution_count": 5,
   "metadata": {
    "executionInfo": {
     "elapsed": 13405,
     "status": "ok",
     "timestamp": 1607523714153,
     "user": {
      "displayName": "Federico Luzzi",
      "photoUrl": "",
      "userId": "07861939631567515659"
     },
     "user_tz": -60
    },
    "id": "Y8gacRoL1BlT",
    "scrolled": true
   },
   "outputs": [],
   "source": [
    "data_dir = pathlib.Path(\"data/data_final\")"
   ]
  },
  {
   "cell_type": "code",
   "execution_count": 6,
   "metadata": {
    "executionInfo": {
     "elapsed": 13403,
     "status": "ok",
     "timestamp": 1607523714154,
     "user": {
      "displayName": "Federico Luzzi",
      "photoUrl": "",
      "userId": "07861939631567515659"
     },
     "user_tz": -60
    },
    "id": "Zyeu4l-a1BlU"
   },
   "outputs": [],
   "source": [
    "def decode_audio(audio_binary):\n",
    "  audio, _ = tf.audio.decode_wav(audio_binary)\n",
    "  return tf.squeeze(audio, axis=-1)"
   ]
  },
  {
   "cell_type": "code",
   "execution_count": 7,
   "metadata": {
    "executionInfo": {
     "elapsed": 13401,
     "status": "ok",
     "timestamp": 1607523714156,
     "user": {
      "displayName": "Federico Luzzi",
      "photoUrl": "",
      "userId": "07861939631567515659"
     },
     "user_tz": -60
    },
    "id": "cWyK4jcR1BlU"
   },
   "outputs": [],
   "source": [
    "def get_label(file_path):\n",
    "  parts = tf.strings.split(file_path, os.path.sep)\n",
    "\n",
    "  # Note: You'll use indexing here instead of tuple unpacking to enable this \n",
    "  # to work in a TensorFlow graph.\n",
    "  return parts[-2].numpy().decode()"
   ]
  },
  {
   "cell_type": "code",
   "execution_count": 8,
   "metadata": {
    "executionInfo": {
     "elapsed": 842,
     "status": "ok",
     "timestamp": 1607524583844,
     "user": {
      "displayName": "Federico Luzzi",
      "photoUrl": "",
      "userId": "07861939631567515659"
     },
     "user_tz": -60
    },
    "id": "Jd3eeKmt1BlU"
   },
   "outputs": [],
   "source": [
    "def get_waveform(file_path):\n",
    "  audio_binary = tf.io.read_file(file_path)\n",
    "  waveform = decode_audio(audio_binary)\n",
    "  return waveform, audio_binary"
   ]
  },
  {
   "cell_type": "code",
   "execution_count": 9,
   "metadata": {
    "executionInfo": {
     "elapsed": 13393,
     "status": "ok",
     "timestamp": 1607523714158,
     "user": {
      "displayName": "Federico Luzzi",
      "photoUrl": "",
      "userId": "07861939631567515659"
     },
     "user_tz": -60
    },
    "id": "EkDB8J0-1BlV"
   },
   "outputs": [],
   "source": [
    "frame_length = 2048\n",
    "frame_step = 512\n",
    "num_mel_bins = 128\n",
    "num_spectrogram_bins = (frame_length // 2) + 1\n",
    "fmin = 0.0\n",
    "sample_rate = 44100\n",
    "fmax = sample_rate / 2\n",
    "\n",
    "\n",
    "def get_spectrogram(waveform):\n",
    "    # Padding for files with less than 16000 samples\n",
    "    zero_padding = tf.zeros([140000] - tf.shape(waveform), dtype=tf.float32) # NON SUPERARE I 3 SECONDI CON TIME STRETCH\n",
    "    # Concatenate audio with padding so that all audio clips will be of the \n",
    "    # same length\n",
    "    waveform = tf.cast(waveform, tf.float32)\n",
    "    equal_length = tf.concat([waveform, zero_padding], 0)\n",
    "    magnitude_spectrograms  = tf.signal.stft(\n",
    "      equal_length, frame_length, frame_step)\n",
    "    magnitude_spectrograms  = tf.abs(magnitude_spectrograms)\n",
    "    \n",
    "    # Step: magnitude_spectrograms->mel_spectrograms\n",
    "    # Warp the linear-scale, magnitude spectrograms into the mel-scale.\n",
    "    num_spectrogram_bins = magnitude_spectrograms.shape[-1]\n",
    "\n",
    "\n",
    "    linear_to_mel_weight_matrix = tf.signal.linear_to_mel_weight_matrix(\n",
    "        num_mel_bins, num_spectrogram_bins, sample_rate, fmin,\n",
    "        fmax)\n",
    "\n",
    "    mel_spectrograms = tf.tensordot(\n",
    "        magnitude_spectrograms, linear_to_mel_weight_matrix, 1)\n",
    "\n",
    "    mel_spectrograms.set_shape(magnitude_spectrograms.shape[:-1].concatenate(\n",
    "  linear_to_mel_weight_matrix.shape[-1:]))\n",
    "\n",
    "    # Compute a stabilized log to get log-magnitude mel-scale spectrograms.\n",
    "    log_mel_spectrograms = tf.math.log(mel_spectrograms + 1e-6)\n",
    "\n",
    "    # Compute MFCCs from log_mel_spectrograms and take the first 13.\n",
    "    #mfccs = tf.signal.mfccs_from_log_mel_spectrograms(\n",
    "    #  log_mel_spectrograms)[..., :75]\n",
    "  \n",
    "    return log_mel_spectrograms"
   ]
  },
  {
   "cell_type": "code",
   "execution_count": 10,
   "metadata": {
    "executionInfo": {
     "elapsed": 13389,
     "status": "ok",
     "timestamp": 1607523714158,
     "user": {
      "displayName": "Federico Luzzi",
      "photoUrl": "",
      "userId": "07861939631567515659"
     },
     "user_tz": -60
    },
    "id": "51hCVma61BlX"
   },
   "outputs": [],
   "source": [
    "# VERSIONE PROSTAZIA\n",
    "#def plot_spectrogram(spectrogram, label, class_path, i):\n",
    "#  fig, ax = plt.subplots(figsize=(20,20))\n",
    "#  mfcc_data= np.swapaxes(spectrogram, 0 ,1)\n",
    "#  cax = ax.imshow(mfcc_data, interpolation='nearest', cmap=cm.coolwarm, origin='lower')\n",
    "#  ax.axis(\"off\")\n",
    "#  fig.savefig('data\\dataset\\mels{}\\mel_{}_{}.png'.format(class_path.split(\"data\\dataset\\data_final\")[1], label, i), bbox_inches='tight', pad_inches=0, dpi=300)"
   ]
  },
  {
   "cell_type": "code",
   "execution_count": 11,
   "metadata": {
    "executionInfo": {
     "elapsed": 823,
     "status": "ok",
     "timestamp": 1607524971787,
     "user": {
      "displayName": "Federico Luzzi",
      "photoUrl": "",
      "userId": "07861939631567515659"
     },
     "user_tz": -60
    },
    "id": "zv-CmqJj1r5P"
   },
   "outputs": [],
   "source": [
    "# VERSIONE FEDOUS\n",
    "def draw_spectrogram(spectrogram, output_dir_path, i):\n",
    "    fig, ax = plt.subplots(figsize=(20,20))\n",
    "    mfcc_data= np.swapaxes(spectrogram, 0 ,1)\n",
    "    cax = ax.imshow(mfcc_data, interpolation='nearest', cmap=cm.coolwarm, origin='lower')\n",
    "    ax.axis(\"off\")\n",
    "    fig.savefig(f'{output_dir_path}/mel_{i}.png', bbox_inches='tight', pad_inches=0, dpi=300)\n",
    "    plt.close()\n",
    "  "
   ]
  },
  {
   "cell_type": "markdown",
   "metadata": {
    "id": "ioTzKnMa1BlX"
   },
   "source": [
    "### Split in Train - Val - Test"
   ]
  },
  {
   "cell_type": "code",
   "execution_count": 12,
   "metadata": {
    "colab": {
     "base_uri": "https://localhost:8080/"
    },
    "executionInfo": {
     "elapsed": 16013,
     "status": "ok",
     "timestamp": 1607523716806,
     "user": {
      "displayName": "Federico Luzzi",
      "photoUrl": "",
      "userId": "07861939631567515659"
     },
     "user_tz": -60
    },
    "id": "HJ1iADGZupqs",
    "outputId": "fe33becc-b3fa-48aa-da31-c1207a9cb873"
   },
   "outputs": [],
   "source": [
    "#!pip install split-folders"
   ]
  },
  {
   "cell_type": "code",
   "execution_count": 13,
   "metadata": {
    "colab": {
     "base_uri": "https://localhost:8080/"
    },
    "executionInfo": {
     "elapsed": 15996,
     "status": "ok",
     "timestamp": 1607523716812,
     "user": {
      "displayName": "Federico Luzzi",
      "photoUrl": "",
      "userId": "07861939631567515659"
     },
     "user_tz": -60
    },
    "id": "CnilKs6UtNXK",
    "outputId": "5884966d-3fb4-42bf-df20-d03e8f91e213"
   },
   "outputs": [
    {
     "name": "stderr",
     "output_type": "stream",
     "text": [
      "Copying files: 354 files [00:00, 774.05 files/s]\n"
     ]
    }
   ],
   "source": [
    "import splitfolders\n",
    "splitfolders.ratio(\"data/data_final\", output=\"data/split\", seed=1337, ratio=(.7, .1, .2))"
   ]
  },
  {
   "cell_type": "markdown",
   "metadata": {
    "id": "uiN5NHo4w-FQ"
   },
   "source": [
    "### Data Augmentation"
   ]
  },
  {
   "cell_type": "code",
   "execution_count": 14,
   "metadata": {
    "executionInfo": {
     "elapsed": 15988,
     "status": "ok",
     "timestamp": 1607523716814,
     "user": {
      "displayName": "Federico Luzzi",
      "photoUrl": "",
      "userId": "07861939631567515659"
     },
     "user_tz": -60
    },
    "id": "OcZJ-JrXqw5D"
   },
   "outputs": [],
   "source": [
    "from audiomentations import Compose, AddGaussianNoise, PitchShift, Normalize, FrequencyMask\n",
    "import numpy as np\n",
    "import soundfile as sf\n",
    "import librosa"
   ]
  },
  {
   "cell_type": "code",
   "execution_count": 15,
   "metadata": {
    "executionInfo": {
     "elapsed": 15980,
     "status": "ok",
     "timestamp": 1607523716816,
     "user": {
      "displayName": "Federico Luzzi",
      "photoUrl": "",
      "userId": "07861939631567515659"
     },
     "user_tz": -60
    },
    "id": "RUq4zfaW1BlY"
   },
   "outputs": [],
   "source": [
    "augm_01 = Compose([\n",
    "    AddGaussianNoise(min_amplitude=0.001, max_amplitude=0.015, p=1)\n",
    "])\n",
    "\n",
    "augm_02 = Compose([\n",
    "    PitchShift(min_semitones=-4, max_semitones=4, p=1)\n",
    "])\n",
    "\n",
    "augm_03 = Compose([\n",
    "    Normalize(p=1)\n",
    "])\n",
    "\n",
    "aug_l = [augm_01, augm_02, augm_03]"
   ]
  },
  {
   "cell_type": "code",
   "execution_count": 16,
   "metadata": {
    "executionInfo": {
     "elapsed": 15969,
     "status": "ok",
     "timestamp": 1607523716818,
     "user": {
      "displayName": "Federico Luzzi",
      "photoUrl": "",
      "userId": "07861939631567515659"
     },
     "user_tz": -60
    },
    "id": "_sinfp6v1BlZ"
   },
   "outputs": [],
   "source": [
    "def augmentation(path, augment):\n",
    "    y, sr = librosa.load(path)\n",
    "    augmented_samples = augment(samples=y, sample_rate=sr)\n",
    "    return augmented_samples, sr"
   ]
  },
  {
   "cell_type": "code",
   "execution_count": 17,
   "metadata": {
    "colab": {
     "base_uri": "https://localhost:8080/"
    },
    "executionInfo": {
     "elapsed": 104180,
     "status": "ok",
     "timestamp": 1607523805055,
     "user": {
      "displayName": "Federico Luzzi",
      "photoUrl": "",
      "userId": "07861939631567515659"
     },
     "user_tz": -60
    },
    "id": "_48siQBQ1BlZ",
    "outputId": "a1a57e58-35e5-42a7-ca9a-e541c41de720",
    "scrolled": true
   },
   "outputs": [
    {
     "name": "stdout",
     "output_type": "stream",
     "text": [
      "AUGMENTATION on data/split/train\n",
      "data\\split\\train\\Alces_alces\n",
      "data\\split\\train\\Bos_taurus\n",
      "data\\split\\train\\Cervus_elaphus\n",
      "data\\split\\train\\Equus_caballus\n",
      "data\\split\\train\\Lutra_lutra\n",
      "data\\split\\train\\Ovis\n",
      "data\\split\\train\\Pan\n",
      "data\\split\\train\\Panthera_leo\n",
      "data\\split\\train\\Procyon\n",
      "data\\split\\train\\Vulpes\n",
      "AUGMENTATION on data/split/val\n",
      "data\\split\\val\\Alces_alces\n",
      "data\\split\\val\\Bos_taurus\n",
      "data\\split\\val\\Cervus_elaphus\n",
      "data\\split\\val\\Equus_caballus\n",
      "data\\split\\val\\Lutra_lutra\n",
      "data\\split\\val\\Ovis\n",
      "data\\split\\val\\Pan\n",
      "data\\split\\val\\Panthera_leo\n",
      "data\\split\\val\\Procyon\n",
      "data\\split\\val\\Vulpes\n"
     ]
    }
   ],
   "source": [
    "main_dirs = [\"data/split/train\"] #2 folders\n",
    "\n",
    "for main_dir in main_dirs:\n",
    "    print(f\"AUGMENTATION on {main_dir}\")\n",
    "    folders_pathlist = Path(main_dir).glob('*')\n",
    "\n",
    "    for path in folders_pathlist: # per ogni cartella nella lista\n",
    "        # because path is object not string\n",
    "        class_path = str(path)\n",
    "        print(class_path)\n",
    "        wav_pathlist = Path(class_path).glob('./' + ('[0-9]' * 2) + \".wav\")\n",
    "        i = 300\n",
    "        for w_path in wav_pathlist: # per ogni file audio\n",
    "            #print(w_path)\n",
    "            wav_path = str(w_path)\n",
    "            label = get_label(wav_path)\n",
    "            for aug in aug_l: # per ogni data augmentation da applicare\n",
    "                augmented_samples, sr = augmentation(wav_path, aug)\n",
    "                #print('{}/{}/{}.wav'.format(label,i)) #300 in avanti\n",
    "                sf.write('{}/{}/{}.wav'.format(main_dir,label,i), augmented_samples, sr)\n",
    "                i +=1\n"
   ]
  },
  {
   "cell_type": "code",
   "execution_count": 18,
   "metadata": {
    "executionInfo": {
     "elapsed": 104171,
     "status": "ok",
     "timestamp": 1607523805078,
     "user": {
      "displayName": "Federico Luzzi",
      "photoUrl": "",
      "userId": "07861939631567515659"
     },
     "user_tz": -60
    },
    "id": "kZPx_XrF1Bla"
   },
   "outputs": [],
   "source": [
    "\n",
    "#try:\n",
    "#    os.makedirs('data/dataset/mels')\n",
    "#except:\n",
    "#    print(\"Folder already exists, deleting its content to replace them with new ones.\")\n",
    "#    shutil.rmtree('data/dataset/mels')\n",
    "#    os.makedirs('data/dataset/mels')"
   ]
  },
  {
   "cell_type": "markdown",
   "metadata": {
    "id": "HXixs9N0w5rT"
   },
   "source": [
    "### Wav -> MEL"
   ]
  },
  {
   "cell_type": "code",
   "execution_count": 19,
   "metadata": {},
   "outputs": [],
   "source": [
    "#Define function to apply SpecAugment to wav files\n",
    "\n",
    "def spec_augment(spec: np.ndarray, num_mask=1, \n",
    "                 freq_masking_max_percentage=0.15, time_masking_max_percentage=0.05):\n",
    "\n",
    "    spec = spec.copy()\n",
    "    for i in range(num_mask):\n",
    "        all_frames_num, all_freqs_num = spec.shape\n",
    "        freq_percentage = random.uniform(0.05, freq_masking_max_percentage)\n",
    "        \n",
    "        num_freqs_to_mask = int(freq_percentage * all_freqs_num)\n",
    "        f0 = np.random.uniform(low=0.02, high=all_freqs_num - num_freqs_to_mask)\n",
    "        f0 = int(f0)\n",
    "        #Set band to 0\n",
    "        spec[:, f0:f0 + num_freqs_to_mask] = 0\n",
    "\n",
    "        time_percentage = random.uniform(0.0, time_masking_max_percentage)\n",
    "        \n",
    "        num_frames_to_mask = int(time_percentage * all_frames_num)\n",
    "        t0 = np.random.uniform(low=0.0, high=all_frames_num - num_frames_to_mask)\n",
    "        t0 = int(t0)\n",
    "        #Set band to 0\n",
    "        spec[t0:t0 + num_frames_to_mask, :] = 0\n",
    "    \n",
    "    return spec"
   ]
  },
  {
   "cell_type": "code",
   "execution_count": 20,
   "metadata": {
    "executionInfo": {
     "elapsed": 104166,
     "status": "ok",
     "timestamp": 1607523805080,
     "user": {
      "displayName": "Federico Luzzi",
      "photoUrl": "",
      "userId": "07861939631567515659"
     },
     "user_tz": -60
    },
    "id": "QRlF5FChxucN"
   },
   "outputs": [],
   "source": [
    "input_dirs = [\"data/split/train\", \"data/split/val\", \"data/split/test\"] \n",
    "output_dirs = [\"data_mel/train\", \"data_mel/val\", \"data_mel/test\"] \n",
    "\n",
    "if not os.path.exists('data_mel'):\n",
    "    os.makedirs('data_mel')\n",
    "for output_dir in output_dirs:\n",
    "  if not os.path.exists(output_dir):\n",
    "    os.makedirs(output_dir) "
   ]
  },
  {
   "cell_type": "code",
   "execution_count": 21,
   "metadata": {
    "colab": {
     "background_save": true,
     "base_uri": "https://localhost:8080/",
     "height": 0,
     "output_embedded_package_id": "11H-GsmkbYc0pSpbvg5cMnEPevqRmwmkb"
    },
    "id": "zKVzfaY0x8zc",
    "outputId": "f837d2c7-658a-428b-837c-e8ba52ab32b0"
   },
   "outputs": [
    {
     "name": "stderr",
     "output_type": "stream",
     "text": [
      "ERROR:root:Internal Python error in the inspect module.\n",
      "Below is the traceback from this internal error.\n",
      "\n"
     ]
    },
    {
     "name": "stdout",
     "output_type": "stream",
     "text": [
      "KeyboardInterrupt\n",
      "\n",
      "The above exception was the direct cause of the following exception:\n",
      "\n",
      "SystemError: <built-in method write of _io.BufferedWriter object at 0x0000013EA3346F68> returned a result with an error set\n",
      "\n",
      "The above exception was the direct cause of the following exception:\n",
      "\n",
      "SystemError: <built-in method write of _io.BufferedWriter object at 0x0000013EA3346F68> returned a result with an error set\n",
      "\n",
      "The above exception was the direct cause of the following exception:\n",
      "\n",
      "SystemError: <built-in method write of _io.FileIO object at 0x0000013EA3343F48> returned a result with an error set\n",
      "\n",
      "The above exception was the direct cause of the following exception:\n",
      "\n",
      "SystemError: <built-in method write of _io.BufferedWriter object at 0x0000013EA3346F68> returned a result with an error set\n",
      "\n",
      "The above exception was the direct cause of the following exception:\n",
      "\n",
      "SystemError: <built-in method write of _io.BufferedWriter object at 0x0000013EA3346F68> returned a result with an error set\n",
      "\n",
      "The above exception was the direct cause of the following exception:\n",
      "\n",
      "SystemError: <built-in method write of _io.FileIO object at 0x0000013EA3343F48> returned a result with an error set\n",
      "\n",
      "The above exception was the direct cause of the following exception:\n",
      "\n",
      "SystemError: <built-in method write of _io.BufferedWriter object at 0x0000013EA3346F68> returned a result with an error set\n",
      "\n",
      "The above exception was the direct cause of the following exception:\n",
      "\n",
      "SystemError: <built-in method write of _io.BufferedWriter object at 0x0000013EA3346F68> returned a result with an error set\n",
      "\n",
      "The above exception was the direct cause of the following exception:\n",
      "\n",
      "SystemError: <built-in method write of _io.FileIO object at 0x0000013EA3343F48> returned a result with an error set\n",
      "\n",
      "The above exception was the direct cause of the following exception:\n",
      "\n",
      "SystemError: <built-in method write of _io.BufferedWriter object at 0x0000013EA3346F68> returned a result with an error set\n",
      "\n",
      "The above exception was the direct cause of the following exception:\n",
      "\n",
      "SystemError: <built-in method write of _io.BufferedWriter object at 0x0000013EA3346F68> returned a result with an error set\n",
      "\n",
      "The above exception was the direct cause of the following exception:\n",
      "\n",
      "SystemError: <built-in method write of _io.FileIO object at 0x0000013EA3343F48> returned a result with an error set\n",
      "\n",
      "The above exception was the direct cause of the following exception:\n",
      "\n",
      "SystemError: <built-in method write of _io.BufferedWriter object at 0x0000013EA3346F68> returned a result with an error set\n",
      "\n",
      "The above exception was the direct cause of the following exception:\n",
      "\n",
      "SystemError: <built-in method write of _io.BufferedWriter object at 0x0000013EA3346F68> returned a result with an error set\n",
      "\n",
      "The above exception was the direct cause of the following exception:\n",
      "\n",
      "SystemError: <built-in method write of _io.FileIO object at 0x0000013EA3343F48> returned a result with an error set\n",
      "\n",
      "The above exception was the direct cause of the following exception:\n",
      "\n",
      "SystemError: <built-in method write of _io.BufferedWriter object at 0x0000013EA3346F68> returned a result with an error set\n",
      "\n",
      "The above exception was the direct cause of the following exception:\n",
      "\n",
      "SystemError: <built-in method write of _io.BufferedWriter object at 0x0000013EA3346F68> returned a result with an error set\n",
      "\n",
      "The above exception was the direct cause of the following exception:\n",
      "\n",
      "SystemError: <built-in method write of _io.FileIO object at 0x0000013EA3343F48> returned a result with an error set\n",
      "\n",
      "The above exception was the direct cause of the following exception:\n",
      "\n",
      "SystemError: <built-in method write of _io.BufferedWriter object at 0x0000013EA3346F68> returned a result with an error set\n",
      "\n",
      "The above exception was the direct cause of the following exception:\n",
      "\n",
      "SystemError: <built-in method write of _io.BufferedWriter object at 0x0000013EA3346F68> returned a result with an error set\n",
      "\n",
      "The above exception was the direct cause of the following exception:\n",
      "\n",
      "SystemError: <built-in method write of _io.FileIO object at 0x0000013EA3343F48> returned a result with an error set\n",
      "\n",
      "The above exception was the direct cause of the following exception:\n",
      "\n",
      "SystemError: <built-in method write of _io.BufferedWriter object at 0x0000013EA3346F68> returned a result with an error set\n",
      "\n",
      "The above exception was the direct cause of the following exception:\n",
      "\n",
      "SystemError: <built-in method write of _io.BufferedWriter object at 0x0000013EA3346F68> returned a result with an error set\n",
      "\n",
      "The above exception was the direct cause of the following exception:\n",
      "\n",
      "SystemError: <built-in method write of _io.FileIO object at 0x0000013EA3343F48> returned a result with an error set\n",
      "\n",
      "The above exception was the direct cause of the following exception:\n",
      "\n",
      "SystemError: <built-in method write of _io.BufferedWriter object at 0x0000013EA3346F68> returned a result with an error set\n",
      "\n",
      "The above exception was the direct cause of the following exception:\n",
      "\n",
      "SystemError: <built-in method write of _io.BufferedWriter object at 0x0000013EA3346F68> returned a result with an error set\n",
      "\n",
      "The above exception was the direct cause of the following exception:\n",
      "\n",
      "SystemError: <built-in method write of _io.FileIO object at 0x0000013EA3343F48> returned a result with an error set\n",
      "\n",
      "The above exception was the direct cause of the following exception:\n",
      "\n",
      "SystemError: <built-in method write of _io.BufferedWriter object at 0x0000013EA3346F68> returned a result with an error set\n",
      "\n",
      "The above exception was the direct cause of the following exception:\n",
      "\n",
      "SystemError: <built-in method write of _io.BufferedWriter object at 0x0000013EA3346F68> returned a result with an error set\n",
      "\n",
      "The above exception was the direct cause of the following exception:\n",
      "\n",
      "SystemError: <built-in method write of _io.BufferedWriter object at 0x0000013EA3346F68> returned a result with an error set\n",
      "\n",
      "The above exception was the direct cause of the following exception:\n",
      "\n",
      "SystemError: <built-in method write of _io.BufferedWriter object at 0x0000013EA3346F68> returned a result with an error set\n",
      "\n",
      "The above exception was the direct cause of the following exception:\n",
      "\n",
      "SystemError: <built-in method write of _io.BufferedWriter object at 0x0000013EA3346F68> returned a result with an error set\n",
      "\n",
      "The above exception was the direct cause of the following exception:\n",
      "\n",
      "Traceback (most recent call last):\n",
      "  File \"C:\\Users\\feder\\anaconda3\\lib\\site-packages\\IPython\\core\\interactiveshell.py\", line 3331, in run_code\n",
      "    exec(code_obj, self.user_global_ns, self.user_ns)\n",
      "  File \"<ipython-input-21-18229118c855>\", line 19, in <module>\n",
      "    draw_spectrogram(mel, output_dir_path, j)\n",
      "  File \"<ipython-input-11-499b80a6ee71>\", line 7, in draw_spectrogram\n",
      "    fig.savefig(f'{output_dir_path}/mel_{i}.png', bbox_inches='tight', pad_inches=0, dpi=300)\n",
      "  File \"C:\\Users\\feder\\anaconda3\\lib\\site-packages\\matplotlib\\figure.py\", line 2180, in savefig\n",
      "    self.canvas.print_figure(fname, **kwargs)\n",
      "  File \"C:\\Users\\feder\\anaconda3\\lib\\site-packages\\matplotlib\\backend_bases.py\", line 2091, in print_figure\n",
      "    **kwargs)\n",
      "  File \"C:\\Users\\feder\\anaconda3\\lib\\site-packages\\matplotlib\\backends\\backend_agg.py\", line 532, in print_png\n",
      "    self.figure.dpi, metadata=metadata)\n",
      "SystemError: <built-in method write of _io.BufferedWriter object at 0x0000013EA3346F68> returned a result with an error set\n",
      "\n",
      "During handling of the above exception, another exception occurred:\n",
      "\n",
      "Traceback (most recent call last):\n",
      "  File \"C:\\Users\\feder\\anaconda3\\lib\\site-packages\\IPython\\core\\interactiveshell.py\", line 2044, in showtraceback\n",
      "    stb = value._render_traceback_()\n",
      "AttributeError: 'SystemError' object has no attribute '_render_traceback_'\n",
      "\n",
      "During handling of the above exception, another exception occurred:\n",
      "\n",
      "Traceback (most recent call last):\n",
      "  File \"C:\\Users\\feder\\anaconda3\\lib\\site-packages\\IPython\\core\\ultratb.py\", line 1151, in get_records\n",
      "    return _fixed_getinnerframes(etb, number_of_lines_of_context, tb_offset)\n",
      "  File \"C:\\Users\\feder\\anaconda3\\lib\\site-packages\\IPython\\core\\ultratb.py\", line 319, in wrapped\n",
      "    return f(*args, **kwargs)\n",
      "  File \"C:\\Users\\feder\\anaconda3\\lib\\site-packages\\IPython\\core\\ultratb.py\", line 353, in _fixed_getinnerframes\n",
      "    records = fix_frame_records_filenames(inspect.getinnerframes(etb, context))\n",
      "  File \"C:\\Users\\feder\\anaconda3\\lib\\inspect.py\", line 1502, in getinnerframes\n",
      "    frameinfo = (tb.tb_frame,) + getframeinfo(tb, context)\n",
      "  File \"C:\\Users\\feder\\anaconda3\\lib\\inspect.py\", line 1460, in getframeinfo\n",
      "    filename = getsourcefile(frame) or getfile(frame)\n",
      "  File \"C:\\Users\\feder\\anaconda3\\lib\\inspect.py\", line 696, in getsourcefile\n",
      "    if getattr(getmodule(object, filename), '__loader__', None) is not None:\n",
      "  File \"C:\\Users\\feder\\anaconda3\\lib\\inspect.py\", line 739, in getmodule\n",
      "    f = getabsfile(module)\n",
      "  File \"C:\\Users\\feder\\anaconda3\\lib\\inspect.py\", line 708, in getabsfile\n",
      "    _filename = getsourcefile(object) or getfile(object)\n",
      "  File \"C:\\Users\\feder\\anaconda3\\lib\\inspect.py\", line 693, in getsourcefile\n",
      "    if os.path.exists(filename):\n",
      "  File \"C:\\Users\\feder\\anaconda3\\lib\\genericpath.py\", line 19, in exists\n",
      "    os.stat(path)\n",
      "KeyboardInterrupt\n"
     ]
    },
    {
     "ename": "TypeError",
     "evalue": "can only concatenate str (not \"list\") to str",
     "output_type": "error",
     "traceback": [
      "\u001b[1;31m---------------------------------------------------------------------------\u001b[0m",
      "\u001b[1;31mKeyboardInterrupt\u001b[0m                         Traceback (most recent call last)",
      "\u001b[1;31mKeyboardInterrupt\u001b[0m: ",
      "\nThe above exception was the direct cause of the following exception:\n",
      "\u001b[1;31mSystemError\u001b[0m                               Traceback (most recent call last)",
      "\u001b[1;31mSystemError\u001b[0m: <built-in method write of _io.BufferedWriter object at 0x0000013EA3346F68> returned a result with an error set",
      "\nThe above exception was the direct cause of the following exception:\n",
      "\u001b[1;31mSystemError\u001b[0m                               Traceback (most recent call last)",
      "\u001b[1;31mSystemError\u001b[0m: <built-in method write of _io.BufferedWriter object at 0x0000013EA3346F68> returned a result with an error set",
      "\nThe above exception was the direct cause of the following exception:\n",
      "\u001b[1;31mSystemError\u001b[0m                               Traceback (most recent call last)",
      "\u001b[1;31mSystemError\u001b[0m: <built-in method write of _io.FileIO object at 0x0000013EA3343F48> returned a result with an error set",
      "\nThe above exception was the direct cause of the following exception:\n",
      "\u001b[1;31mSystemError\u001b[0m                               Traceback (most recent call last)",
      "\u001b[1;31mSystemError\u001b[0m: <built-in method write of _io.BufferedWriter object at 0x0000013EA3346F68> returned a result with an error set",
      "\nThe above exception was the direct cause of the following exception:\n",
      "\u001b[1;31mSystemError\u001b[0m                               Traceback (most recent call last)",
      "\u001b[1;31mSystemError\u001b[0m: <built-in method write of _io.BufferedWriter object at 0x0000013EA3346F68> returned a result with an error set",
      "\nThe above exception was the direct cause of the following exception:\n",
      "\u001b[1;31mSystemError\u001b[0m                               Traceback (most recent call last)",
      "\u001b[1;31mSystemError\u001b[0m: <built-in method write of _io.FileIO object at 0x0000013EA3343F48> returned a result with an error set",
      "\nThe above exception was the direct cause of the following exception:\n",
      "\u001b[1;31mSystemError\u001b[0m                               Traceback (most recent call last)",
      "\u001b[1;31mSystemError\u001b[0m: <built-in method write of _io.BufferedWriter object at 0x0000013EA3346F68> returned a result with an error set",
      "\nThe above exception was the direct cause of the following exception:\n",
      "\u001b[1;31mSystemError\u001b[0m                               Traceback (most recent call last)",
      "\u001b[1;31mSystemError\u001b[0m: <built-in method write of _io.BufferedWriter object at 0x0000013EA3346F68> returned a result with an error set",
      "\nThe above exception was the direct cause of the following exception:\n",
      "\u001b[1;31mSystemError\u001b[0m                               Traceback (most recent call last)",
      "\u001b[1;31mSystemError\u001b[0m: <built-in method write of _io.FileIO object at 0x0000013EA3343F48> returned a result with an error set",
      "\nThe above exception was the direct cause of the following exception:\n",
      "\u001b[1;31mSystemError\u001b[0m                               Traceback (most recent call last)",
      "\u001b[1;31mSystemError\u001b[0m: <built-in method write of _io.BufferedWriter object at 0x0000013EA3346F68> returned a result with an error set",
      "\nThe above exception was the direct cause of the following exception:\n",
      "\u001b[1;31mSystemError\u001b[0m                               Traceback (most recent call last)",
      "\u001b[1;31mSystemError\u001b[0m: <built-in method write of _io.BufferedWriter object at 0x0000013EA3346F68> returned a result with an error set",
      "\nThe above exception was the direct cause of the following exception:\n",
      "\u001b[1;31mSystemError\u001b[0m                               Traceback (most recent call last)",
      "\u001b[1;31mSystemError\u001b[0m: <built-in method write of _io.FileIO object at 0x0000013EA3343F48> returned a result with an error set",
      "\nThe above exception was the direct cause of the following exception:\n",
      "\u001b[1;31mSystemError\u001b[0m                               Traceback (most recent call last)",
      "\u001b[1;31mSystemError\u001b[0m: <built-in method write of _io.BufferedWriter object at 0x0000013EA3346F68> returned a result with an error set",
      "\nThe above exception was the direct cause of the following exception:\n",
      "\u001b[1;31mSystemError\u001b[0m                               Traceback (most recent call last)",
      "\u001b[1;31mSystemError\u001b[0m: <built-in method write of _io.BufferedWriter object at 0x0000013EA3346F68> returned a result with an error set",
      "\nThe above exception was the direct cause of the following exception:\n",
      "\u001b[1;31mSystemError\u001b[0m                               Traceback (most recent call last)",
      "\u001b[1;31mSystemError\u001b[0m: <built-in method write of _io.FileIO object at 0x0000013EA3343F48> returned a result with an error set",
      "\nThe above exception was the direct cause of the following exception:\n",
      "\u001b[1;31mSystemError\u001b[0m                               Traceback (most recent call last)",
      "\u001b[1;31mSystemError\u001b[0m: <built-in method write of _io.BufferedWriter object at 0x0000013EA3346F68> returned a result with an error set",
      "\nThe above exception was the direct cause of the following exception:\n",
      "\u001b[1;31mSystemError\u001b[0m                               Traceback (most recent call last)",
      "\u001b[1;31mSystemError\u001b[0m: <built-in method write of _io.BufferedWriter object at 0x0000013EA3346F68> returned a result with an error set",
      "\nThe above exception was the direct cause of the following exception:\n",
      "\u001b[1;31mSystemError\u001b[0m                               Traceback (most recent call last)",
      "\u001b[1;31mSystemError\u001b[0m: <built-in method write of _io.FileIO object at 0x0000013EA3343F48> returned a result with an error set",
      "\nThe above exception was the direct cause of the following exception:\n",
      "\u001b[1;31mSystemError\u001b[0m                               Traceback (most recent call last)",
      "\u001b[1;31mSystemError\u001b[0m: <built-in method write of _io.BufferedWriter object at 0x0000013EA3346F68> returned a result with an error set",
      "\nThe above exception was the direct cause of the following exception:\n",
      "\u001b[1;31mSystemError\u001b[0m                               Traceback (most recent call last)",
      "\u001b[1;31mSystemError\u001b[0m: <built-in method write of _io.BufferedWriter object at 0x0000013EA3346F68> returned a result with an error set",
      "\nThe above exception was the direct cause of the following exception:\n",
      "\u001b[1;31mSystemError\u001b[0m                               Traceback (most recent call last)",
      "\u001b[1;31mSystemError\u001b[0m: <built-in method write of _io.FileIO object at 0x0000013EA3343F48> returned a result with an error set",
      "\nThe above exception was the direct cause of the following exception:\n",
      "\u001b[1;31mSystemError\u001b[0m                               Traceback (most recent call last)",
      "\u001b[1;31mSystemError\u001b[0m: <built-in method write of _io.BufferedWriter object at 0x0000013EA3346F68> returned a result with an error set",
      "\nThe above exception was the direct cause of the following exception:\n",
      "\u001b[1;31mSystemError\u001b[0m                               Traceback (most recent call last)",
      "\u001b[1;31mSystemError\u001b[0m: <built-in method write of _io.BufferedWriter object at 0x0000013EA3346F68> returned a result with an error set",
      "\nThe above exception was the direct cause of the following exception:\n",
      "\u001b[1;31mSystemError\u001b[0m                               Traceback (most recent call last)",
      "\u001b[1;31mSystemError\u001b[0m: <built-in method write of _io.FileIO object at 0x0000013EA3343F48> returned a result with an error set",
      "\nThe above exception was the direct cause of the following exception:\n",
      "\u001b[1;31mSystemError\u001b[0m                               Traceback (most recent call last)",
      "\u001b[1;31mSystemError\u001b[0m: <built-in method write of _io.BufferedWriter object at 0x0000013EA3346F68> returned a result with an error set",
      "\nThe above exception was the direct cause of the following exception:\n",
      "\u001b[1;31mSystemError\u001b[0m                               Traceback (most recent call last)",
      "\u001b[1;31mSystemError\u001b[0m: <built-in method write of _io.BufferedWriter object at 0x0000013EA3346F68> returned a result with an error set",
      "\nThe above exception was the direct cause of the following exception:\n",
      "\u001b[1;31mSystemError\u001b[0m                               Traceback (most recent call last)",
      "\u001b[1;31mSystemError\u001b[0m: <built-in method write of _io.FileIO object at 0x0000013EA3343F48> returned a result with an error set",
      "\nThe above exception was the direct cause of the following exception:\n",
      "\u001b[1;31mSystemError\u001b[0m                               Traceback (most recent call last)",
      "\u001b[1;31mSystemError\u001b[0m: <built-in method write of _io.BufferedWriter object at 0x0000013EA3346F68> returned a result with an error set",
      "\nThe above exception was the direct cause of the following exception:\n",
      "\u001b[1;31mSystemError\u001b[0m                               Traceback (most recent call last)",
      "\u001b[1;31mSystemError\u001b[0m: <built-in method write of _io.BufferedWriter object at 0x0000013EA3346F68> returned a result with an error set",
      "\nThe above exception was the direct cause of the following exception:\n",
      "\u001b[1;31mSystemError\u001b[0m                               Traceback (most recent call last)",
      "\u001b[1;31mSystemError\u001b[0m: <built-in method write of _io.BufferedWriter object at 0x0000013EA3346F68> returned a result with an error set",
      "\nThe above exception was the direct cause of the following exception:\n",
      "\u001b[1;31mSystemError\u001b[0m                               Traceback (most recent call last)",
      "\u001b[1;31mSystemError\u001b[0m: <built-in method write of _io.BufferedWriter object at 0x0000013EA3346F68> returned a result with an error set",
      "\nThe above exception was the direct cause of the following exception:\n",
      "\u001b[1;31mSystemError\u001b[0m                               Traceback (most recent call last)",
      "\u001b[1;31mSystemError\u001b[0m: <built-in method write of _io.BufferedWriter object at 0x0000013EA3346F68> returned a result with an error set",
      "\nThe above exception was the direct cause of the following exception:\n",
      "\u001b[1;31mSystemError\u001b[0m                               Traceback (most recent call last)",
      "\u001b[1;32m~\\anaconda3\\lib\\site-packages\\IPython\\core\\interactiveshell.py\u001b[0m in \u001b[0;36mrun_code\u001b[1;34m(self, code_obj, result, async_)\u001b[0m\n\u001b[0;32m   3330\u001b[0m                 \u001b[1;32melse\u001b[0m\u001b[1;33m:\u001b[0m\u001b[1;33m\u001b[0m\u001b[1;33m\u001b[0m\u001b[0m\n\u001b[1;32m-> 3331\u001b[1;33m                     \u001b[0mexec\u001b[0m\u001b[1;33m(\u001b[0m\u001b[0mcode_obj\u001b[0m\u001b[1;33m,\u001b[0m \u001b[0mself\u001b[0m\u001b[1;33m.\u001b[0m\u001b[0muser_global_ns\u001b[0m\u001b[1;33m,\u001b[0m \u001b[0mself\u001b[0m\u001b[1;33m.\u001b[0m\u001b[0muser_ns\u001b[0m\u001b[1;33m)\u001b[0m\u001b[1;33m\u001b[0m\u001b[1;33m\u001b[0m\u001b[0m\n\u001b[0m\u001b[0;32m   3332\u001b[0m             \u001b[1;32mfinally\u001b[0m\u001b[1;33m:\u001b[0m\u001b[1;33m\u001b[0m\u001b[1;33m\u001b[0m\u001b[0m\n",
      "\u001b[1;32m<ipython-input-21-18229118c855>\u001b[0m in \u001b[0;36m<module>\u001b[1;34m\u001b[0m\n\u001b[0;32m     18\u001b[0m             \u001b[0mmel\u001b[0m \u001b[1;33m=\u001b[0m \u001b[0mget_spectrogram\u001b[0m\u001b[1;33m(\u001b[0m\u001b[0mwave\u001b[0m\u001b[1;33m)\u001b[0m\u001b[1;33m\u001b[0m\u001b[1;33m\u001b[0m\u001b[0m\n\u001b[1;32m---> 19\u001b[1;33m             \u001b[0mdraw_spectrogram\u001b[0m\u001b[1;33m(\u001b[0m\u001b[0mmel\u001b[0m\u001b[1;33m,\u001b[0m \u001b[0moutput_dir_path\u001b[0m\u001b[1;33m,\u001b[0m \u001b[0mj\u001b[0m\u001b[1;33m)\u001b[0m\u001b[1;33m\u001b[0m\u001b[1;33m\u001b[0m\u001b[0m\n\u001b[0m\u001b[0;32m     20\u001b[0m             \u001b[0mj\u001b[0m \u001b[1;33m+=\u001b[0m \u001b[1;36m1\u001b[0m\u001b[1;33m\u001b[0m\u001b[1;33m\u001b[0m\u001b[0m\n",
      "\u001b[1;32m<ipython-input-11-499b80a6ee71>\u001b[0m in \u001b[0;36mdraw_spectrogram\u001b[1;34m(spectrogram, output_dir_path, i)\u001b[0m\n\u001b[0;32m      6\u001b[0m     \u001b[0max\u001b[0m\u001b[1;33m.\u001b[0m\u001b[0maxis\u001b[0m\u001b[1;33m(\u001b[0m\u001b[1;34m\"off\"\u001b[0m\u001b[1;33m)\u001b[0m\u001b[1;33m\u001b[0m\u001b[1;33m\u001b[0m\u001b[0m\n\u001b[1;32m----> 7\u001b[1;33m     \u001b[0mfig\u001b[0m\u001b[1;33m.\u001b[0m\u001b[0msavefig\u001b[0m\u001b[1;33m(\u001b[0m\u001b[1;34mf'{output_dir_path}/mel_{i}.png'\u001b[0m\u001b[1;33m,\u001b[0m \u001b[0mbbox_inches\u001b[0m\u001b[1;33m=\u001b[0m\u001b[1;34m'tight'\u001b[0m\u001b[1;33m,\u001b[0m \u001b[0mpad_inches\u001b[0m\u001b[1;33m=\u001b[0m\u001b[1;36m0\u001b[0m\u001b[1;33m,\u001b[0m \u001b[0mdpi\u001b[0m\u001b[1;33m=\u001b[0m\u001b[1;36m300\u001b[0m\u001b[1;33m)\u001b[0m\u001b[1;33m\u001b[0m\u001b[1;33m\u001b[0m\u001b[0m\n\u001b[0m\u001b[0;32m      8\u001b[0m     \u001b[0mplt\u001b[0m\u001b[1;33m.\u001b[0m\u001b[0mclose\u001b[0m\u001b[1;33m(\u001b[0m\u001b[1;33m)\u001b[0m\u001b[1;33m\u001b[0m\u001b[1;33m\u001b[0m\u001b[0m\n",
      "\u001b[1;32m~\\anaconda3\\lib\\site-packages\\matplotlib\\figure.py\u001b[0m in \u001b[0;36msavefig\u001b[1;34m(self, fname, transparent, **kwargs)\u001b[0m\n\u001b[0;32m   2179\u001b[0m \u001b[1;33m\u001b[0m\u001b[0m\n\u001b[1;32m-> 2180\u001b[1;33m         \u001b[0mself\u001b[0m\u001b[1;33m.\u001b[0m\u001b[0mcanvas\u001b[0m\u001b[1;33m.\u001b[0m\u001b[0mprint_figure\u001b[0m\u001b[1;33m(\u001b[0m\u001b[0mfname\u001b[0m\u001b[1;33m,\u001b[0m \u001b[1;33m**\u001b[0m\u001b[0mkwargs\u001b[0m\u001b[1;33m)\u001b[0m\u001b[1;33m\u001b[0m\u001b[1;33m\u001b[0m\u001b[0m\n\u001b[0m\u001b[0;32m   2181\u001b[0m \u001b[1;33m\u001b[0m\u001b[0m\n",
      "\u001b[1;32m~\\anaconda3\\lib\\site-packages\\matplotlib\\backend_bases.py\u001b[0m in \u001b[0;36mprint_figure\u001b[1;34m(self, filename, dpi, facecolor, edgecolor, orientation, format, bbox_inches, **kwargs)\u001b[0m\n\u001b[0;32m   2090\u001b[0m                     \u001b[0mbbox_inches_restore\u001b[0m\u001b[1;33m=\u001b[0m\u001b[0m_bbox_inches_restore\u001b[0m\u001b[1;33m,\u001b[0m\u001b[1;33m\u001b[0m\u001b[1;33m\u001b[0m\u001b[0m\n\u001b[1;32m-> 2091\u001b[1;33m                     **kwargs)\n\u001b[0m\u001b[0;32m   2092\u001b[0m             \u001b[1;32mfinally\u001b[0m\u001b[1;33m:\u001b[0m\u001b[1;33m\u001b[0m\u001b[1;33m\u001b[0m\u001b[0m\n",
      "\u001b[1;32m~\\anaconda3\\lib\\site-packages\\matplotlib\\backends\\backend_agg.py\u001b[0m in \u001b[0;36mprint_png\u001b[1;34m(self, filename_or_obj, metadata, pil_kwargs, *args, **kwargs)\u001b[0m\n\u001b[0;32m    531\u001b[0m                 _png.write_png(renderer._renderer, fh,\n\u001b[1;32m--> 532\u001b[1;33m                                self.figure.dpi, metadata=metadata)\n\u001b[0m\u001b[0;32m    533\u001b[0m \u001b[1;33m\u001b[0m\u001b[0m\n",
      "\u001b[1;31mSystemError\u001b[0m: <built-in method write of _io.BufferedWriter object at 0x0000013EA3346F68> returned a result with an error set",
      "\nDuring handling of the above exception, another exception occurred:\n",
      "\u001b[1;31mAttributeError\u001b[0m                            Traceback (most recent call last)",
      "\u001b[1;32m~\\anaconda3\\lib\\site-packages\\IPython\\core\\interactiveshell.py\u001b[0m in \u001b[0;36mshowtraceback\u001b[1;34m(self, exc_tuple, filename, tb_offset, exception_only, running_compiled_code)\u001b[0m\n\u001b[0;32m   2043\u001b[0m                         \u001b[1;31m# in the engines. This should return a list of strings.\u001b[0m\u001b[1;33m\u001b[0m\u001b[1;33m\u001b[0m\u001b[1;33m\u001b[0m\u001b[0m\n\u001b[1;32m-> 2044\u001b[1;33m                         \u001b[0mstb\u001b[0m \u001b[1;33m=\u001b[0m \u001b[0mvalue\u001b[0m\u001b[1;33m.\u001b[0m\u001b[0m_render_traceback_\u001b[0m\u001b[1;33m(\u001b[0m\u001b[1;33m)\u001b[0m\u001b[1;33m\u001b[0m\u001b[1;33m\u001b[0m\u001b[0m\n\u001b[0m\u001b[0;32m   2045\u001b[0m                     \u001b[1;32mexcept\u001b[0m \u001b[0mException\u001b[0m\u001b[1;33m:\u001b[0m\u001b[1;33m\u001b[0m\u001b[1;33m\u001b[0m\u001b[0m\n",
      "\u001b[1;31mAttributeError\u001b[0m: 'SystemError' object has no attribute '_render_traceback_'",
      "\nDuring handling of the above exception, another exception occurred:\n",
      "\u001b[1;31mTypeError\u001b[0m                                 Traceback (most recent call last)",
      "\u001b[1;32m~\\anaconda3\\lib\\site-packages\\IPython\\core\\interactiveshell.py\u001b[0m in \u001b[0;36mrun_code\u001b[1;34m(self, code_obj, result, async_)\u001b[0m\n\u001b[0;32m   3346\u001b[0m             \u001b[1;32mif\u001b[0m \u001b[0mresult\u001b[0m \u001b[1;32mis\u001b[0m \u001b[1;32mnot\u001b[0m \u001b[1;32mNone\u001b[0m\u001b[1;33m:\u001b[0m\u001b[1;33m\u001b[0m\u001b[1;33m\u001b[0m\u001b[0m\n\u001b[0;32m   3347\u001b[0m                 \u001b[0mresult\u001b[0m\u001b[1;33m.\u001b[0m\u001b[0merror_in_exec\u001b[0m \u001b[1;33m=\u001b[0m \u001b[0msys\u001b[0m\u001b[1;33m.\u001b[0m\u001b[0mexc_info\u001b[0m\u001b[1;33m(\u001b[0m\u001b[1;33m)\u001b[0m\u001b[1;33m[\u001b[0m\u001b[1;36m1\u001b[0m\u001b[1;33m]\u001b[0m\u001b[1;33m\u001b[0m\u001b[1;33m\u001b[0m\u001b[0m\n\u001b[1;32m-> 3348\u001b[1;33m             \u001b[0mself\u001b[0m\u001b[1;33m.\u001b[0m\u001b[0mshowtraceback\u001b[0m\u001b[1;33m(\u001b[0m\u001b[0mrunning_compiled_code\u001b[0m\u001b[1;33m=\u001b[0m\u001b[1;32mTrue\u001b[0m\u001b[1;33m)\u001b[0m\u001b[1;33m\u001b[0m\u001b[1;33m\u001b[0m\u001b[0m\n\u001b[0m\u001b[0;32m   3349\u001b[0m         \u001b[1;32melse\u001b[0m\u001b[1;33m:\u001b[0m\u001b[1;33m\u001b[0m\u001b[1;33m\u001b[0m\u001b[0m\n\u001b[0;32m   3350\u001b[0m             \u001b[0moutflag\u001b[0m \u001b[1;33m=\u001b[0m \u001b[1;32mFalse\u001b[0m\u001b[1;33m\u001b[0m\u001b[1;33m\u001b[0m\u001b[0m\n",
      "\u001b[1;32m~\\anaconda3\\lib\\site-packages\\IPython\\core\\interactiveshell.py\u001b[0m in \u001b[0;36mshowtraceback\u001b[1;34m(self, exc_tuple, filename, tb_offset, exception_only, running_compiled_code)\u001b[0m\n\u001b[0;32m   2045\u001b[0m                     \u001b[1;32mexcept\u001b[0m \u001b[0mException\u001b[0m\u001b[1;33m:\u001b[0m\u001b[1;33m\u001b[0m\u001b[1;33m\u001b[0m\u001b[0m\n\u001b[0;32m   2046\u001b[0m                         stb = self.InteractiveTB.structured_traceback(etype,\n\u001b[1;32m-> 2047\u001b[1;33m                                             value, tb, tb_offset=tb_offset)\n\u001b[0m\u001b[0;32m   2048\u001b[0m \u001b[1;33m\u001b[0m\u001b[0m\n\u001b[0;32m   2049\u001b[0m                     \u001b[0mself\u001b[0m\u001b[1;33m.\u001b[0m\u001b[0m_showtraceback\u001b[0m\u001b[1;33m(\u001b[0m\u001b[0metype\u001b[0m\u001b[1;33m,\u001b[0m \u001b[0mvalue\u001b[0m\u001b[1;33m,\u001b[0m \u001b[0mstb\u001b[0m\u001b[1;33m)\u001b[0m\u001b[1;33m\u001b[0m\u001b[1;33m\u001b[0m\u001b[0m\n",
      "\u001b[1;32m~\\anaconda3\\lib\\site-packages\\IPython\\core\\ultratb.py\u001b[0m in \u001b[0;36mstructured_traceback\u001b[1;34m(self, etype, value, tb, tb_offset, number_of_lines_of_context)\u001b[0m\n\u001b[0;32m   1416\u001b[0m             \u001b[0mself\u001b[0m\u001b[1;33m.\u001b[0m\u001b[0mtb\u001b[0m \u001b[1;33m=\u001b[0m \u001b[0mtb\u001b[0m\u001b[1;33m\u001b[0m\u001b[1;33m\u001b[0m\u001b[0m\n\u001b[0;32m   1417\u001b[0m         return FormattedTB.structured_traceback(\n\u001b[1;32m-> 1418\u001b[1;33m             self, etype, value, tb, tb_offset, number_of_lines_of_context)\n\u001b[0m\u001b[0;32m   1419\u001b[0m \u001b[1;33m\u001b[0m\u001b[0m\n\u001b[0;32m   1420\u001b[0m \u001b[1;33m\u001b[0m\u001b[0m\n",
      "\u001b[1;32m~\\anaconda3\\lib\\site-packages\\IPython\\core\\ultratb.py\u001b[0m in \u001b[0;36mstructured_traceback\u001b[1;34m(self, etype, value, tb, tb_offset, number_of_lines_of_context)\u001b[0m\n\u001b[0;32m   1316\u001b[0m             \u001b[1;31m# Verbose modes need a full traceback\u001b[0m\u001b[1;33m\u001b[0m\u001b[1;33m\u001b[0m\u001b[1;33m\u001b[0m\u001b[0m\n\u001b[0;32m   1317\u001b[0m             return VerboseTB.structured_traceback(\n\u001b[1;32m-> 1318\u001b[1;33m                 \u001b[0mself\u001b[0m\u001b[1;33m,\u001b[0m \u001b[0metype\u001b[0m\u001b[1;33m,\u001b[0m \u001b[0mvalue\u001b[0m\u001b[1;33m,\u001b[0m \u001b[0mtb\u001b[0m\u001b[1;33m,\u001b[0m \u001b[0mtb_offset\u001b[0m\u001b[1;33m,\u001b[0m \u001b[0mnumber_of_lines_of_context\u001b[0m\u001b[1;33m\u001b[0m\u001b[1;33m\u001b[0m\u001b[0m\n\u001b[0m\u001b[0;32m   1319\u001b[0m             )\n\u001b[0;32m   1320\u001b[0m         \u001b[1;32melif\u001b[0m \u001b[0mmode\u001b[0m \u001b[1;33m==\u001b[0m \u001b[1;34m'Minimal'\u001b[0m\u001b[1;33m:\u001b[0m\u001b[1;33m\u001b[0m\u001b[1;33m\u001b[0m\u001b[0m\n",
      "\u001b[1;32m~\\anaconda3\\lib\\site-packages\\IPython\\core\\ultratb.py\u001b[0m in \u001b[0;36mstructured_traceback\u001b[1;34m(self, etype, evalue, etb, tb_offset, number_of_lines_of_context)\u001b[0m\n\u001b[0;32m   1184\u001b[0m         \u001b[0mexception\u001b[0m \u001b[1;33m=\u001b[0m \u001b[0mself\u001b[0m\u001b[1;33m.\u001b[0m\u001b[0mget_parts_of_chained_exception\u001b[0m\u001b[1;33m(\u001b[0m\u001b[0mevalue\u001b[0m\u001b[1;33m)\u001b[0m\u001b[1;33m\u001b[0m\u001b[1;33m\u001b[0m\u001b[0m\n\u001b[0;32m   1185\u001b[0m         \u001b[1;32mif\u001b[0m \u001b[0mexception\u001b[0m\u001b[1;33m:\u001b[0m\u001b[1;33m\u001b[0m\u001b[1;33m\u001b[0m\u001b[0m\n\u001b[1;32m-> 1186\u001b[1;33m             \u001b[0mformatted_exceptions\u001b[0m \u001b[1;33m+=\u001b[0m \u001b[0mself\u001b[0m\u001b[1;33m.\u001b[0m\u001b[0mprepare_chained_exception_message\u001b[0m\u001b[1;33m(\u001b[0m\u001b[0mevalue\u001b[0m\u001b[1;33m.\u001b[0m\u001b[0m__cause__\u001b[0m\u001b[1;33m)\u001b[0m\u001b[1;33m\u001b[0m\u001b[1;33m\u001b[0m\u001b[0m\n\u001b[0m\u001b[0;32m   1187\u001b[0m             \u001b[0metype\u001b[0m\u001b[1;33m,\u001b[0m \u001b[0mevalue\u001b[0m\u001b[1;33m,\u001b[0m \u001b[0metb\u001b[0m \u001b[1;33m=\u001b[0m \u001b[0mexception\u001b[0m\u001b[1;33m\u001b[0m\u001b[1;33m\u001b[0m\u001b[0m\n\u001b[0;32m   1188\u001b[0m         \u001b[1;32melse\u001b[0m\u001b[1;33m:\u001b[0m\u001b[1;33m\u001b[0m\u001b[1;33m\u001b[0m\u001b[0m\n",
      "\u001b[1;31mTypeError\u001b[0m: can only concatenate str (not \"list\") to str"
     ]
    }
   ],
   "source": [
    "# VERSIONE FEDOUS\n",
    "plt.ioff()\n",
    "for i in range(3): # per le 3 cartelle train-val-test\n",
    "    folds = os.listdir(f'{input_dirs[i]}/') # cartelle delle classi\n",
    "  \n",
    "    for fold in folds:\n",
    "        if not os.path.exists(f'{output_dirs[i]}/{fold}/'):\n",
    "            os.makedirs(f'{output_dirs[i]}/{fold}')\n",
    "        wav_files = (os.listdir(f'{input_dirs[i]}/{fold}/'))\n",
    "    \n",
    "        j = 0\n",
    "\n",
    "        for wav_file in wav_files: # per ogni file wav\n",
    "            wav_path = f'{input_dirs[i]}/{fold}/{wav_file}'\n",
    "            output_dir_path = f'{output_dirs[i]}/{fold}'\n",
    "            wave, _ = get_waveform(wav_path)\n",
    "            #label = get_label(wav_path)\n",
    "            mel = get_spectrogram(wave)\n",
    "            draw_spectrogram(mel, output_dir_path, j)\n",
    "            j += 1\n",
    "            #we now apply SpecAugment for the same wav if it is an original audio\n",
    "            if len(wav_path.split(\"/\")[-1]) == 6:\n",
    "                mel = get_spectrogram(wave)\n",
    "                warped_masked_spectrogram = spec_augment(mel.numpy())\n",
    "                draw_spectrogram(warped_masked_spectrogram, output_dir_path, j)\n",
    "                j += 1\n",
    "\n",
    "        print(f'{output_dirs[i]}/{fold}/ DONE')"
   ]
  },
  {
   "cell_type": "code",
   "execution_count": null,
   "metadata": {},
   "outputs": [],
   "source": []
  },
  {
   "cell_type": "code",
   "execution_count": null,
   "metadata": {
    "executionInfo": {
     "elapsed": 105734,
     "status": "aborted",
     "timestamp": 1607523806711,
     "user": {
      "displayName": "Federico Luzzi",
      "photoUrl": "",
      "userId": "07861939631567515659"
     },
     "user_tz": -60
    },
    "id": "WWa7Skg61Blb"
   },
   "outputs": [],
   "source": [
    "# VERSIONE PROSTAZIA\n",
    "#main_dir = \"data/dataset/data_final\"\n",
    "#folders_pathlist = Path(main_dir).glob('*')\n",
    "\n",
    "#for path in folders_pathlist:\n",
    "    # because path is object not string\n",
    "#    class_path = str(path)\n",
    "#    print(class_path)\n",
    "#    wav_pathlist = Path(class_path).glob('*')\n",
    "#    i = 0\n",
    "#    os.makedirs('data/dataset/mels/{}'.format(class_path.rsplit(\"data_final\\\\\")[1]))\n",
    "#    for w_path in wav_pathlist:\n",
    "#        wav_path = str(w_path)\n",
    "#        wave, _ = get_waveform(wav_path)\n",
    "#        label = get_label(wav_path)\n",
    "#        mel = get_spectrogram(wave)\n",
    "#        plot_spectrogram(mel, label, class_path, i)\n",
    "#        i +=1\n"
   ]
  },
  {
   "cell_type": "code",
   "execution_count": 23,
   "metadata": {
    "executionInfo": {
     "elapsed": 105729,
     "status": "aborted",
     "timestamp": 1607523806714,
     "user": {
      "displayName": "Federico Luzzi",
      "photoUrl": "",
      "userId": "07861939631567515659"
     },
     "user_tz": -60
    },
    "id": "CTr8Qb7i1Blb"
   },
   "outputs": [],
   "source": [
    "#Divide dataset in train val test"
   ]
  },
  {
   "cell_type": "code",
   "execution_count": 24,
   "metadata": {
    "executionInfo": {
     "elapsed": 105725,
     "status": "aborted",
     "timestamp": 1607523806716,
     "user": {
      "displayName": "Federico Luzzi",
      "photoUrl": "",
      "userId": "07861939631567515659"
     },
     "user_tz": -60
    },
    "id": "AayTfyE81Blc"
   },
   "outputs": [],
   "source": [
    "#import splitfolders"
   ]
  },
  {
   "cell_type": "code",
   "execution_count": 25,
   "metadata": {
    "executionInfo": {
     "elapsed": 105703,
     "status": "aborted",
     "timestamp": 1607523806718,
     "user": {
      "displayName": "Federico Luzzi",
      "photoUrl": "",
      "userId": "07861939631567515659"
     },
     "user_tz": -60
    },
    "id": "fQJ8Hpco1Blc"
   },
   "outputs": [],
   "source": [
    "#splitfolders.ratio(\"data/dataset/mels\", output=\"data/dataset/mel_final\", seed=1337, ratio=(.8, .1, .1)) # default values"
   ]
  },
  {
   "cell_type": "code",
   "execution_count": null,
   "metadata": {
    "executionInfo": {
     "elapsed": 105698,
     "status": "aborted",
     "timestamp": 1607523806719,
     "user": {
      "displayName": "Federico Luzzi",
      "photoUrl": "",
      "userId": "07861939631567515659"
     },
     "user_tz": -60
    },
    "id": "JFv_s4sW1Blc"
   },
   "outputs": [],
   "source": []
  }
 ],
 "metadata": {
  "colab": {
   "name": "mel_spectrograms.ipynb",
   "version": ""
  },
  "kernelspec": {
   "display_name": "Python 3",
   "language": "python",
   "name": "python3"
  },
  "language_info": {
   "codemirror_mode": {
    "name": "ipython",
    "version": 3
   },
   "file_extension": ".py",
   "mimetype": "text/x-python",
   "name": "python",
   "nbconvert_exporter": "python",
   "pygments_lexer": "ipython3",
   "version": "3.7.6"
  }
 },
 "nbformat": 4,
 "nbformat_minor": 1
}
