{
 "cells": [
  {
   "cell_type": "markdown",
   "metadata": {
    "id": "Go9C3uLL8Izc"
   },
   "source": [
    "## Setup\n",
    "\n",
    "Import necessary modules and dependencies."
   ]
  },
  {
   "cell_type": "code",
   "execution_count": 59,
   "metadata": {
    "colab": {
     "base_uri": "https://localhost:8080/"
    },
    "id": "dzLKpmZICaWN",
    "outputId": "08948f49-9545-42f1-e2b8-347a81dd181e"
   },
   "outputs": [
    {
     "name": "stdout",
     "output_type": "stream",
     "text": [
      "Default GPU Device: /device:GPU:0\n"
     ]
    }
   ],
   "source": [
    "import os\n",
    "import pathlib\n",
    "\n",
    "import matplotlib.pyplot as plt\n",
    "import numpy as np\n",
    "import seaborn as sns\n",
    "import tensorflow as tf\n",
    "\n",
    "from tensorflow.keras.layers.experimental import preprocessing\n",
    "from tensorflow.keras import layers\n",
    "from tensorflow.keras import models\n",
    "from tensorflow.keras.applications import inception_v3\n",
    "from IPython import display\n",
    "\n",
    "import matplotlib.pyplot as plt\n",
    "import numpy as np\n",
    "from matplotlib import cm\n",
    "\n",
    "\n",
    "# Set seed \n",
    "seed = 42\n",
    "tf.random.set_seed(seed)\n",
    "np.random.seed(seed)\n",
    "\n",
    "#check if gpu is used\n",
    "if tf.test.gpu_device_name():\n",
    "    print('Default GPU Device: {}'.format(tf.test.gpu_device_name()))\n",
    "else:\n",
    "    print(\"Please install GPU version of TF\")"
   ]
  },
  {
   "cell_type": "markdown",
   "metadata": {
    "id": "yR0EdgrLCaWR"
   },
   "source": [
    "## Import the Speech Commands dataset\n",
    "\n",
    "You'll write a script to download a portion of the [Speech Commands dataset](https://www.tensorflow.org/datasets/catalog/speech_commands). The original dataset consists of over 105,000 WAV audio files of people saying thirty different words. This data was collected by Google and released under a CC BY license, and you can help improve it by [contributing five minutes of your own voice](https://aiyprojects.withgoogle.com/open_speech_recording).\n",
    "\n",
    "You'll be using a portion of the dataset to save time with data loading. Extract the `mini_speech_commands.zip` and load it in using the `tf.data` API."
   ]
  },
  {
   "cell_type": "code",
   "execution_count": 2,
   "metadata": {
    "id": "2-rayb7-3Y0I"
   },
   "outputs": [],
   "source": [
    "data_dir = pathlib.Path('data/mini_speech_commands')\n",
    "if not data_dir.exists():\n",
    "  tf.keras.utils.get_file(\n",
    "      'mini_speech_commands.zip',\n",
    "      origin=\"http://storage.googleapis.com/download.tensorflow.org/data/mini_speech_commands.zip\",\n",
    "      extract=True,\n",
    "      cache_dir='.', cache_subdir='data')"
   ]
  },
  {
   "cell_type": "markdown",
   "metadata": {
    "id": "BgvFq3uYiS5G"
   },
   "source": [
    "Check basic statistics about the dataset."
   ]
  },
  {
   "cell_type": "code",
   "execution_count": 58,
   "metadata": {
    "colab": {
     "base_uri": "https://localhost:8080/"
    },
    "id": "70IBxSKxA1N9",
    "outputId": "e5f9fef2-7dd8-411d-93b0-bb0594175423"
   },
   "outputs": [
    {
     "name": "stdout",
     "output_type": "stream",
     "text": [
      "Commands: ['right' 'left' 'go' 'yes' 'up' 'down' 'stop' 'no']\n"
     ]
    }
   ],
   "source": [
    "commands = np.array(tf.io.gfile.listdir(str(data_dir)))\n",
    "commands = commands[commands != 'README.md']\n",
    "n_classes= len(commands)\n",
    "print('Commands:', commands)"
   ]
  },
  {
   "cell_type": "markdown",
   "metadata": {
    "id": "aMvdU9SY8WXN"
   },
   "source": [
    "Extract the audio files into a list and shuffle it."
   ]
  },
  {
   "cell_type": "code",
   "execution_count": 4,
   "metadata": {
    "colab": {
     "base_uri": "https://localhost:8080/"
    },
    "id": "hlX685l1wD9k",
    "outputId": "b6ed2fa4-9e88-4702-d403-aa58bf7168ae"
   },
   "outputs": [
    {
     "name": "stdout",
     "output_type": "stream",
     "text": [
      "Number of total examples: 8000\n",
      "Number of examples per label: 1000\n",
      "Example file tensor: tf.Tensor(b'data/mini_speech_commands/stop/686d030b_nohash_3.wav', shape=(), dtype=string)\n"
     ]
    }
   ],
   "source": [
    "filenames = tf.io.gfile.glob(str(data_dir) + '/*/*')\n",
    "filenames = tf.random.shuffle(filenames)\n",
    "num_samples = len(filenames)\n",
    "print('Number of total examples:', num_samples)\n",
    "print('Number of examples per label:',\n",
    "      len(tf.io.gfile.listdir(str(data_dir/commands[0]))))\n",
    "print('Example file tensor:', filenames[0])"
   ]
  },
  {
   "cell_type": "markdown",
   "metadata": {
    "id": "9vK3ymy23MCP"
   },
   "source": [
    "Split the files into training, validation and test sets using a 80:10:10 ratio, respectively."
   ]
  },
  {
   "cell_type": "code",
   "execution_count": 56,
   "metadata": {
    "colab": {
     "base_uri": "https://localhost:8080/"
    },
    "id": "Cv_wts-l3KgD",
    "outputId": "a548276e-10a8-4298-9326-e146de906d8f"
   },
   "outputs": [
    {
     "name": "stdout",
     "output_type": "stream",
     "text": [
      "Training set size 6400\n",
      "Validation set size 800\n",
      "Test set size 800\n"
     ]
    }
   ],
   "source": [
    "train_files = filenames[:int(num_samples*0.8)]\n",
    "val_files = filenames[int(num_samples*0.8): int(num_samples*0.9)]\n",
    "test_files = filenames[-int(num_samples*0.1):]\n",
    "\n",
    "print('Training set size', (train_files.shape[0]))\n",
    "print('Validation set size', (val_files.shape[0]))\n",
    "print('Test set size', (test_files.shape[0]))"
   ]
  },
  {
   "cell_type": "markdown",
   "metadata": {
    "id": "g2Cj9FyvfweD"
   },
   "source": [
    "## Reading audio files and their labels"
   ]
  },
  {
   "cell_type": "markdown",
   "metadata": {
    "id": "j1zjcWteOcBy"
   },
   "source": [
    "The audio file will initially be read as a binary file, which you'll want to convert into a numerical tensor.\n",
    "\n",
    "To load an audio file, you will use [`tf.audio.decode_wav`](https://www.tensorflow.org/api_docs/python/tf/audio/decode_wav), which returns the WAV-encoded audio as a Tensor and the sample rate.\n",
    "\n",
    "A WAV file contains time series data with a set number of samples per second. \n",
    "Each sample represents the amplitude of the audio signal at that specific time. In a 16-bit system, like the files in `mini_speech_commands`, the values range from -32768 to 32767. \n",
    "The sample rate for this dataset is 16kHz.\n",
    "Note that `tf.audio.decode_wav` will normalize the values to the range [-1.0, 1.0]."
   ]
  },
  {
   "cell_type": "code",
   "execution_count": 6,
   "metadata": {
    "id": "9PjJ2iXYwftD"
   },
   "outputs": [],
   "source": [
    "def decode_audio(audio_binary):\n",
    "  audio, _ = tf.audio.decode_wav(audio_binary)\n",
    "  return tf.squeeze(audio, axis=-1)"
   ]
  },
  {
   "cell_type": "markdown",
   "metadata": {
    "id": "GPQseZElOjVN"
   },
   "source": [
    "The label for each WAV file is its parent directory."
   ]
  },
  {
   "cell_type": "code",
   "execution_count": 7,
   "metadata": {
    "id": "8VTtX1nr3YT-"
   },
   "outputs": [],
   "source": [
    "def get_label(file_path):\n",
    "  parts = tf.strings.split(file_path, os.path.sep)\n",
    "\n",
    "  # Note: You'll use indexing here instead of tuple unpacking to enable this \n",
    "  # to work in a TensorFlow graph.\n",
    "  return parts[-2] "
   ]
  },
  {
   "cell_type": "markdown",
   "metadata": {
    "id": "E8Y9w_5MOsr-"
   },
   "source": [
    "Let's define a method that will take in the filename of the WAV file and output a tuple containing the audio and labels for supervised training."
   ]
  },
  {
   "cell_type": "code",
   "execution_count": 8,
   "metadata": {
    "id": "WdgUD5T93NyT"
   },
   "outputs": [],
   "source": [
    "def get_waveform_and_label(file_path):\n",
    "  label = get_label(file_path)\n",
    "  audio_binary = tf.io.read_file(file_path)\n",
    "  waveform = decode_audio(audio_binary)\n",
    "  return waveform, label"
   ]
  },
  {
   "cell_type": "markdown",
   "metadata": {
    "id": "nvN8W_dDjYjc"
   },
   "source": [
    "You will now apply `process_path` to build your training set to extract the audio-label pairs and check the results. You'll build the validation and test sets using a similar procedure later on."
   ]
  },
  {
   "cell_type": "code",
   "execution_count": 9,
   "metadata": {
    "id": "0SQl8yXl3kNP"
   },
   "outputs": [],
   "source": [
    "AUTOTUNE = tf.data.experimental.AUTOTUNE\n",
    "files_ds = tf.data.Dataset.from_tensor_slices(train_files)\n",
    "waveform_ds = files_ds.map(get_waveform_and_label, num_parallel_calls=AUTOTUNE)"
   ]
  },
  {
   "cell_type": "markdown",
   "metadata": {
    "id": "voxGEwvuh2L7"
   },
   "source": [
    "Let's examine a few audio waveforms with their corresponding labels."
   ]
  },
  {
   "cell_type": "code",
   "execution_count": 10,
   "metadata": {
    "colab": {
     "base_uri": "https://localhost:8080/",
     "height": 716
    },
    "id": "8yuX6Nqzf6wT",
    "outputId": "78c75284-26eb-401f-b407-c0aedeb4ef3c"
   },
   "outputs": [
    {
     "data": {
      "image/png": "[encoded data removed]",
      "text/plain": [
       "<Figure size 720x864 with 9 Axes>"
      ]
     },
     "metadata": {
      "needs_background": "light",
      "tags": []
     },
     "output_type": "display_data"
    }
   ],
   "source": [
    "rows = 3\n",
    "cols = 3\n",
    "n = rows*cols\n",
    "fig, axes = plt.subplots(rows, cols, figsize=(10, 12))\n",
    "for i, (audio, label) in enumerate(waveform_ds.take(n)):\n",
    "  r = i // cols\n",
    "  c = i % cols\n",
    "  ax = axes[r][c]\n",
    "  ax.plot(audio.numpy())\n",
    "  ax.set_yticks(np.arange(-1.2, 1.2, 0.2))\n",
    "  label = label.numpy().decode('utf-8')\n",
    "  ax.set_title(label)\n",
    "\n",
    "plt.show()"
   ]
  },
  {
   "cell_type": "markdown",
   "metadata": {
    "id": "EWXPphxm0B4m"
   },
   "source": [
    "## Spectrogram\n",
    "\n",
    "You'll convert the waveform into a spectrogram, which shows frequency changes over time and can be represented as a 2D image. This can be done by applying the short-time Fourier transform (STFT) to convert the audio into the time-frequency domain.\n",
    "\n",
    "A Fourier transform ([`tf.signal.fft`](https://www.tensorflow.org/api_docs/python/tf/signal/fft)) converts a signal to its component frequencies, but loses all time information. The STFT ([`tf.signal.stft`](https://www.tensorflow.org/api_docs/python/tf/signal/stft)) splits the signal into windows of time and runs a Fourier transform on each window, preserving some time information, and returning a 2D tensor that you can run standard convolutions on.\n",
    "\n",
    "STFT produces an array of complex numbers representing magnitude and phase. However, you'll only need the magnitude for this tutorial, which can be derived by applying `tf.abs` on the output of `tf.signal.stft`. \n",
    "\n",
    "Choose `frame_length` and `frame_step` parameters such that the generated spectrogram \"image\" is almost square. For more information on STFT parameters choice, you can refer to [this video](https://www.coursera.org/lecture/audio-signal-processing/stft-2-tjEQe) on audio signal processing. \n",
    "\n",
    "You also want the waveforms to have the same length, so that when you convert it to a spectrogram image, the results will have similar dimensions. This can be done by simply zero padding the audio clips that are shorter than one second.\n"
   ]
  },
  {
   "cell_type": "code",
   "execution_count": 125,
   "metadata": {
    "id": "aFI7bPS_njms"
   },
   "outputs": [],
   "source": [
    "frame_length = 255\n",
    "frame_step = 128\n",
    "num_mel_bins = 75\n",
    "num_spectrogram_bins = (frame_length // 2) + 1\n",
    "fmin = 0.0\n",
    "sample_rate = 16000\n",
    "fmax = sample_rate / 2"
   ]
  },
  {
   "cell_type": "code",
   "execution_count": 171,
   "metadata": {
    "id": "_4CK75DHz_OR"
   },
   "outputs": [],
   "source": [
    "def get_spectrogram(waveform):\n",
    "    # Padding for files with less than 16000 samples\n",
    "    zero_padding = tf.zeros([16000] - tf.shape(waveform), dtype=tf.float32)\n",
    "    # Concatenate audio with padding so that all audio clips will be of the \n",
    "    # same length\n",
    "    waveform = tf.cast(waveform, tf.float32)\n",
    "    equal_length = tf.concat([waveform, zero_padding], 0)\n",
    "    magnitude_spectrograms  = tf.signal.stft(\n",
    "      equal_length, frame_length, frame_step)\n",
    "    magnitude_spectrograms  = tf.abs(magnitude_spectrograms)\n",
    "    \n",
    "    # Step: magnitude_spectrograms->mel_spectrograms\n",
    "    # Warp the linear-scale, magnitude spectrograms into the mel-scale.\n",
    "    num_spectrogram_bins = magnitude_spectrograms.shape[-1]\n",
    "\n",
    "\n",
    "    linear_to_mel_weight_matrix = tf.signal.linear_to_mel_weight_matrix(\n",
    "        num_mel_bins, num_spectrogram_bins, sample_rate, fmin,\n",
    "        fmax)\n",
    "\n",
    "    mel_spectrograms = tf.tensordot(\n",
    "        magnitude_spectrograms, linear_to_mel_weight_matrix, 1)\n",
    "\n",
    "    mel_spectrograms.set_shape(magnitude_spectrograms.shape[:-1].concatenate(\n",
    "  linear_to_mel_weight_matrix.shape[-1:]))\n",
    "\n",
    "    # Compute a stabilized log to get log-magnitude mel-scale spectrograms.\n",
    "    log_mel_spectrograms = tf.math.log(mel_spectrograms + 1e-6)\n",
    "\n",
    "    # Compute MFCCs from log_mel_spectrograms and take the first 13.\n",
    "    #mfccs = tf.signal.mfccs_from_log_mel_spectrograms(\n",
    "    #  log_mel_spectrograms)[..., :75]\n",
    "  \n",
    "    return log_mel_spectrograms"
   ]
  },
  {
   "cell_type": "markdown",
   "metadata": {
    "id": "5rdPiPYJphs2"
   },
   "source": [
    "Next, you will explore the data. Compare the waveform, the spectrogram and the actual audio of one example from the dataset."
   ]
  },
  {
   "cell_type": "code",
   "execution_count": 172,
   "metadata": {
    "colab": {
     "base_uri": "https://localhost:8080/",
     "height": 143
    },
    "id": "4Mu6Y7Yz3C-V",
    "outputId": "92bab80f-13f9-49c9-b4b3-a8c0c17e6f1e"
   },
   "outputs": [
    {
     "name": "stdout",
     "output_type": "stream",
     "text": [
      "Label: stop\n",
      "Waveform shape: (16000,)\n",
      "Spectrogram shape: (124, 75)\n",
      "Audio playback\n"
     ]
    },
    {
     "data": {
      "text/html": [
       "\n",
       "                <audio controls=\"controls\" >\n",
       "                    <source src=\"data:audio/wav;base64,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\" type=\"audio/wav\" />\n",
       "                    Your browser does not support the audio element.\n",
       "                </audio>\n",
       "              "
      ],
      "text/plain": [
       "<IPython.lib.display.Audio object>"
      ]
     },
     "metadata": {
      "tags": []
     },
     "output_type": "display_data"
    }
   ],
   "source": [
    "for waveform, label in waveform_ds.take(1):\n",
    "  label = label.numpy().decode('utf-8')\n",
    "  spectrogram = get_spectrogram(waveform)\n",
    "\n",
    "print('Label:', label)\n",
    "print('Waveform shape:', waveform.shape)\n",
    "print('Spectrogram shape:', spectrogram.shape)\n",
    "print('Audio playback')\n",
    "display.display(display.Audio(waveform, rate=16000))"
   ]
  },
  {
   "cell_type": "code",
   "execution_count": 173,
   "metadata": {
    "colab": {
     "base_uri": "https://localhost:8080/",
     "height": 546
    },
    "id": "e62jzb36-Jog",
    "outputId": "d58c61d5-0097-4d73-bcbe-a5919822fc6f"
   },
   "outputs": [
    {
     "data": {
      "image/png": "[encoded data removed]",
      "text/plain": [
       "<Figure size 1440x720 with 1 Axes>"
      ]
     },
     "metadata": {
      "needs_background": "light",
      "tags": []
     },
     "output_type": "display_data"
    }
   ],
   "source": [
    "def plot_spectrogram(spectrogram):\n",
    "  fig, ax = plt.subplots(figsize=(20,10))\n",
    "  mfcc_data= np.swapaxes(spectrogram, 0 ,1)\n",
    "  cax = ax.imshow(mfcc_data, interpolation='nearest', cmap=cm.coolwarm, origin='lower')\n",
    "  ax.set_title('MFCC')\n",
    "\n",
    "plot_spectrogram(spectrogram)\n",
    "plt.show()"
   ]
  },
  {
   "cell_type": "markdown",
   "metadata": {
    "id": "GyYXjW07jCHA"
   },
   "source": [
    "Now transform the waveform dataset to have spectrogram images and their corresponding labels as integer IDs."
   ]
  },
  {
   "cell_type": "code",
   "execution_count": 174,
   "metadata": {
    "id": "43IS2IouEV40"
   },
   "outputs": [],
   "source": [
    "def get_spectrogram_and_label_id(audio, label):\n",
    "  spectrogram = get_spectrogram(audio)\n",
    "  spectrogram = tf.expand_dims(spectrogram, -1)\n",
    "  #Not good for pretrained CNN, need 3 channels!!\n",
    "  spectrogram = tf.image.grayscale_to_rgb(\n",
    "    spectrogram)\n",
    "  label_id = tf.argmax(label == commands)\n",
    "  return spectrogram, label_id"
   ]
  },
  {
   "cell_type": "code",
   "execution_count": 175,
   "metadata": {
    "id": "yEVb_oK0oBLQ"
   },
   "outputs": [],
   "source": [
    "spectrogram_ds = waveform_ds.map(\n",
    "    get_spectrogram_and_label_id, num_parallel_calls=AUTOTUNE)"
   ]
  },
  {
   "cell_type": "markdown",
   "metadata": {
    "id": "z5KdY8IF8rkt"
   },
   "source": [
    "## Build and train the model\n",
    "\n",
    "Now you can build and train your model. But before you do that, you'll need to repeat the training set preprocessing on the validation and test sets."
   ]
  },
  {
   "cell_type": "code",
   "execution_count": 176,
   "metadata": {
    "id": "10UI32QH_45b"
   },
   "outputs": [],
   "source": [
    "def preprocess_dataset(files):\n",
    "  files_ds = tf.data.Dataset.from_tensor_slices(files)\n",
    "  output_ds = files_ds.map(get_waveform_and_label, num_parallel_calls=AUTOTUNE)\n",
    "  output_ds = output_ds.map(\n",
    "      get_spectrogram_and_label_id,  num_parallel_calls=AUTOTUNE)\n",
    "  return output_ds"
   ]
  },
  {
   "cell_type": "code",
   "execution_count": 177,
   "metadata": {
    "id": "HNv4xwYkB2P6"
   },
   "outputs": [],
   "source": [
    "train_ds = spectrogram_ds\n",
    "val_ds = preprocess_dataset(val_files)\n",
    "test_ds = preprocess_dataset(test_files)"
   ]
  },
  {
   "cell_type": "markdown",
   "metadata": {
    "id": "assnWo6SB3lR"
   },
   "source": [
    "Batch the training and validation sets for model training."
   ]
  },
  {
   "cell_type": "code",
   "execution_count": 178,
   "metadata": {
    "id": "UgY9WYzn61EX"
   },
   "outputs": [],
   "source": [
    "batch_size = 64\n",
    "train_ds = train_ds.batch(batch_size)\n",
    "val_ds = val_ds.batch(batch_size)"
   ]
  },
  {
   "cell_type": "markdown",
   "metadata": {
    "id": "GS1uIh6F_TN9"
   },
   "source": [
    "Add dataset [`cache()`](https://www.tensorflow.org/api_docs/python/tf/data/Dataset#cache) and [`prefetch()`](https://www.tensorflow.org/api_docs/python/tf/data/Dataset#prefetch) operations to reduce read latency while training the model."
   ]
  },
  {
   "cell_type": "code",
   "execution_count": 179,
   "metadata": {
    "id": "fdZ6M-F5_QzY"
   },
   "outputs": [],
   "source": [
    "train_ds = train_ds.cache().prefetch(AUTOTUNE)\n",
    "val_ds = val_ds.cache().prefetch(AUTOTUNE)"
   ]
  },
  {
   "cell_type": "markdown",
   "metadata": {
    "id": "rwHkKCQQb5oW"
   },
   "source": [
    "For the model, you'll use a simple convolutional neural network (CNN), since you have transformed the audio files into spectrogram images.\n",
    "The model also has the following additional preprocessing layers:\n",
    "- A [`Resizing`](https://www.tensorflow.org/api_docs/python/tf/keras/layers/experimental/preprocessing/Resizing) layer to downsample the input to enable the model to train faster.\n",
    "- A [`Normalization`](https://www.tensorflow.org/api_docs/python/tf/keras/layers/experimental/preprocessing/Normalization) layer to normalize each pixel in the image based on its mean and standard deviation.\n",
    "\n",
    "For the `Normalization` layer, its `adapt` method would first need to be called on the training data in order to compute aggregate statistics (i.e. mean and standard deviation)."
   ]
  },
  {
   "cell_type": "code",
   "execution_count": 180,
   "metadata": {
    "colab": {
     "base_uri": "https://localhost:8080/"
    },
    "id": "ALYz7PFCHblP",
    "outputId": "20f504c7-52ee-4566-e9d7-034e2b4ab899"
   },
   "outputs": [
    {
     "name": "stdout",
     "output_type": "stream",
     "text": [
      "Input shape: (124, 75, 3)\n"
     ]
    }
   ],
   "source": [
    "for spectrogram, _ in spectrogram_ds.take(1):\n",
    "  input_shape = spectrogram.shape\n",
    "print('Input shape:', input_shape)"
   ]
  },
  {
   "cell_type": "code",
   "execution_count": 181,
   "metadata": {
    "id": "M3LR3LJ71RL8"
   },
   "outputs": [],
   "source": [
    "#base_net = inception_v3.InceptionV3(weights=\"imagenet\", include_top=False,\n",
    "#\tinput_shape=input_shape, pooling=\"avg\")"
   ]
  },
  {
   "cell_type": "code",
   "execution_count": 182,
   "metadata": {
    "id": "YcaCBsKn1QzR"
   },
   "outputs": [],
   "source": [
    "#for layer in base_net.layers:\n",
    " #   layer.trainable = False"
   ]
  },
  {
   "cell_type": "code",
   "execution_count": 183,
   "metadata": {
    "id": "5aa1fIgA1Qmn"
   },
   "outputs": [],
   "source": [
    "# Output of the base_net model\n",
    "#x = base_net.output\n",
    "# intermediate fully-connected layer + ReLU\n",
    "#x = tf.keras.layers.Dense(1024, activation='relu')(x)\n",
    "# final fully-connected layer + SoftMax \n",
    "#pred = tf.keras.layers.Dense(n_classes, activation='softmax')(x)"
   ]
  },
  {
   "cell_type": "code",
   "execution_count": 184,
   "metadata": {
    "id": "fKZ8bf2L1QUj"
   },
   "outputs": [],
   "source": [
    "#model = tf.keras.Model(inputs=base_net.input, outputs=pred)"
   ]
  },
  {
   "cell_type": "code",
   "execution_count": 185,
   "metadata": {
    "colab": {
     "base_uri": "https://localhost:8080/"
    },
    "id": "y6fqXFwq9LOK",
    "outputId": "e102d29b-5a78-4070-ea99-0d07c5d90c69"
   },
   "outputs": [
    {
     "name": "stdout",
     "output_type": "stream",
     "text": [
      "Model: \"sequential_9\"\n",
      "_________________________________________________________________\n",
      "Layer (type)                 Output Shape              Param #   \n",
      "=================================================================\n",
      "resizing_10 (Resizing)       (None, 32, 32, 3)         0         \n",
      "_________________________________________________________________\n",
      "conv2d_306 (Conv2D)          (None, 30, 30, 32)        896       \n",
      "_________________________________________________________________\n",
      "conv2d_307 (Conv2D)          (None, 28, 28, 32)        9248      \n",
      "_________________________________________________________________\n",
      "max_pooling2d_24 (MaxPooling (None, 14, 14, 32)        0         \n",
      "_________________________________________________________________\n",
      "conv2d_308 (Conv2D)          (None, 12, 12, 64)        18496     \n",
      "_________________________________________________________________\n",
      "conv2d_309 (Conv2D)          (None, 10, 10, 64)        36928     \n",
      "_________________________________________________________________\n",
      "max_pooling2d_25 (MaxPooling (None, 5, 5, 64)          0         \n",
      "_________________________________________________________________\n",
      "flatten_10 (Flatten)         (None, 1600)              0         \n",
      "_________________________________________________________________\n",
      "dropout_18 (Dropout)         (None, 1600)              0         \n",
      "_________________________________________________________________\n",
      "dense_21 (Dense)             (None, 8)                 12808     \n",
      "=================================================================\n",
      "Total params: 78,376\n",
      "Trainable params: 78,376\n",
      "Non-trainable params: 0\n",
      "_________________________________________________________________\n"
     ]
    }
   ],
   "source": [
    "model = models.Sequential(\n",
    "    [\n",
    "        layers.Input(shape = input_shape),\n",
    "        preprocessing.Resizing(32, 32), \n",
    "        layers.Conv2D(32, kernel_size=(3,3), activation = 'relu'),\n",
    "        layers.Conv2D(32, kernel_size=(3,3), activation = 'relu'),\n",
    "        layers.MaxPooling2D(pool_size=(2,2)),\n",
    "        layers.Conv2D(64, kernel_size=(3,3), activation = 'relu'),\n",
    "        layers.Conv2D(64, kernel_size=(3,3), activation = 'relu'),\n",
    "        layers.MaxPooling2D(pool_size=(2,2)),\n",
    "        layers.Flatten(),\n",
    "        layers.Dropout(0.5),\n",
    "        layers.Dense(num_labels, activation='softmax')\n",
    "    ]\n",
    ")\n",
    "\n",
    "model.summary()"
   ]
  },
  {
   "cell_type": "code",
   "execution_count": 186,
   "metadata": {
    "id": "wFjj7-EmsTD-"
   },
   "outputs": [],
   "source": [
    "model.compile(\n",
    "    optimizer=tf.keras.optimizers.Adam(),\n",
    "    loss=tf.keras.losses.SparseCategoricalCrossentropy(from_logits=True),\n",
    "    metrics=['accuracy'],\n",
    ")"
   ]
  },
  {
   "cell_type": "code",
   "execution_count": 187,
   "metadata": {
    "colab": {
     "base_uri": "https://localhost:8080/"
    },
    "id": "ttioPJVMcGtq",
    "outputId": "3d52d2ee-f994-44f8-cbaf-9fc82f0778d6"
   },
   "outputs": [
    {
     "name": "stdout",
     "output_type": "stream",
     "text": [
      "Epoch 1/50\n",
      "100/100 [==============================] - 16s 160ms/step - loss: 2.0371 - accuracy: 0.2009 - val_loss: 1.8846 - val_accuracy: 0.3800\n",
      "Epoch 2/50\n",
      "100/100 [==============================] - 1s 7ms/step - loss: 1.7818 - accuracy: 0.4867 - val_loss: 1.6079 - val_accuracy: 0.6725\n",
      "Epoch 3/50\n",
      "100/100 [==============================] - 1s 6ms/step - loss: 1.5941 - accuracy: 0.6831 - val_loss: 1.5282 - val_accuracy: 0.7462\n",
      "Epoch 4/50\n",
      "100/100 [==============================] - 1s 6ms/step - loss: 1.5166 - accuracy: 0.7619 - val_loss: 1.4694 - val_accuracy: 0.8025\n",
      "Epoch 5/50\n",
      "100/100 [==============================] - 1s 6ms/step - loss: 1.4889 - accuracy: 0.7869 - val_loss: 1.4850 - val_accuracy: 0.7850\n",
      "Epoch 6/50\n",
      "100/100 [==============================] - 1s 6ms/step - loss: 1.4495 - accuracy: 0.8286 - val_loss: 1.4533 - val_accuracy: 0.8225\n",
      "Epoch 7/50\n",
      "100/100 [==============================] - 1s 6ms/step - loss: 1.4397 - accuracy: 0.8364 - val_loss: 1.4343 - val_accuracy: 0.8413\n",
      "Epoch 8/50\n",
      "100/100 [==============================] - 1s 6ms/step - loss: 1.4354 - accuracy: 0.8400 - val_loss: 1.4258 - val_accuracy: 0.8487\n",
      "Epoch 9/50\n",
      "100/100 [==============================] - 1s 6ms/step - loss: 1.4313 - accuracy: 0.8447 - val_loss: 1.4179 - val_accuracy: 0.8612\n",
      "Epoch 10/50\n",
      "100/100 [==============================] - 1s 6ms/step - loss: 1.4106 - accuracy: 0.8655 - val_loss: 1.4072 - val_accuracy: 0.8687\n",
      "Epoch 11/50\n",
      "100/100 [==============================] - 1s 6ms/step - loss: 1.4031 - accuracy: 0.8745 - val_loss: 1.4135 - val_accuracy: 0.8612\n",
      "Epoch 12/50\n",
      "100/100 [==============================] - 1s 6ms/step - loss: 1.4047 - accuracy: 0.8695 - val_loss: 1.4333 - val_accuracy: 0.8438\n",
      "Epoch 13/50\n",
      "100/100 [==============================] - 1s 6ms/step - loss: 1.3938 - accuracy: 0.8819 - val_loss: 1.3947 - val_accuracy: 0.8800\n",
      "Epoch 14/50\n",
      "100/100 [==============================] - 1s 6ms/step - loss: 1.3823 - accuracy: 0.8928 - val_loss: 1.4137 - val_accuracy: 0.8537\n",
      "Epoch 15/50\n",
      "100/100 [==============================] - 1s 6ms/step - loss: 1.3771 - accuracy: 0.8981 - val_loss: 1.4045 - val_accuracy: 0.8725\n",
      "Epoch 16/50\n",
      "100/100 [==============================] - 1s 6ms/step - loss: 1.3762 - accuracy: 0.8994 - val_loss: 1.3920 - val_accuracy: 0.8800\n",
      "Epoch 17/50\n",
      "100/100 [==============================] - 1s 6ms/step - loss: 1.3746 - accuracy: 0.9002 - val_loss: 1.3851 - val_accuracy: 0.8875\n",
      "Epoch 18/50\n",
      "100/100 [==============================] - 1s 6ms/step - loss: 1.3688 - accuracy: 0.9058 - val_loss: 1.3873 - val_accuracy: 0.8838\n",
      "Epoch 19/50\n",
      "100/100 [==============================] - 1s 6ms/step - loss: 1.3668 - accuracy: 0.9080 - val_loss: 1.3844 - val_accuracy: 0.8900\n",
      "Epoch 20/50\n",
      "100/100 [==============================] - 1s 6ms/step - loss: 1.3716 - accuracy: 0.9036 - val_loss: 1.3888 - val_accuracy: 0.8825\n",
      "Epoch 21/50\n",
      "100/100 [==============================] - 1s 6ms/step - loss: 1.3605 - accuracy: 0.9133 - val_loss: 1.3856 - val_accuracy: 0.8875\n",
      "Epoch 22/50\n",
      "100/100 [==============================] - 1s 6ms/step - loss: 1.3634 - accuracy: 0.9109 - val_loss: 1.3761 - val_accuracy: 0.8975\n",
      "Epoch 23/50\n",
      "100/100 [==============================] - 1s 6ms/step - loss: 1.3551 - accuracy: 0.9202 - val_loss: 1.3731 - val_accuracy: 0.9025\n",
      "Epoch 24/50\n",
      "100/100 [==============================] - 1s 6ms/step - loss: 1.3589 - accuracy: 0.9158 - val_loss: 1.3782 - val_accuracy: 0.8950\n",
      "Epoch 25/50\n",
      "100/100 [==============================] - 1s 6ms/step - loss: 1.3534 - accuracy: 0.9206 - val_loss: 1.3877 - val_accuracy: 0.8925\n",
      "Epoch 26/50\n",
      "100/100 [==============================] - 1s 6ms/step - loss: 1.3501 - accuracy: 0.9252 - val_loss: 1.3793 - val_accuracy: 0.8963\n",
      "Epoch 27/50\n",
      "100/100 [==============================] - 1s 6ms/step - loss: 1.3488 - accuracy: 0.9262 - val_loss: 1.3671 - val_accuracy: 0.9112\n",
      "Epoch 28/50\n",
      "100/100 [==============================] - 1s 6ms/step - loss: 1.3425 - accuracy: 0.9328 - val_loss: 1.3593 - val_accuracy: 0.9175\n",
      "Epoch 29/50\n",
      "100/100 [==============================] - 1s 6ms/step - loss: 1.3454 - accuracy: 0.9283 - val_loss: 1.3816 - val_accuracy: 0.8938\n",
      "Epoch 30/50\n",
      "100/100 [==============================] - 1s 6ms/step - loss: 1.3426 - accuracy: 0.9328 - val_loss: 1.3759 - val_accuracy: 0.9000\n",
      "Epoch 31/50\n",
      "100/100 [==============================] - 1s 6ms/step - loss: 1.3420 - accuracy: 0.9319 - val_loss: 1.3769 - val_accuracy: 0.8988\n",
      "Epoch 32/50\n",
      "100/100 [==============================] - 1s 6ms/step - loss: 1.3395 - accuracy: 0.9355 - val_loss: 1.3740 - val_accuracy: 0.9050\n",
      "Epoch 33/50\n",
      "100/100 [==============================] - 1s 6ms/step - loss: 1.3385 - accuracy: 0.9356 - val_loss: 1.3746 - val_accuracy: 0.9013\n",
      "Epoch 34/50\n",
      "100/100 [==============================] - 1s 6ms/step - loss: 1.3456 - accuracy: 0.9291 - val_loss: 1.3732 - val_accuracy: 0.9038\n",
      "Epoch 35/50\n",
      "100/100 [==============================] - 1s 6ms/step - loss: 1.3416 - accuracy: 0.9328 - val_loss: 1.3679 - val_accuracy: 0.9050\n",
      "Epoch 36/50\n",
      "100/100 [==============================] - 1s 6ms/step - loss: 1.3368 - accuracy: 0.9377 - val_loss: 1.3605 - val_accuracy: 0.9100\n",
      "Epoch 37/50\n",
      "100/100 [==============================] - 1s 6ms/step - loss: 1.3408 - accuracy: 0.9336 - val_loss: 1.3707 - val_accuracy: 0.9013\n",
      "Epoch 38/50\n",
      "100/100 [==============================] - 1s 6ms/step - loss: 1.3368 - accuracy: 0.9378 - val_loss: 1.3720 - val_accuracy: 0.9013\n",
      "Epoch 39/50\n",
      "100/100 [==============================] - 1s 6ms/step - loss: 1.3348 - accuracy: 0.9394 - val_loss: 1.3526 - val_accuracy: 0.9212\n",
      "Epoch 40/50\n",
      "100/100 [==============================] - 1s 6ms/step - loss: 1.3296 - accuracy: 0.9452 - val_loss: 1.3663 - val_accuracy: 0.9100\n",
      "Epoch 41/50\n",
      "100/100 [==============================] - 1s 6ms/step - loss: 1.3386 - accuracy: 0.9350 - val_loss: 1.3630 - val_accuracy: 0.9100\n",
      "Epoch 42/50\n",
      "100/100 [==============================] - 1s 6ms/step - loss: 1.3294 - accuracy: 0.9450 - val_loss: 1.3652 - val_accuracy: 0.9100\n",
      "Epoch 43/50\n",
      "100/100 [==============================] - 1s 6ms/step - loss: 1.3338 - accuracy: 0.9413 - val_loss: 1.3668 - val_accuracy: 0.9087\n",
      "Epoch 44/50\n",
      "100/100 [==============================] - 1s 6ms/step - loss: 1.3310 - accuracy: 0.9434 - val_loss: 1.3627 - val_accuracy: 0.9087\n",
      "Epoch 45/50\n",
      "100/100 [==============================] - 1s 6ms/step - loss: 1.3322 - accuracy: 0.9427 - val_loss: 1.3743 - val_accuracy: 0.8988\n",
      "Epoch 46/50\n",
      "100/100 [==============================] - 1s 6ms/step - loss: 1.3315 - accuracy: 0.9420 - val_loss: 1.3759 - val_accuracy: 0.8963\n",
      "Epoch 47/50\n",
      "100/100 [==============================] - 1s 6ms/step - loss: 1.3261 - accuracy: 0.9481 - val_loss: 1.3711 - val_accuracy: 0.9038\n",
      "Epoch 48/50\n",
      "100/100 [==============================] - 1s 6ms/step - loss: 1.3251 - accuracy: 0.9492 - val_loss: 1.3581 - val_accuracy: 0.9150\n",
      "Epoch 49/50\n",
      "100/100 [==============================] - 1s 6ms/step - loss: 1.3242 - accuracy: 0.9509 - val_loss: 1.3542 - val_accuracy: 0.9175\n",
      "Epoch 50/50\n",
      "100/100 [==============================] - 1s 6ms/step - loss: 1.3237 - accuracy: 0.9506 - val_loss: 1.3586 - val_accuracy: 0.9137\n"
     ]
    }
   ],
   "source": [
    "EPOCHS = 50\n",
    "history = model.fit(\n",
    "    train_ds, \n",
    "    validation_data=val_ds,  \n",
    "    epochs=EPOCHS,\n",
    "    callbacks=tf.keras.callbacks.EarlyStopping(verbose=1, patience=20),\n",
    ")"
   ]
  },
  {
   "cell_type": "markdown",
   "metadata": {
    "id": "gjpCDeQ4mUfS"
   },
   "source": [
    "Let's check the training and validation loss curves to see how your model has improved during training."
   ]
  },
  {
   "cell_type": "code",
   "execution_count": 188,
   "metadata": {
    "colab": {
     "base_uri": "https://localhost:8080/",
     "height": 265
    },
    "id": "nzhipg3Gu2AY",
    "outputId": "e305730b-b007-4ce3-e8fd-2c8155b916b6"
   },
   "outputs": [
    {
     "data": {
      "image/png": "[encoded data removed]",
      "text/plain": [
       "<Figure size 432x288 with 1 Axes>"
      ]
     },
     "metadata": {
      "needs_background": "light",
      "tags": []
     },
     "output_type": "display_data"
    }
   ],
   "source": [
    "metrics = history.history\n",
    "plt.plot(history.epoch, metrics['loss'], metrics['val_loss'])\n",
    "plt.legend(['loss', 'val_loss'])\n",
    "plt.show()"
   ]
  },
  {
   "cell_type": "markdown",
   "metadata": {
    "id": "5ZTt3kO3mfm4"
   },
   "source": [
    "## Evaluate test set performance\n",
    "\n",
    "Let's run the model on the test set and check performance."
   ]
  },
  {
   "cell_type": "code",
   "execution_count": 189,
   "metadata": {
    "id": "biU2MwzyAo8o"
   },
   "outputs": [],
   "source": [
    "test_audio = []\n",
    "test_labels = []\n",
    "\n",
    "for audio, label in test_ds:\n",
    "  test_audio.append(audio.numpy())\n",
    "  test_labels.append(label.numpy())\n",
    "\n",
    "test_audio = np.array(test_audio)\n",
    "test_labels = np.array(test_labels)"
   ]
  },
  {
   "cell_type": "code",
   "execution_count": 190,
   "metadata": {
    "colab": {
     "base_uri": "https://localhost:8080/"
    },
    "id": "ktUanr9mRZky",
    "outputId": "60fb4004-0b49-4b0a-e413-ad1d38a87bc2"
   },
   "outputs": [
    {
     "name": "stdout",
     "output_type": "stream",
     "text": [
      "Test set accuracy: 91%\n"
     ]
    }
   ],
   "source": [
    "y_pred = np.argmax(model.predict(test_audio), axis=1)\n",
    "y_true = test_labels\n",
    "\n",
    "test_acc = sum(y_pred == y_true) / len(y_true)\n",
    "print(f'Test set accuracy: {test_acc:.0%}')"
   ]
  },
  {
   "cell_type": "markdown",
   "metadata": {
    "id": "en9Znt1NOabH"
   },
   "source": [
    "### Display a confusion matrix\n",
    "\n",
    "A confusion matrix is helpful to see how well the model did on each of the commands in the test set."
   ]
  },
  {
   "cell_type": "code",
   "execution_count": 191,
   "metadata": {
    "colab": {
     "base_uri": "https://localhost:8080/",
     "height": 497
    },
    "id": "LvoSAOiXU3lL",
    "outputId": "1b95ce10-b0ae-42d0-d542-d1a266e9704b"
   },
   "outputs": [
    {
     "data": {
      "image/png": "[encoded data removed]",
      "text/plain": [
       "<Figure size 720x576 with 2 Axes>"
      ]
     },
     "metadata": {
      "needs_background": "light",
      "tags": []
     },
     "output_type": "display_data"
    }
   ],
   "source": [
    "confusion_mtx = tf.math.confusion_matrix(y_true, y_pred) \n",
    "plt.figure(figsize=(10, 8))\n",
    "sns.heatmap(confusion_mtx, xticklabels=commands, yticklabels=commands, \n",
    "            annot=True, fmt='g')\n",
    "plt.xlabel('Prediction')\n",
    "plt.ylabel('Label')\n",
    "plt.show()"
   ]
  },
  {
   "cell_type": "markdown",
   "metadata": {
    "id": "mQGi_mzPcLvl"
   },
   "source": [
    "## Run inference on an audio file\n"
   ]
  },
  {
   "cell_type": "code",
   "execution_count": 192,
   "metadata": {
    "colab": {
     "base_uri": "https://localhost:8080/",
     "height": 281
    },
    "id": "zRxauKMdhofU",
    "outputId": "04b63b10-af46-4769-d57e-3ce9dc3e8896"
   },
   "outputs": [
    {
     "data": {
      "image/png": "[encoded data removed]",
      "text/plain": [
       "<Figure size 432x288 with 1 Axes>"
      ]
     },
     "metadata": {
      "needs_background": "light",
      "tags": []
     },
     "output_type": "display_data"
    }
   ],
   "source": [
    "sample_file = data_dir/'no/01bb6a2a_nohash_0.wav'\n",
    "\n",
    "sample_ds = preprocess_dataset([str(sample_file)])\n",
    "\n",
    "for spectrogram, label in sample_ds.batch(1):\n",
    "  prediction = model(spectrogram)\n",
    "  plt.bar(commands, tf.nn.softmax(prediction[0]))\n",
    "  plt.title(f'Predictions for \"{commands[label[0]]}\"')\n",
    "  plt.show()"
   ]
  }
 ],
 "metadata": {
  "accelerator": "GPU",
  "colab": {
   "collapsed_sections": [],
   "name": "simple_audio.ipynb",
   "provenance": []
  },
  "kernelspec": {
   "display_name": "Python 3",
   "language": "python",
   "name": "python3"
  },
  "language_info": {
   "codemirror_mode": {
    "name": "ipython",
    "version": 3
   },
   "file_extension": ".py",
   "mimetype": "text/x-python",
   "name": "python",
   "nbconvert_exporter": "python",
   "pygments_lexer": "ipython3",
   "version": "3.7.6"
  }
 },
 "nbformat": 4,
 "nbformat_minor": 1
}
