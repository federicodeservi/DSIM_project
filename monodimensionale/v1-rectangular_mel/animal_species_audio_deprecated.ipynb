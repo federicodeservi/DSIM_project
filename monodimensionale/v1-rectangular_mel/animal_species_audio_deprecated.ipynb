{
 "cells": [
  {
   "cell_type": "markdown",
   "metadata": {
    "id": "Go9C3uLL8Izc"
   },
   "source": [
    "## Setup\n",
    "\n",
    "Import necessary modules and dependencies."
   ]
  },
  {
   "cell_type": "code",
   "execution_count": null,
   "metadata": {
    "id": "dMshJv8OHVmu"
   },
   "outputs": [],
   "source": []
  },
  {
   "cell_type": "code",
   "execution_count": 1,
   "metadata": {
    "id": "23hFexfVw5Cl"
   },
   "outputs": [
    {
     "name": "stderr",
     "output_type": "stream",
     "text": [
      "\"rm\" non Š riconosciuto come comando interno o esterno,\n",
      " un programma eseguibile o un file batch.\n",
      "Sottodirectory o file data gi… esistente.\n",
      "Sintassi del comando errata.\n"
     ]
    }
   ],
   "source": [
    "!rm -rf data\n",
    "!mkdir data\n",
    "!mkdir data/dataset"
   ]
  },
  {
   "cell_type": "code",
   "execution_count": 2,
   "metadata": {
    "id": "mr1wgp8a6Kmx"
   },
   "outputs": [],
   "source": [
    "import requests\n",
    "\n",
    "def download_file_from_google_drive(id, destination):\n",
    "    URL = \"https://docs.google.com/uc?export=download\"\n",
    "\n",
    "    session = requests.Session()\n",
    "\n",
    "    response = session.get(URL, params = { 'id' : id }, stream = True)\n",
    "    token = get_confirm_token(response)\n",
    "\n",
    "    if token:\n",
    "        params = { 'id' : id, 'confirm' : token }\n",
    "        response = session.get(URL, params = params, stream = True)\n",
    "\n",
    "    save_response_content(response, destination)    \n",
    "\n",
    "def get_confirm_token(response):\n",
    "    for key, value in response.cookies.items():\n",
    "        if key.startswith('download_warning'):\n",
    "            return value\n",
    "\n",
    "    return None\n",
    "\n",
    "def save_response_content(response, destination):\n",
    "    CHUNK_SIZE = 32768\n",
    "\n",
    "    with open(destination, \"wb\") as f:\n",
    "        for chunk in response.iter_content(CHUNK_SIZE):\n",
    "            if chunk: # filter out keep-alive new chunks\n",
    "                f.write(chunk)\n",
    "\n",
    "file_id = '1jwIWW2vuBJVO-XcCTL9HgmcolCfQJ2ir'    \n",
    "download_file_from_google_drive(file_id, \"data/data.zip\")"
   ]
  },
  {
   "cell_type": "code",
   "execution_count": 3,
   "metadata": {
    "colab": {
     "base_uri": "https://localhost:8080/"
    },
    "id": "uy52C36z7Qxj",
    "outputId": "d224aad2-bcac-49b1-cc34-0670b271b29d"
   },
   "outputs": [],
   "source": [
    "from zipfile import ZipFile\n",
    "zf = ZipFile('data/data.zip', 'r')\n",
    "zf.extractall('data/dataset')\n",
    "zf.close()"
   ]
  },
  {
   "cell_type": "code",
   "execution_count": 1,
   "metadata": {
    "colab": {
     "base_uri": "https://localhost:8080/"
    },
    "id": "dzLKpmZICaWN",
    "outputId": "9da4ac00-3c72-426f-916c-00e8d970d7f9"
   },
   "outputs": [
    {
     "name": "stdout",
     "output_type": "stream",
     "text": [
      "Default GPU Device: /device:GPU:0\n"
     ]
    }
   ],
   "source": [
    "import os\n",
    "import pathlib\n",
    "\n",
    "import matplotlib.pyplot as plt\n",
    "import numpy as np\n",
    "import seaborn as sns\n",
    "import tensorflow as tf\n",
    "\n",
    "from tensorflow.keras.layers.experimental import preprocessing\n",
    "from tensorflow.keras import layers\n",
    "from tensorflow.keras import models\n",
    "from tensorflow.keras.applications import inception_v3\n",
    "from IPython import display\n",
    "from keras.callbacks import EarlyStopping, ModelCheckpoint\n",
    "import matplotlib.pyplot as plt\n",
    "import numpy as np\n",
    "from matplotlib import cm\n",
    "\n",
    "\n",
    "# Set seed \n",
    "seed = 42\n",
    "tf.random.set_seed(seed)\n",
    "np.random.seed(seed)\n",
    "\n",
    "#check if gpu is used\n",
    "if tf.test.gpu_device_name():\n",
    "    print('Default GPU Device: {}'.format(tf.test.gpu_device_name()))\n",
    "else:\n",
    "    print(\"Please install GPU version of TF\")"
   ]
  },
  {
   "cell_type": "code",
   "execution_count": 2,
   "metadata": {
    "id": "2-rayb7-3Y0I"
   },
   "outputs": [],
   "source": [
    "data_dir = pathlib.Path(\"data/dataset/data_final\")"
   ]
  },
  {
   "cell_type": "markdown",
   "metadata": {
    "id": "BgvFq3uYiS5G"
   },
   "source": [
    "Check basic statistics about the dataset."
   ]
  },
  {
   "cell_type": "code",
   "execution_count": 3,
   "metadata": {
    "colab": {
     "base_uri": "https://localhost:8080/"
    },
    "id": "70IBxSKxA1N9",
    "outputId": "001143d4-fcbb-4ff0-de3f-3d57545eca08"
   },
   "outputs": [
    {
     "name": "stdout",
     "output_type": "stream",
     "text": [
      "Commands: ['Alces_alces' 'Bos_taurus' 'Cervus_elaphus' 'Equus_caballus'\n",
      " 'Lutra_lutra' 'Ovis' 'Pan' 'Panthera_leo' 'Procyon' 'Vulpes']\n"
     ]
    }
   ],
   "source": [
    "commands = np.array(tf.io.gfile.listdir(str(data_dir)))\n",
    "commands = commands[commands != 'README.md']\n",
    "n_classes= len(commands)\n",
    "print('Commands:', commands)"
   ]
  },
  {
   "cell_type": "markdown",
   "metadata": {
    "id": "aMvdU9SY8WXN"
   },
   "source": [
    "Extract the audio files into a list and shuffle it."
   ]
  },
  {
   "cell_type": "code",
   "execution_count": 4,
   "metadata": {
    "colab": {
     "base_uri": "https://localhost:8080/"
    },
    "id": "hlX685l1wD9k",
    "outputId": "f35d9be7-8deb-43f8-f1f8-8b110df82b06"
   },
   "outputs": [
    {
     "name": "stdout",
     "output_type": "stream",
     "text": [
      "Number of total examples: 652\n",
      "Number of examples per label: 48\n",
      "Example file tensor: tf.Tensor(b'data\\\\dataset\\\\data_final\\\\Ovis\\\\19.wav', shape=(), dtype=string)\n"
     ]
    }
   ],
   "source": [
    "filenames = tf.io.gfile.glob(str(data_dir) + '/*/*')\n",
    "filenames = tf.random.shuffle(filenames)\n",
    "num_samples = len(filenames)\n",
    "print('Number of total examples:', num_samples)\n",
    "print('Number of examples per label:',\n",
    "      len(tf.io.gfile.listdir(str(data_dir/commands[0]))))\n",
    "print('Example file tensor:', filenames[0])"
   ]
  },
  {
   "cell_type": "markdown",
   "metadata": {
    "id": "9vK3ymy23MCP"
   },
   "source": [
    "Split the files into training, validation and test sets using a 80:10:10 ratio, respectively."
   ]
  },
  {
   "cell_type": "code",
   "execution_count": 5,
   "metadata": {
    "colab": {
     "base_uri": "https://localhost:8080/"
    },
    "id": "Cv_wts-l3KgD",
    "outputId": "8b73d378-d2bc-44b1-9e32-2d97e80c272e"
   },
   "outputs": [
    {
     "name": "stdout",
     "output_type": "stream",
     "text": [
      "Training set size 521\n",
      "Validation set size 65\n",
      "Test set size 65\n"
     ]
    }
   ],
   "source": [
    "train_files = filenames[:int(num_samples*0.8)]\n",
    "val_files = filenames[int(num_samples*0.8): int(num_samples*0.9)]\n",
    "test_files = filenames[-int(num_samples*0.1):]\n",
    "\n",
    "print('Training set size', (train_files.shape[0]))\n",
    "print('Validation set size', (val_files.shape[0]))\n",
    "print('Test set size', (test_files.shape[0]))"
   ]
  },
  {
   "cell_type": "markdown",
   "metadata": {
    "id": "g2Cj9FyvfweD"
   },
   "source": [
    "## Reading audio files and their labels"
   ]
  },
  {
   "cell_type": "code",
   "execution_count": 6,
   "metadata": {
    "id": "9PjJ2iXYwftD"
   },
   "outputs": [],
   "source": [
    "def decode_audio(audio_binary):\n",
    "  audio, _ = tf.audio.decode_wav(audio_binary)\n",
    "  return tf.squeeze(audio, axis=-1)"
   ]
  },
  {
   "cell_type": "markdown",
   "metadata": {
    "id": "GPQseZElOjVN"
   },
   "source": [
    "The label for each WAV file is its parent directory."
   ]
  },
  {
   "cell_type": "code",
   "execution_count": 7,
   "metadata": {
    "id": "8VTtX1nr3YT-"
   },
   "outputs": [],
   "source": [
    "def get_label(file_path):\n",
    "  parts = tf.strings.split(file_path, os.path.sep)\n",
    "\n",
    "  # Note: You'll use indexing here instead of tuple unpacking to enable this \n",
    "  # to work in a TensorFlow graph.\n",
    "  return parts[-2] "
   ]
  },
  {
   "cell_type": "markdown",
   "metadata": {
    "id": "E8Y9w_5MOsr-"
   },
   "source": [
    "Let's define a method that will take in the filename of the WAV file and output a tuple containing the audio and labels for supervised training."
   ]
  },
  {
   "cell_type": "code",
   "execution_count": 8,
   "metadata": {
    "id": "WdgUD5T93NyT"
   },
   "outputs": [],
   "source": [
    "def get_waveform_and_label(file_path):\n",
    "  label = get_label(file_path)\n",
    "  audio_binary = tf.io.read_file(file_path)\n",
    "  waveform = decode_audio(audio_binary)\n",
    "  return waveform, label"
   ]
  },
  {
   "cell_type": "markdown",
   "metadata": {
    "id": "nvN8W_dDjYjc"
   },
   "source": [
    "You will now apply `process_path` to build your training set to extract the audio-label pairs and check the results. You'll build the validation and test sets using a similar procedure later on."
   ]
  },
  {
   "cell_type": "code",
   "execution_count": 9,
   "metadata": {
    "id": "0SQl8yXl3kNP"
   },
   "outputs": [],
   "source": [
    "AUTOTUNE = tf.data.experimental.AUTOTUNE\n",
    "files_ds = tf.data.Dataset.from_tensor_slices(train_files)\n",
    "waveform_ds = files_ds.map(get_waveform_and_label, num_parallel_calls=AUTOTUNE)"
   ]
  },
  {
   "cell_type": "code",
   "execution_count": 10,
   "metadata": {
    "colab": {
     "base_uri": "https://localhost:8080/"
    },
    "id": "Q0aT8NgUPdru",
    "outputId": "e306c827-b401-43e9-8655-3617ced086cb"
   },
   "outputs": [
    {
     "data": {
      "text/plain": [
       "<ParallelMapDataset shapes: ((None,), ()), types: (tf.float32, tf.string)>"
      ]
     },
     "execution_count": 10,
     "metadata": {},
     "output_type": "execute_result"
    }
   ],
   "source": [
    "waveform_ds"
   ]
  },
  {
   "cell_type": "markdown",
   "metadata": {
    "id": "voxGEwvuh2L7"
   },
   "source": [
    "Let's examine a few audio waveforms with their corresponding labels."
   ]
  },
  {
   "cell_type": "code",
   "execution_count": 11,
   "metadata": {
    "colab": {
     "base_uri": "https://localhost:8080/",
     "height": 716
    },
    "id": "8yuX6Nqzf6wT",
    "outputId": "ff01d6f0-22b3-4f49-87ae-9c6860f16b0d"
   },
   "outputs": [
    {
     "data": {
      "image/png": "[encoded data removed]",
      "text/plain": [
       "<Figure size 720x864 with 9 Axes>"
      ]
     },
     "metadata": {
      "needs_background": "light"
     },
     "output_type": "display_data"
    }
   ],
   "source": [
    "rows = 3\n",
    "cols = 3\n",
    "n = rows*cols\n",
    "fig, axes = plt.subplots(rows, cols, figsize=(10, 12))\n",
    "for i, (audio, label) in enumerate(waveform_ds.take(n)):\n",
    "  r = i // cols\n",
    "  c = i % cols\n",
    "  ax = axes[r][c]\n",
    "  ax.plot(audio.numpy())\n",
    "  ax.set_yticks(np.arange(-1.2, 1.2, 0.2))\n",
    "  label = label.numpy().decode('utf-8')\n",
    "  ax.set_title(label)\n",
    "\n",
    "plt.show()"
   ]
  },
  {
   "cell_type": "markdown",
   "metadata": {
    "id": "EWXPphxm0B4m"
   },
   "source": [
    "## Spectrogram\n",
    "\n",
    "\n"
   ]
  },
  {
   "cell_type": "code",
   "execution_count": 12,
   "metadata": {
    "id": "aFI7bPS_njms"
   },
   "outputs": [],
   "source": [
    "frame_length = 255\n",
    "frame_step = 255\n",
    "num_mel_bins = 500\n",
    "num_spectrogram_bins = (frame_length // 2) + 1\n",
    "fmin = 0.0\n",
    "sample_rate = 44100\n",
    "fmax = sample_rate / 2"
   ]
  },
  {
   "cell_type": "code",
   "execution_count": null,
   "metadata": {
    "id": "bVEoE3C6Q97_"
   },
   "outputs": [],
   "source": []
  },
  {
   "cell_type": "code",
   "execution_count": 13,
   "metadata": {
    "id": "_4CK75DHz_OR"
   },
   "outputs": [],
   "source": [
    "def get_spectrogram(waveform):\n",
    "    # Padding for files with less than 16000 samples\n",
    "    zero_padding = tf.zeros([140000] - tf.shape(waveform), dtype=tf.float32)\n",
    "    # Concatenate audio with padding so that all audio clips will be of the \n",
    "    # same length\n",
    "    waveform = tf.cast(waveform, tf.float32)\n",
    "    equal_length = tf.concat([waveform, zero_padding], 0)\n",
    "    magnitude_spectrograms  = tf.signal.stft(\n",
    "      equal_length, frame_length, frame_step)\n",
    "    magnitude_spectrograms  = tf.abs(magnitude_spectrograms)\n",
    "    \n",
    "    # Step: magnitude_spectrograms->mel_spectrograms\n",
    "    # Warp the linear-scale, magnitude spectrograms into the mel-scale.\n",
    "    num_spectrogram_bins = magnitude_spectrograms.shape[-1]\n",
    "\n",
    "\n",
    "    linear_to_mel_weight_matrix = tf.signal.linear_to_mel_weight_matrix(\n",
    "        num_mel_bins, num_spectrogram_bins, sample_rate, fmin,\n",
    "        fmax)\n",
    "\n",
    "    mel_spectrograms = tf.tensordot(\n",
    "        magnitude_spectrograms, linear_to_mel_weight_matrix, 1)\n",
    "\n",
    "    mel_spectrograms.set_shape(magnitude_spectrograms.shape[:-1].concatenate(\n",
    "  linear_to_mel_weight_matrix.shape[-1:]))\n",
    "\n",
    "    # Compute a stabilized log to get log-magnitude mel-scale spectrograms.\n",
    "    log_mel_spectrograms = tf.math.log(mel_spectrograms + 1e-6)\n",
    "\n",
    "    # Compute MFCCs from log_mel_spectrograms and take the first 13.\n",
    "    #mfccs = tf.signal.mfccs_from_log_mel_spectrograms(\n",
    "    #  log_mel_spectrograms)[..., :75]\n",
    "  \n",
    "    return log_mel_spectrograms"
   ]
  },
  {
   "cell_type": "markdown",
   "metadata": {
    "id": "5rdPiPYJphs2"
   },
   "source": [
    "Next, you will explore the data. Compare the waveform, the spectrogram and the actual audio of one example from the dataset."
   ]
  },
  {
   "cell_type": "code",
   "execution_count": 14,
   "metadata": {
    "colab": {
     "base_uri": "https://localhost:8080/",
     "height": 142
    },
    "id": "4Mu6Y7Yz3C-V",
    "outputId": "049b7bfe-21d5-49fd-8e7f-8dafbd4ddb40"
   },
   "outputs": [
    {
     "ename": "InternalError",
     "evalue": "Blas GEMM launch failed : a.shape=(549, 129), b.shape=(129, 500), m=549, n=500, k=129 [Op:MatMul]",
     "output_type": "error",
     "traceback": [
      "\u001b[1;31m---------------------------------------------------------------------------\u001b[0m",
      "\u001b[1;31mInternalError\u001b[0m                             Traceback (most recent call last)",
      "\u001b[1;32m<ipython-input-14-67cd8e616ed9>\u001b[0m in \u001b[0;36m<module>\u001b[1;34m\u001b[0m\n\u001b[0;32m      1\u001b[0m \u001b[1;32mfor\u001b[0m \u001b[0mwaveform\u001b[0m\u001b[1;33m,\u001b[0m \u001b[0mlabel\u001b[0m \u001b[1;32min\u001b[0m \u001b[0mwaveform_ds\u001b[0m\u001b[1;33m.\u001b[0m\u001b[0mtake\u001b[0m\u001b[1;33m(\u001b[0m\u001b[1;36m147\u001b[0m\u001b[1;33m)\u001b[0m\u001b[1;33m:\u001b[0m\u001b[1;33m\u001b[0m\u001b[1;33m\u001b[0m\u001b[0m\n\u001b[0;32m      2\u001b[0m   \u001b[0mlabel\u001b[0m \u001b[1;33m=\u001b[0m \u001b[0mlabel\u001b[0m\u001b[1;33m.\u001b[0m\u001b[0mnumpy\u001b[0m\u001b[1;33m(\u001b[0m\u001b[1;33m)\u001b[0m\u001b[1;33m.\u001b[0m\u001b[0mdecode\u001b[0m\u001b[1;33m(\u001b[0m\u001b[1;34m'utf-8'\u001b[0m\u001b[1;33m)\u001b[0m\u001b[1;33m\u001b[0m\u001b[1;33m\u001b[0m\u001b[0m\n\u001b[1;32m----> 3\u001b[1;33m   \u001b[0mspectrogram\u001b[0m \u001b[1;33m=\u001b[0m \u001b[0mget_spectrogram\u001b[0m\u001b[1;33m(\u001b[0m\u001b[0mwaveform\u001b[0m\u001b[1;33m)\u001b[0m\u001b[1;33m\u001b[0m\u001b[1;33m\u001b[0m\u001b[0m\n\u001b[0m\u001b[0;32m      4\u001b[0m \u001b[1;33m\u001b[0m\u001b[0m\n\u001b[0;32m      5\u001b[0m \u001b[0mprint\u001b[0m\u001b[1;33m(\u001b[0m\u001b[1;34m'Label:'\u001b[0m\u001b[1;33m,\u001b[0m \u001b[0mlabel\u001b[0m\u001b[1;33m)\u001b[0m\u001b[1;33m\u001b[0m\u001b[1;33m\u001b[0m\u001b[0m\n",
      "\u001b[1;32m<ipython-input-13-e02085c32bc0>\u001b[0m in \u001b[0;36mget_spectrogram\u001b[1;34m(waveform)\u001b[0m\n\u001b[0;32m     20\u001b[0m \u001b[1;33m\u001b[0m\u001b[0m\n\u001b[0;32m     21\u001b[0m     mel_spectrograms = tf.tensordot(\n\u001b[1;32m---> 22\u001b[1;33m         magnitude_spectrograms, linear_to_mel_weight_matrix, 1)\n\u001b[0m\u001b[0;32m     23\u001b[0m \u001b[1;33m\u001b[0m\u001b[0m\n\u001b[0;32m     24\u001b[0m     mel_spectrograms.set_shape(magnitude_spectrograms.shape[:-1].concatenate(\n",
      "\u001b[1;32m~\\anaconda3\\lib\\site-packages\\tensorflow\\python\\util\\dispatch.py\u001b[0m in \u001b[0;36mwrapper\u001b[1;34m(*args, **kwargs)\u001b[0m\n\u001b[0;32m    199\u001b[0m     \u001b[1;34m\"\"\"Call target, and fall back on dispatchers if there is a TypeError.\"\"\"\u001b[0m\u001b[1;33m\u001b[0m\u001b[1;33m\u001b[0m\u001b[0m\n\u001b[0;32m    200\u001b[0m     \u001b[1;32mtry\u001b[0m\u001b[1;33m:\u001b[0m\u001b[1;33m\u001b[0m\u001b[1;33m\u001b[0m\u001b[0m\n\u001b[1;32m--> 201\u001b[1;33m       \u001b[1;32mreturn\u001b[0m \u001b[0mtarget\u001b[0m\u001b[1;33m(\u001b[0m\u001b[1;33m*\u001b[0m\u001b[0margs\u001b[0m\u001b[1;33m,\u001b[0m \u001b[1;33m**\u001b[0m\u001b[0mkwargs\u001b[0m\u001b[1;33m)\u001b[0m\u001b[1;33m\u001b[0m\u001b[1;33m\u001b[0m\u001b[0m\n\u001b[0m\u001b[0;32m    202\u001b[0m     \u001b[1;32mexcept\u001b[0m \u001b[1;33m(\u001b[0m\u001b[0mTypeError\u001b[0m\u001b[1;33m,\u001b[0m \u001b[0mValueError\u001b[0m\u001b[1;33m)\u001b[0m\u001b[1;33m:\u001b[0m\u001b[1;33m\u001b[0m\u001b[1;33m\u001b[0m\u001b[0m\n\u001b[0;32m    203\u001b[0m       \u001b[1;31m# Note: convert_to_eager_tensor currently raises a ValueError, not a\u001b[0m\u001b[1;33m\u001b[0m\u001b[1;33m\u001b[0m\u001b[1;33m\u001b[0m\u001b[0m\n",
      "\u001b[1;32m~\\anaconda3\\lib\\site-packages\\tensorflow\\python\\ops\\math_ops.py\u001b[0m in \u001b[0;36mtensordot\u001b[1;34m(a, b, axes, name)\u001b[0m\n\u001b[0;32m   4517\u001b[0m     b_reshape, b_free_dims, b_free_dims_static = _tensordot_reshape(\n\u001b[0;32m   4518\u001b[0m         b, b_axes, True)\n\u001b[1;32m-> 4519\u001b[1;33m     \u001b[0mab_matmul\u001b[0m \u001b[1;33m=\u001b[0m \u001b[0mmatmul\u001b[0m\u001b[1;33m(\u001b[0m\u001b[0ma_reshape\u001b[0m\u001b[1;33m,\u001b[0m \u001b[0mb_reshape\u001b[0m\u001b[1;33m)\u001b[0m\u001b[1;33m\u001b[0m\u001b[1;33m\u001b[0m\u001b[0m\n\u001b[0m\u001b[0;32m   4520\u001b[0m     \u001b[1;32mif\u001b[0m \u001b[0misinstance\u001b[0m\u001b[1;33m(\u001b[0m\u001b[0ma_free_dims\u001b[0m\u001b[1;33m,\u001b[0m \u001b[0mlist\u001b[0m\u001b[1;33m)\u001b[0m \u001b[1;32mand\u001b[0m \u001b[0misinstance\u001b[0m\u001b[1;33m(\u001b[0m\u001b[0mb_free_dims\u001b[0m\u001b[1;33m,\u001b[0m \u001b[0mlist\u001b[0m\u001b[1;33m)\u001b[0m\u001b[1;33m:\u001b[0m\u001b[1;33m\u001b[0m\u001b[1;33m\u001b[0m\u001b[0m\n\u001b[0;32m   4521\u001b[0m       if (ab_matmul.get_shape().is_fully_defined() and\n",
      "\u001b[1;32m~\\anaconda3\\lib\\site-packages\\tensorflow\\python\\util\\dispatch.py\u001b[0m in \u001b[0;36mwrapper\u001b[1;34m(*args, **kwargs)\u001b[0m\n\u001b[0;32m    199\u001b[0m     \u001b[1;34m\"\"\"Call target, and fall back on dispatchers if there is a TypeError.\"\"\"\u001b[0m\u001b[1;33m\u001b[0m\u001b[1;33m\u001b[0m\u001b[0m\n\u001b[0;32m    200\u001b[0m     \u001b[1;32mtry\u001b[0m\u001b[1;33m:\u001b[0m\u001b[1;33m\u001b[0m\u001b[1;33m\u001b[0m\u001b[0m\n\u001b[1;32m--> 201\u001b[1;33m       \u001b[1;32mreturn\u001b[0m \u001b[0mtarget\u001b[0m\u001b[1;33m(\u001b[0m\u001b[1;33m*\u001b[0m\u001b[0margs\u001b[0m\u001b[1;33m,\u001b[0m \u001b[1;33m**\u001b[0m\u001b[0mkwargs\u001b[0m\u001b[1;33m)\u001b[0m\u001b[1;33m\u001b[0m\u001b[1;33m\u001b[0m\u001b[0m\n\u001b[0m\u001b[0;32m    202\u001b[0m     \u001b[1;32mexcept\u001b[0m \u001b[1;33m(\u001b[0m\u001b[0mTypeError\u001b[0m\u001b[1;33m,\u001b[0m \u001b[0mValueError\u001b[0m\u001b[1;33m)\u001b[0m\u001b[1;33m:\u001b[0m\u001b[1;33m\u001b[0m\u001b[1;33m\u001b[0m\u001b[0m\n\u001b[0;32m    203\u001b[0m       \u001b[1;31m# Note: convert_to_eager_tensor currently raises a ValueError, not a\u001b[0m\u001b[1;33m\u001b[0m\u001b[1;33m\u001b[0m\u001b[1;33m\u001b[0m\u001b[0m\n",
      "\u001b[1;32m~\\anaconda3\\lib\\site-packages\\tensorflow\\python\\ops\\math_ops.py\u001b[0m in \u001b[0;36mmatmul\u001b[1;34m(a, b, transpose_a, transpose_b, adjoint_a, adjoint_b, a_is_sparse, b_is_sparse, name)\u001b[0m\n\u001b[0;32m   3253\u001b[0m     \u001b[1;32melse\u001b[0m\u001b[1;33m:\u001b[0m\u001b[1;33m\u001b[0m\u001b[1;33m\u001b[0m\u001b[0m\n\u001b[0;32m   3254\u001b[0m       return gen_math_ops.mat_mul(\n\u001b[1;32m-> 3255\u001b[1;33m           a, b, transpose_a=transpose_a, transpose_b=transpose_b, name=name)\n\u001b[0m\u001b[0;32m   3256\u001b[0m \u001b[1;33m\u001b[0m\u001b[0m\n\u001b[0;32m   3257\u001b[0m \u001b[1;33m\u001b[0m\u001b[0m\n",
      "\u001b[1;32m~\\anaconda3\\lib\\site-packages\\tensorflow\\python\\ops\\gen_math_ops.py\u001b[0m in \u001b[0;36mmat_mul\u001b[1;34m(a, b, transpose_a, transpose_b, name)\u001b[0m\n\u001b[0;32m   5622\u001b[0m       \u001b[1;32mreturn\u001b[0m \u001b[0m_result\u001b[0m\u001b[1;33m\u001b[0m\u001b[1;33m\u001b[0m\u001b[0m\n\u001b[0;32m   5623\u001b[0m     \u001b[1;32mexcept\u001b[0m \u001b[0m_core\u001b[0m\u001b[1;33m.\u001b[0m\u001b[0m_NotOkStatusException\u001b[0m \u001b[1;32mas\u001b[0m \u001b[0me\u001b[0m\u001b[1;33m:\u001b[0m\u001b[1;33m\u001b[0m\u001b[1;33m\u001b[0m\u001b[0m\n\u001b[1;32m-> 5624\u001b[1;33m       \u001b[0m_ops\u001b[0m\u001b[1;33m.\u001b[0m\u001b[0mraise_from_not_ok_status\u001b[0m\u001b[1;33m(\u001b[0m\u001b[0me\u001b[0m\u001b[1;33m,\u001b[0m \u001b[0mname\u001b[0m\u001b[1;33m)\u001b[0m\u001b[1;33m\u001b[0m\u001b[1;33m\u001b[0m\u001b[0m\n\u001b[0m\u001b[0;32m   5625\u001b[0m     \u001b[1;32mexcept\u001b[0m \u001b[0m_core\u001b[0m\u001b[1;33m.\u001b[0m\u001b[0m_FallbackException\u001b[0m\u001b[1;33m:\u001b[0m\u001b[1;33m\u001b[0m\u001b[1;33m\u001b[0m\u001b[0m\n\u001b[0;32m   5626\u001b[0m       \u001b[1;32mpass\u001b[0m\u001b[1;33m\u001b[0m\u001b[1;33m\u001b[0m\u001b[0m\n",
      "\u001b[1;32m~\\anaconda3\\lib\\site-packages\\tensorflow\\python\\framework\\ops.py\u001b[0m in \u001b[0;36mraise_from_not_ok_status\u001b[1;34m(e, name)\u001b[0m\n\u001b[0;32m   6841\u001b[0m   \u001b[0mmessage\u001b[0m \u001b[1;33m=\u001b[0m \u001b[0me\u001b[0m\u001b[1;33m.\u001b[0m\u001b[0mmessage\u001b[0m \u001b[1;33m+\u001b[0m \u001b[1;33m(\u001b[0m\u001b[1;34m\" name: \"\u001b[0m \u001b[1;33m+\u001b[0m \u001b[0mname\u001b[0m \u001b[1;32mif\u001b[0m \u001b[0mname\u001b[0m \u001b[1;32mis\u001b[0m \u001b[1;32mnot\u001b[0m \u001b[1;32mNone\u001b[0m \u001b[1;32melse\u001b[0m \u001b[1;34m\"\"\u001b[0m\u001b[1;33m)\u001b[0m\u001b[1;33m\u001b[0m\u001b[1;33m\u001b[0m\u001b[0m\n\u001b[0;32m   6842\u001b[0m   \u001b[1;31m# pylint: disable=protected-access\u001b[0m\u001b[1;33m\u001b[0m\u001b[1;33m\u001b[0m\u001b[1;33m\u001b[0m\u001b[0m\n\u001b[1;32m-> 6843\u001b[1;33m   \u001b[0msix\u001b[0m\u001b[1;33m.\u001b[0m\u001b[0mraise_from\u001b[0m\u001b[1;33m(\u001b[0m\u001b[0mcore\u001b[0m\u001b[1;33m.\u001b[0m\u001b[0m_status_to_exception\u001b[0m\u001b[1;33m(\u001b[0m\u001b[0me\u001b[0m\u001b[1;33m.\u001b[0m\u001b[0mcode\u001b[0m\u001b[1;33m,\u001b[0m \u001b[0mmessage\u001b[0m\u001b[1;33m)\u001b[0m\u001b[1;33m,\u001b[0m \u001b[1;32mNone\u001b[0m\u001b[1;33m)\u001b[0m\u001b[1;33m\u001b[0m\u001b[1;33m\u001b[0m\u001b[0m\n\u001b[0m\u001b[0;32m   6844\u001b[0m   \u001b[1;31m# pylint: enable=protected-access\u001b[0m\u001b[1;33m\u001b[0m\u001b[1;33m\u001b[0m\u001b[1;33m\u001b[0m\u001b[0m\n\u001b[0;32m   6845\u001b[0m \u001b[1;33m\u001b[0m\u001b[0m\n",
      "\u001b[1;32m~\\anaconda3\\lib\\site-packages\\six.py\u001b[0m in \u001b[0;36mraise_from\u001b[1;34m(value, from_value)\u001b[0m\n",
      "\u001b[1;31mInternalError\u001b[0m: Blas GEMM launch failed : a.shape=(549, 129), b.shape=(129, 500), m=549, n=500, k=129 [Op:MatMul]"
     ]
    }
   ],
   "source": [
    "for waveform, label in waveform_ds.take(147):\n",
    "  label = label.numpy().decode('utf-8')\n",
    "  spectrogram = get_spectrogram(waveform)\n",
    "\n",
    "print('Label:', label)\n",
    "print('Waveform shape:', waveform.shape)\n",
    "print('Spectrogram shape:', spectrogram.shape)\n",
    "print('Audio playback')\n",
    "display.display(display.Audio(waveform, rate=44100))"
   ]
  },
  {
   "cell_type": "code",
   "execution_count": null,
   "metadata": {
    "colab": {
     "base_uri": "https://localhost:8080/",
     "height": 218
    },
    "id": "e62jzb36-Jog",
    "outputId": "ebc5b1af-14fc-4f96-efd7-cd651038c5d0"
   },
   "outputs": [],
   "source": [
    "def plot_spectrogram(spectrogram):\n",
    "  fig, ax = plt.subplots(figsize=(20,20))\n",
    "  mfcc_data= np.swapaxes(spectrogram, 0 ,1)\n",
    "  cax = ax.imshow(mfcc_data, interpolation='nearest', cmap=cm.coolwarm, origin='lower')\n",
    "  ax.set_title('Spectrogram')\n",
    "\n",
    "plot_spectrogram(spectrogram)\n",
    "plt.show()"
   ]
  },
  {
   "cell_type": "markdown",
   "metadata": {
    "id": "GyYXjW07jCHA"
   },
   "source": [
    "Now transform the waveform dataset to have spectrogram images and their corresponding labels as integer IDs."
   ]
  },
  {
   "cell_type": "code",
   "execution_count": 15,
   "metadata": {
    "id": "43IS2IouEV40"
   },
   "outputs": [],
   "source": [
    "def get_spectrogram_and_label_id(audio, label):\n",
    "  spectrogram = get_spectrogram(audio)\n",
    "  spectrogram = tf.expand_dims(spectrogram, -1)\n",
    "  spectrogram = tf.image.grayscale_to_rgb(spectrogram)\n",
    "  label_id = tf.argmax(label == commands)\n",
    "  return spectrogram, label_id"
   ]
  },
  {
   "cell_type": "code",
   "execution_count": 20,
   "metadata": {
    "id": "yEVb_oK0oBLQ"
   },
   "outputs": [],
   "source": [
    "spectrogram_ds = waveform_ds.map(\n",
    "    get_spectrogram_and_label_id, num_parallel_calls=AUTOTUNE)"
   ]
  },
  {
   "cell_type": "markdown",
   "metadata": {
    "id": "z5KdY8IF8rkt"
   },
   "source": [
    "## Build and train the model\n",
    "\n",
    "Now you can build and train your model. But before you do that, you'll need to repeat the training set preprocessing on the validation and test sets."
   ]
  },
  {
   "cell_type": "code",
   "execution_count": 21,
   "metadata": {
    "id": "10UI32QH_45b"
   },
   "outputs": [],
   "source": [
    "def preprocess_dataset(files):\n",
    "  files_ds = tf.data.Dataset.from_tensor_slices(files)\n",
    "  output_ds = files_ds.map(get_waveform_and_label, num_parallel_calls=AUTOTUNE)\n",
    "  output_ds = output_ds.map(\n",
    "      get_spectrogram_and_label_id)\n",
    "  return output_ds"
   ]
  },
  {
   "cell_type": "code",
   "execution_count": 22,
   "metadata": {
    "id": "HNv4xwYkB2P6"
   },
   "outputs": [],
   "source": [
    "train_ds = spectrogram_ds\n",
    "val_ds = preprocess_dataset(val_files)\n",
    "test_ds = preprocess_dataset(test_files)"
   ]
  },
  {
   "cell_type": "markdown",
   "metadata": {
    "id": "assnWo6SB3lR"
   },
   "source": [
    "Batch the training and validation sets for model training."
   ]
  },
  {
   "cell_type": "code",
   "execution_count": 23,
   "metadata": {
    "id": "UgY9WYzn61EX"
   },
   "outputs": [],
   "source": [
    "batch_size = 32\n",
    "train_ds = train_ds.batch(batch_size)\n",
    "val_ds = val_ds.batch(batch_size)"
   ]
  },
  {
   "cell_type": "markdown",
   "metadata": {
    "id": "GS1uIh6F_TN9"
   },
   "source": [
    "Add dataset [`cache()`](https://www.tensorflow.org/api_docs/python/tf/data/Dataset#cache) and [`prefetch()`](https://www.tensorflow.org/api_docs/python/tf/data/Dataset#prefetch) operations to reduce read latency while training the model."
   ]
  },
  {
   "cell_type": "code",
   "execution_count": 24,
   "metadata": {
    "id": "fdZ6M-F5_QzY"
   },
   "outputs": [],
   "source": [
    "train_ds = train_ds.cache().prefetch(AUTOTUNE)\n",
    "val_ds = val_ds.cache().prefetch(AUTOTUNE)"
   ]
  },
  {
   "cell_type": "markdown",
   "metadata": {
    "id": "rwHkKCQQb5oW"
   },
   "source": [
    "For the model, you'll use a simple convolutional neural network (CNN), since you have transformed the audio files into spectrogram images.\n",
    "The model also has the following additional preprocessing layers:\n",
    "- A [`Resizing`](https://www.tensorflow.org/api_docs/python/tf/keras/layers/experimental/preprocessing/Resizing) layer to downsample the input to enable the model to train faster.\n",
    "- A [`Normalization`](https://www.tensorflow.org/api_docs/python/tf/keras/layers/experimental/preprocessing/Normalization) layer to normalize each pixel in the image based on its mean and standard deviation.\n",
    "\n",
    "For the `Normalization` layer, its `adapt` method would first need to be called on the training data in order to compute aggregate statistics (i.e. mean and standard deviation)."
   ]
  },
  {
   "cell_type": "code",
   "execution_count": 25,
   "metadata": {
    "colab": {
     "base_uri": "https://localhost:8080/"
    },
    "id": "ALYz7PFCHblP",
    "outputId": "12a708be-647b-454b-88df-85c3cf4d53d4"
   },
   "outputs": [
    {
     "name": "stdout",
     "output_type": "stream",
     "text": [
      "Input shape: (549, 75, 3)\n"
     ]
    }
   ],
   "source": [
    "for spectrogram, _ in spectrogram_ds.take(1):\n",
    "  input_shape = spectrogram.shape\n",
    "print('Input shape:', input_shape)\n"
   ]
  },
  {
   "cell_type": "code",
   "execution_count": 26,
   "metadata": {
    "id": "M3LR3LJ71RL8"
   },
   "outputs": [],
   "source": [
    "#base_net = inception_v3.InceptionV3(weights=\"imagenet\", include_top=False,\n",
    "#\tinput_shape=input_shape, pooling=\"avg\")"
   ]
  },
  {
   "cell_type": "code",
   "execution_count": 27,
   "metadata": {
    "id": "YcaCBsKn1QzR"
   },
   "outputs": [],
   "source": [
    "#for layer in base_net.layers:\n",
    "#    layer.trainable = False"
   ]
  },
  {
   "cell_type": "code",
   "execution_count": 28,
   "metadata": {
    "id": "5aa1fIgA1Qmn"
   },
   "outputs": [],
   "source": [
    "#Output of the base_net model\n",
    "#x = base_net.output\n",
    "# intermediate fully-connected layer + ReLU\n",
    "#x = tf.keras.layers.Dense(1024, activation='relu')(x)\n",
    "# final fully-connected layer + SoftMax \n",
    "#pred = tf.keras.layers.Dense(n_classes, activation='softmax')(x)"
   ]
  },
  {
   "cell_type": "code",
   "execution_count": 29,
   "metadata": {
    "id": "fKZ8bf2L1QUj"
   },
   "outputs": [],
   "source": [
    "#model = tf.keras.Model(inputs=base_net.input, outputs=pred)"
   ]
  },
  {
   "cell_type": "code",
   "execution_count": 30,
   "metadata": {
    "colab": {
     "base_uri": "https://localhost:8080/"
    },
    "id": "y6fqXFwq9LOK",
    "outputId": "3bf31988-fccd-40ca-e112-ce1910dd8bb7"
   },
   "outputs": [
    {
     "name": "stdout",
     "output_type": "stream",
     "text": [
      "Model: \"sequential\"\n",
      "_________________________________________________________________\n",
      "Layer (type)                 Output Shape              Param #   \n",
      "=================================================================\n",
      "resizing (Resizing)          (None, 32, 32, 3)         0         \n",
      "_________________________________________________________________\n",
      "batch_normalization (BatchNo (None, 32, 32, 3)         12        \n",
      "_________________________________________________________________\n",
      "conv2d (Conv2D)              (None, 30, 30, 32)        896       \n",
      "_________________________________________________________________\n",
      "conv2d_1 (Conv2D)            (None, 28, 28, 32)        9248      \n",
      "_________________________________________________________________\n",
      "max_pooling2d (MaxPooling2D) (None, 14, 14, 32)        0         \n",
      "_________________________________________________________________\n",
      "conv2d_2 (Conv2D)            (None, 12, 12, 64)        18496     \n",
      "_________________________________________________________________\n",
      "conv2d_3 (Conv2D)            (None, 10, 10, 64)        36928     \n",
      "_________________________________________________________________\n",
      "max_pooling2d_1 (MaxPooling2 (None, 5, 5, 64)          0         \n",
      "_________________________________________________________________\n",
      "flatten (Flatten)            (None, 1600)              0         \n",
      "_________________________________________________________________\n",
      "dropout (Dropout)            (None, 1600)              0         \n",
      "_________________________________________________________________\n",
      "dense (Dense)                (None, 10)                16010     \n",
      "=================================================================\n",
      "Total params: 81,590\n",
      "Trainable params: 81,584\n",
      "Non-trainable params: 6\n",
      "_________________________________________________________________\n"
     ]
    }
   ],
   "source": [
    "model1 = models.Sequential(\n",
    "    [\n",
    "        layers.Input(shape = input_shape),\n",
    "        preprocessing.Resizing(32, 32), \n",
    "        layers.BatchNormalization(),\n",
    "        layers.Conv2D(32, kernel_size=(3,3), activation = 'relu'),\n",
    "        layers.Conv2D(32, kernel_size=(3,3), activation = 'relu'),\n",
    "        layers.MaxPooling2D(pool_size=(2,2)),\n",
    "        layers.Conv2D(64, kernel_size=(3,3), activation = 'relu'),\n",
    "        layers.Conv2D(64, kernel_size=(3,3), activation = 'relu'),\n",
    "        layers.MaxPooling2D(pool_size=(2,2)),\n",
    "        layers.Flatten(),\n",
    "        layers.Dropout(0.5),\n",
    "        layers.Dense(len(commands), activation='softmax')\n",
    "    ]\n",
    ")\n",
    "\n",
    "model1.summary()"
   ]
  },
  {
   "cell_type": "code",
   "execution_count": 31,
   "metadata": {},
   "outputs": [],
   "source": [
    "#model2 = \n",
    "\n"
   ]
  },
  {
   "cell_type": "code",
   "execution_count": 32,
   "metadata": {},
   "outputs": [],
   "source": [
    "model = model1"
   ]
  },
  {
   "cell_type": "code",
   "execution_count": 33,
   "metadata": {
    "id": "wFjj7-EmsTD-"
   },
   "outputs": [],
   "source": [
    "model.compile(\n",
    "    optimizer=tf.keras.optimizers.Adam(),\n",
    "    loss=tf.keras.losses.SparseCategoricalCrossentropy(from_logits=True),\n",
    "    metrics=['accuracy'],\n",
    ")"
   ]
  },
  {
   "cell_type": "code",
   "execution_count": 34,
   "metadata": {},
   "outputs": [],
   "source": [
    "checkpoint_filepath = \"model_weights4.hdf5\"\n",
    "model_checkpoint_callback = ModelCheckpoint(\n",
    "    filepath=checkpoint_filepath,\n",
    "    save_weights_only=True,\n",
    "    monitor='val_accuracy',\n",
    "    mode='max',\n",
    "    save_best_only=True)"
   ]
  },
  {
   "cell_type": "code",
   "execution_count": 35,
   "metadata": {
    "colab": {
     "base_uri": "https://localhost:8080/"
    },
    "id": "ttioPJVMcGtq",
    "outputId": "a238d612-77c9-4791-b688-1ae7ba508759",
    "scrolled": false
   },
   "outputs": [
    {
     "name": "stdout",
     "output_type": "stream",
     "text": [
      "Epoch 1/300\n",
      "9/9 [==============================] - 1s 116ms/step - loss: 2.2607 - accuracy: 0.1873 - val_loss: 2.1754 - val_accuracy: 0.2857\n",
      "Epoch 2/300\n",
      "9/9 [==============================] - 0s 14ms/step - loss: 2.2383 - accuracy: 0.2191 - val_loss: 2.1754 - val_accuracy: 0.2857\n",
      "Epoch 3/300\n",
      "9/9 [==============================] - 0s 18ms/step - loss: 2.2284 - accuracy: 0.2332 - val_loss: 2.1387 - val_accuracy: 0.3143\n",
      "Epoch 4/300\n",
      "9/9 [==============================] - 0s 16ms/step - loss: 2.2064 - accuracy: 0.2544 - val_loss: 2.1449 - val_accuracy: 0.3143\n",
      "Epoch 5/300\n",
      "9/9 [==============================] - 0s 14ms/step - loss: 2.2067 - accuracy: 0.2544 - val_loss: 2.1367 - val_accuracy: 0.3143\n",
      "Epoch 6/300\n",
      "9/9 [==============================] - 0s 15ms/step - loss: 2.2025 - accuracy: 0.2580 - val_loss: 2.1439 - val_accuracy: 0.3143\n",
      "Epoch 7/300\n",
      "9/9 [==============================] - 0s 17ms/step - loss: 2.2047 - accuracy: 0.2544 - val_loss: 2.1450 - val_accuracy: 0.3143\n",
      "Epoch 8/300\n",
      "9/9 [==============================] - 0s 17ms/step - loss: 2.2069 - accuracy: 0.2509 - val_loss: 2.1388 - val_accuracy: 0.3143\n",
      "Epoch 9/300\n",
      "9/9 [==============================] - 0s 15ms/step - loss: 2.2009 - accuracy: 0.2509 - val_loss: 2.1300 - val_accuracy: 0.3143\n",
      "Epoch 10/300\n",
      "9/9 [==============================] - 0s 16ms/step - loss: 2.1996 - accuracy: 0.2615 - val_loss: 2.1356 - val_accuracy: 0.3143\n",
      "Epoch 11/300\n",
      "9/9 [==============================] - 0s 16ms/step - loss: 2.2068 - accuracy: 0.2509 - val_loss: 2.1455 - val_accuracy: 0.3143\n",
      "Epoch 12/300\n",
      "9/9 [==============================] - 0s 16ms/step - loss: 2.2014 - accuracy: 0.2544 - val_loss: 2.1430 - val_accuracy: 0.3143\n",
      "Epoch 13/300\n",
      "9/9 [==============================] - 0s 15ms/step - loss: 2.1959 - accuracy: 0.2544 - val_loss: 2.1285 - val_accuracy: 0.3143\n",
      "Epoch 14/300\n",
      "9/9 [==============================] - 0s 16ms/step - loss: 2.1956 - accuracy: 0.2686 - val_loss: 2.1231 - val_accuracy: 0.3429\n",
      "Epoch 15/300\n",
      "9/9 [==============================] - 0s 14ms/step - loss: 2.2008 - accuracy: 0.2509 - val_loss: 2.1333 - val_accuracy: 0.3143\n",
      "Epoch 16/300\n",
      "9/9 [==============================] - 0s 14ms/step - loss: 2.1975 - accuracy: 0.2509 - val_loss: 2.1355 - val_accuracy: 0.3143\n",
      "Epoch 17/300\n",
      "9/9 [==============================] - 0s 15ms/step - loss: 2.1950 - accuracy: 0.2721 - val_loss: 2.1373 - val_accuracy: 0.3429\n",
      "Epoch 18/300\n",
      "9/9 [==============================] - 0s 15ms/step - loss: 2.1793 - accuracy: 0.2792 - val_loss: 2.1369 - val_accuracy: 0.3429\n",
      "Epoch 19/300\n",
      "9/9 [==============================] - 0s 16ms/step - loss: 2.1850 - accuracy: 0.2756 - val_loss: 2.1458 - val_accuracy: 0.3143\n",
      "Epoch 20/300\n",
      "9/9 [==============================] - 0s 15ms/step - loss: 2.1827 - accuracy: 0.2792 - val_loss: 2.1460 - val_accuracy: 0.3143\n",
      "Epoch 21/300\n",
      "9/9 [==============================] - 0s 16ms/step - loss: 2.1853 - accuracy: 0.2756 - val_loss: 2.1445 - val_accuracy: 0.3143\n",
      "Epoch 22/300\n",
      "9/9 [==============================] - 0s 15ms/step - loss: 2.1848 - accuracy: 0.2756 - val_loss: 2.1430 - val_accuracy: 0.3143\n",
      "Epoch 23/300\n",
      "9/9 [==============================] - 0s 16ms/step - loss: 2.1824 - accuracy: 0.2756 - val_loss: 2.1447 - val_accuracy: 0.3143\n",
      "Epoch 24/300\n",
      "9/9 [==============================] - 0s 15ms/step - loss: 2.1858 - accuracy: 0.2792 - val_loss: 2.1466 - val_accuracy: 0.3143\n",
      "Epoch 25/300\n",
      "9/9 [==============================] - 0s 14ms/step - loss: 2.1815 - accuracy: 0.2792 - val_loss: 2.1467 - val_accuracy: 0.3143\n",
      "Epoch 26/300\n",
      "9/9 [==============================] - 0s 14ms/step - loss: 2.1827 - accuracy: 0.2792 - val_loss: 2.1440 - val_accuracy: 0.3143\n",
      "Epoch 27/300\n",
      "9/9 [==============================] - 0s 15ms/step - loss: 2.1793 - accuracy: 0.2756 - val_loss: 2.1425 - val_accuracy: 0.3143\n",
      "Epoch 28/300\n",
      "9/9 [==============================] - 0s 16ms/step - loss: 2.1897 - accuracy: 0.2686 - val_loss: 2.1397 - val_accuracy: 0.3143\n",
      "Epoch 29/300\n",
      "9/9 [==============================] - 0s 14ms/step - loss: 2.1805 - accuracy: 0.2756 - val_loss: 2.1412 - val_accuracy: 0.3143\n",
      "Epoch 30/300\n",
      "9/9 [==============================] - 0s 15ms/step - loss: 2.1787 - accuracy: 0.2827 - val_loss: 2.1371 - val_accuracy: 0.3143\n",
      "Epoch 31/300\n",
      "9/9 [==============================] - 0s 15ms/step - loss: 2.1709 - accuracy: 0.2792 - val_loss: 2.1323 - val_accuracy: 0.2857\n",
      "Epoch 32/300\n",
      "9/9 [==============================] - 0s 16ms/step - loss: 2.1584 - accuracy: 0.2933 - val_loss: 2.1362 - val_accuracy: 0.3143\n",
      "Epoch 33/300\n",
      "9/9 [==============================] - 0s 16ms/step - loss: 2.1666 - accuracy: 0.2862 - val_loss: 2.1305 - val_accuracy: 0.3143\n",
      "Epoch 34/300\n",
      "9/9 [==============================] - 0s 16ms/step - loss: 2.1490 - accuracy: 0.3074 - val_loss: 2.1151 - val_accuracy: 0.3143\n",
      "Epoch 35/300\n",
      "9/9 [==============================] - 0s 16ms/step - loss: 2.1636 - accuracy: 0.2968 - val_loss: 2.1149 - val_accuracy: 0.3143\n",
      "Epoch 36/300\n",
      "9/9 [==============================] - 0s 20ms/step - loss: 2.1491 - accuracy: 0.3145 - val_loss: 2.1278 - val_accuracy: 0.3143\n",
      "Epoch 37/300\n",
      "9/9 [==============================] - 0s 17ms/step - loss: 2.1422 - accuracy: 0.3039 - val_loss: 2.1264 - val_accuracy: 0.3143\n",
      "Epoch 38/300\n",
      "9/9 [==============================] - 0s 17ms/step - loss: 2.1416 - accuracy: 0.3039 - val_loss: 2.1314 - val_accuracy: 0.3143\n",
      "Epoch 39/300\n",
      "9/9 [==============================] - 0s 16ms/step - loss: 2.1292 - accuracy: 0.3286 - val_loss: 2.1309 - val_accuracy: 0.3143\n",
      "Epoch 40/300\n",
      "9/9 [==============================] - 0s 17ms/step - loss: 2.1288 - accuracy: 0.3216 - val_loss: 2.1306 - val_accuracy: 0.3143\n",
      "Epoch 41/300\n",
      "9/9 [==============================] - 0s 17ms/step - loss: 2.1240 - accuracy: 0.3286 - val_loss: 2.1317 - val_accuracy: 0.3143\n",
      "Epoch 42/300\n",
      "9/9 [==============================] - 0s 17ms/step - loss: 2.1232 - accuracy: 0.3286 - val_loss: 2.1182 - val_accuracy: 0.3143\n",
      "Epoch 43/300\n",
      "9/9 [==============================] - 0s 16ms/step - loss: 2.1142 - accuracy: 0.3498 - val_loss: 2.1006 - val_accuracy: 0.3429\n",
      "Epoch 44/300\n",
      "9/9 [==============================] - 0s 16ms/step - loss: 2.1223 - accuracy: 0.3392 - val_loss: 2.0989 - val_accuracy: 0.3143\n",
      "Epoch 45/300\n",
      "9/9 [==============================] - 0s 19ms/step - loss: 2.0992 - accuracy: 0.3604 - val_loss: 2.0849 - val_accuracy: 0.3714\n",
      "Epoch 46/300\n",
      "9/9 [==============================] - 0s 16ms/step - loss: 2.0962 - accuracy: 0.3746 - val_loss: 2.1143 - val_accuracy: 0.3429\n",
      "Epoch 47/300\n",
      "9/9 [==============================] - 0s 17ms/step - loss: 2.0970 - accuracy: 0.3710 - val_loss: 2.1104 - val_accuracy: 0.3143\n",
      "Epoch 48/300\n",
      "9/9 [==============================] - 0s 17ms/step - loss: 2.1018 - accuracy: 0.3534 - val_loss: 2.1034 - val_accuracy: 0.3143\n",
      "Epoch 49/300\n",
      "9/9 [==============================] - 0s 17ms/step - loss: 2.0790 - accuracy: 0.3852 - val_loss: 2.1161 - val_accuracy: 0.3143\n",
      "Epoch 50/300\n",
      "9/9 [==============================] - 0s 17ms/step - loss: 2.0885 - accuracy: 0.3746 - val_loss: 2.1137 - val_accuracy: 0.3429\n",
      "Epoch 51/300\n",
      "9/9 [==============================] - 0s 15ms/step - loss: 2.1125 - accuracy: 0.3322 - val_loss: 2.1305 - val_accuracy: 0.3143\n",
      "Epoch 52/300\n",
      "9/9 [==============================] - 0s 21ms/step - loss: 2.0789 - accuracy: 0.3852 - val_loss: 2.1034 - val_accuracy: 0.3714\n",
      "Epoch 53/300\n",
      "9/9 [==============================] - 0s 15ms/step - loss: 2.0913 - accuracy: 0.3604 - val_loss: 2.1244 - val_accuracy: 0.3429\n",
      "Epoch 54/300\n",
      "9/9 [==============================] - 0s 15ms/step - loss: 2.0683 - accuracy: 0.3922 - val_loss: 2.0977 - val_accuracy: 0.3714\n",
      "Epoch 55/300\n",
      "9/9 [==============================] - 0s 15ms/step - loss: 2.0784 - accuracy: 0.3852 - val_loss: 2.1174 - val_accuracy: 0.3714\n",
      "Epoch 56/300\n",
      "9/9 [==============================] - 0s 16ms/step - loss: 2.0478 - accuracy: 0.4134 - val_loss: 2.1190 - val_accuracy: 0.3429\n",
      "Epoch 57/300\n",
      "9/9 [==============================] - 0s 16ms/step - loss: 2.0741 - accuracy: 0.3816 - val_loss: 2.1093 - val_accuracy: 0.3429\n",
      "Epoch 58/300\n",
      "9/9 [==============================] - 0s 16ms/step - loss: 2.0478 - accuracy: 0.4170 - val_loss: 2.0930 - val_accuracy: 0.3714\n",
      "Epoch 59/300\n",
      "9/9 [==============================] - 0s 16ms/step - loss: 2.0683 - accuracy: 0.3922 - val_loss: 2.1137 - val_accuracy: 0.3429\n",
      "Epoch 60/300\n",
      "9/9 [==============================] - 0s 16ms/step - loss: 2.0591 - accuracy: 0.3958 - val_loss: 2.0918 - val_accuracy: 0.3714\n",
      "Epoch 61/300\n",
      "9/9 [==============================] - 0s 15ms/step - loss: 2.0722 - accuracy: 0.3816 - val_loss: 2.0878 - val_accuracy: 0.3714\n",
      "Epoch 62/300\n",
      "9/9 [==============================] - 0s 16ms/step - loss: 2.0371 - accuracy: 0.4205 - val_loss: 2.0813 - val_accuracy: 0.3714\n",
      "Epoch 63/300\n",
      "9/9 [==============================] - 0s 16ms/step - loss: 2.0378 - accuracy: 0.4346 - val_loss: 2.0779 - val_accuracy: 0.3714\n",
      "Epoch 64/300\n",
      "9/9 [==============================] - 0s 16ms/step - loss: 2.0224 - accuracy: 0.4417 - val_loss: 2.0478 - val_accuracy: 0.4000\n",
      "Epoch 65/300\n",
      "9/9 [==============================] - 0s 15ms/step - loss: 2.0389 - accuracy: 0.4170 - val_loss: 2.0596 - val_accuracy: 0.4000\n",
      "Epoch 66/300\n",
      "9/9 [==============================] - 0s 15ms/step - loss: 2.0173 - accuracy: 0.4417 - val_loss: 2.0561 - val_accuracy: 0.4000\n",
      "Epoch 67/300\n",
      "9/9 [==============================] - 0s 17ms/step - loss: 2.0126 - accuracy: 0.4382 - val_loss: 2.0002 - val_accuracy: 0.4571\n",
      "Epoch 68/300\n",
      "9/9 [==============================] - 0s 17ms/step - loss: 2.0235 - accuracy: 0.4346 - val_loss: 2.0638 - val_accuracy: 0.4000\n",
      "Epoch 69/300\n",
      "9/9 [==============================] - 0s 16ms/step - loss: 2.0007 - accuracy: 0.4629 - val_loss: 1.9728 - val_accuracy: 0.4857\n",
      "Epoch 70/300\n",
      "9/9 [==============================] - 0s 16ms/step - loss: 1.9682 - accuracy: 0.4947 - val_loss: 2.0215 - val_accuracy: 0.4286\n",
      "Epoch 71/300\n",
      "9/9 [==============================] - 0s 18ms/step - loss: 1.9696 - accuracy: 0.4982 - val_loss: 1.9569 - val_accuracy: 0.5143\n",
      "Epoch 72/300\n",
      "9/9 [==============================] - 0s 23ms/step - loss: 1.9805 - accuracy: 0.4735 - val_loss: 1.9567 - val_accuracy: 0.5143\n",
      "Epoch 73/300\n",
      "9/9 [==============================] - 0s 15ms/step - loss: 1.9578 - accuracy: 0.5053 - val_loss: 1.9805 - val_accuracy: 0.4857\n",
      "Epoch 74/300\n",
      "9/9 [==============================] - 0s 16ms/step - loss: 1.9716 - accuracy: 0.4876 - val_loss: 1.9608 - val_accuracy: 0.4857\n",
      "Epoch 75/300\n",
      "9/9 [==============================] - 0s 15ms/step - loss: 1.9566 - accuracy: 0.5053 - val_loss: 1.9484 - val_accuracy: 0.5143\n",
      "Epoch 76/300\n",
      "9/9 [==============================] - 0s 15ms/step - loss: 1.9625 - accuracy: 0.4982 - val_loss: 1.9541 - val_accuracy: 0.4857\n",
      "Epoch 77/300\n",
      "9/9 [==============================] - 0s 14ms/step - loss: 1.9686 - accuracy: 0.4947 - val_loss: 1.9870 - val_accuracy: 0.4857\n",
      "Epoch 78/300\n",
      "9/9 [==============================] - 0s 17ms/step - loss: 1.9463 - accuracy: 0.5159 - val_loss: 1.9869 - val_accuracy: 0.4857\n",
      "Epoch 79/300\n",
      "9/9 [==============================] - 0s 15ms/step - loss: 1.9345 - accuracy: 0.5336 - val_loss: 1.9398 - val_accuracy: 0.5143\n",
      "Epoch 80/300\n",
      "9/9 [==============================] - 0s 15ms/step - loss: 1.9356 - accuracy: 0.5265 - val_loss: 1.9941 - val_accuracy: 0.4571\n",
      "Epoch 81/300\n",
      "9/9 [==============================] - 0s 15ms/step - loss: 1.9632 - accuracy: 0.5018 - val_loss: 1.9863 - val_accuracy: 0.4857\n",
      "Epoch 82/300\n",
      "9/9 [==============================] - 0s 15ms/step - loss: 1.9396 - accuracy: 0.5230 - val_loss: 1.9993 - val_accuracy: 0.4571\n",
      "Epoch 83/300\n",
      "9/9 [==============================] - 0s 15ms/step - loss: 1.9347 - accuracy: 0.5265 - val_loss: 1.9719 - val_accuracy: 0.4857\n",
      "Epoch 84/300\n",
      "9/9 [==============================] - 0s 15ms/step - loss: 1.9430 - accuracy: 0.5194 - val_loss: 1.9673 - val_accuracy: 0.4857\n",
      "Epoch 85/300\n",
      "9/9 [==============================] - 0s 16ms/step - loss: 1.9262 - accuracy: 0.5406 - val_loss: 2.0354 - val_accuracy: 0.4000\n",
      "Epoch 86/300\n",
      "9/9 [==============================] - 0s 18ms/step - loss: 1.9271 - accuracy: 0.5371 - val_loss: 1.9378 - val_accuracy: 0.5429\n",
      "Epoch 87/300\n",
      "9/9 [==============================] - 0s 16ms/step - loss: 1.9257 - accuracy: 0.5336 - val_loss: 1.9554 - val_accuracy: 0.5143\n",
      "Epoch 88/300\n",
      "9/9 [==============================] - 0s 15ms/step - loss: 1.9325 - accuracy: 0.5336 - val_loss: 1.9780 - val_accuracy: 0.4857\n",
      "Epoch 89/300\n",
      "9/9 [==============================] - 0s 15ms/step - loss: 1.9147 - accuracy: 0.5442 - val_loss: 2.0120 - val_accuracy: 0.4286\n",
      "Epoch 90/300\n",
      "9/9 [==============================] - 0s 14ms/step - loss: 1.9112 - accuracy: 0.5512 - val_loss: 1.9815 - val_accuracy: 0.4857\n",
      "Epoch 91/300\n",
      "9/9 [==============================] - 0s 15ms/step - loss: 1.9351 - accuracy: 0.5300 - val_loss: 1.9338 - val_accuracy: 0.5429\n",
      "Epoch 92/300\n",
      "9/9 [==============================] - 0s 17ms/step - loss: 1.9214 - accuracy: 0.5442 - val_loss: 1.9133 - val_accuracy: 0.5143\n",
      "Epoch 93/300\n",
      "9/9 [==============================] - 0s 15ms/step - loss: 1.9060 - accuracy: 0.5583 - val_loss: 1.9609 - val_accuracy: 0.4857\n",
      "Epoch 94/300\n",
      "9/9 [==============================] - 0s 20ms/step - loss: 1.8832 - accuracy: 0.5795 - val_loss: 1.9547 - val_accuracy: 0.4571\n",
      "Epoch 95/300\n",
      "9/9 [==============================] - 0s 16ms/step - loss: 1.8963 - accuracy: 0.5689 - val_loss: 1.9530 - val_accuracy: 0.5143\n",
      "Epoch 96/300\n",
      "9/9 [==============================] - 0s 16ms/step - loss: 1.9062 - accuracy: 0.5548 - val_loss: 2.0010 - val_accuracy: 0.4571\n",
      "Epoch 97/300\n",
      "9/9 [==============================] - 0s 17ms/step - loss: 1.8861 - accuracy: 0.5724 - val_loss: 1.9866 - val_accuracy: 0.4571\n",
      "Epoch 98/300\n",
      "9/9 [==============================] - 0s 16ms/step - loss: 1.9157 - accuracy: 0.5406 - val_loss: 1.9598 - val_accuracy: 0.5143\n",
      "Epoch 99/300\n",
      "9/9 [==============================] - 0s 19ms/step - loss: 1.8788 - accuracy: 0.5866 - val_loss: 1.9573 - val_accuracy: 0.4857\n",
      "Epoch 100/300\n",
      "9/9 [==============================] - 0s 18ms/step - loss: 1.8945 - accuracy: 0.5618 - val_loss: 1.9027 - val_accuracy: 0.5714\n",
      "Epoch 101/300\n",
      "9/9 [==============================] - 0s 17ms/step - loss: 1.8792 - accuracy: 0.5830 - val_loss: 1.9252 - val_accuracy: 0.5429\n",
      "Epoch 102/300\n",
      "9/9 [==============================] - 0s 20ms/step - loss: 1.8600 - accuracy: 0.6078 - val_loss: 1.9687 - val_accuracy: 0.4857\n",
      "Epoch 103/300\n",
      "9/9 [==============================] - 0s 15ms/step - loss: 1.8535 - accuracy: 0.6078 - val_loss: 1.9459 - val_accuracy: 0.5143\n",
      "Epoch 104/300\n",
      "9/9 [==============================] - 0s 17ms/step - loss: 1.8790 - accuracy: 0.5830 - val_loss: 1.9200 - val_accuracy: 0.5429\n",
      "Epoch 105/300\n",
      "9/9 [==============================] - 0s 16ms/step - loss: 1.8624 - accuracy: 0.6007 - val_loss: 1.9023 - val_accuracy: 0.5714\n",
      "Epoch 106/300\n",
      "9/9 [==============================] - 0s 19ms/step - loss: 1.8782 - accuracy: 0.5795 - val_loss: 1.9979 - val_accuracy: 0.4286\n",
      "Epoch 107/300\n",
      "9/9 [==============================] - 0s 16ms/step - loss: 1.8395 - accuracy: 0.6219 - val_loss: 1.9158 - val_accuracy: 0.5429\n",
      "Epoch 108/300\n",
      "9/9 [==============================] - 0s 24ms/step - loss: 1.8785 - accuracy: 0.5901 - val_loss: 1.9345 - val_accuracy: 0.5429\n",
      "Epoch 109/300\n",
      "9/9 [==============================] - 0s 18ms/step - loss: 1.8979 - accuracy: 0.5583 - val_loss: 1.9932 - val_accuracy: 0.4857\n",
      "Epoch 110/300\n",
      "9/9 [==============================] - 0s 15ms/step - loss: 1.8625 - accuracy: 0.6042 - val_loss: 1.9354 - val_accuracy: 0.5143\n",
      "Epoch 111/300\n",
      "9/9 [==============================] - 0s 16ms/step - loss: 1.8616 - accuracy: 0.5936 - val_loss: 1.9084 - val_accuracy: 0.5714\n",
      "Epoch 112/300\n",
      "9/9 [==============================] - 0s 15ms/step - loss: 1.8659 - accuracy: 0.6007 - val_loss: 1.9620 - val_accuracy: 0.4857\n",
      "Epoch 113/300\n",
      "9/9 [==============================] - 0s 15ms/step - loss: 1.8480 - accuracy: 0.6184 - val_loss: 1.9224 - val_accuracy: 0.5714\n",
      "Epoch 114/300\n",
      "9/9 [==============================] - 0s 15ms/step - loss: 1.8566 - accuracy: 0.6007 - val_loss: 1.9621 - val_accuracy: 0.4857\n",
      "Epoch 115/300\n",
      "9/9 [==============================] - 0s 17ms/step - loss: 1.8254 - accuracy: 0.6396 - val_loss: 1.9319 - val_accuracy: 0.5429\n",
      "Epoch 116/300\n",
      "9/9 [==============================] - 0s 16ms/step - loss: 1.8293 - accuracy: 0.6431 - val_loss: 1.9735 - val_accuracy: 0.4857\n"
     ]
    },
    {
     "name": "stdout",
     "output_type": "stream",
     "text": [
      "Epoch 117/300\n",
      "9/9 [==============================] - 0s 15ms/step - loss: 1.8608 - accuracy: 0.5972 - val_loss: 1.9458 - val_accuracy: 0.5143\n",
      "Epoch 118/300\n",
      "9/9 [==============================] - 0s 15ms/step - loss: 1.8281 - accuracy: 0.6325 - val_loss: 1.9590 - val_accuracy: 0.4857\n",
      "Epoch 119/300\n",
      "9/9 [==============================] - 0s 15ms/step - loss: 1.8367 - accuracy: 0.6254 - val_loss: 1.9232 - val_accuracy: 0.5429\n",
      "Epoch 120/300\n",
      "9/9 [==============================] - 0s 17ms/step - loss: 1.8315 - accuracy: 0.6360 - val_loss: 1.9197 - val_accuracy: 0.5429\n",
      "Epoch 121/300\n",
      "9/9 [==============================] - 0s 15ms/step - loss: 1.7829 - accuracy: 0.6855 - val_loss: 1.9041 - val_accuracy: 0.5714\n",
      "Epoch 122/300\n",
      "9/9 [==============================] - 0s 16ms/step - loss: 1.8224 - accuracy: 0.6466 - val_loss: 1.9368 - val_accuracy: 0.5143\n",
      "Epoch 123/300\n",
      "9/9 [==============================] - 0s 15ms/step - loss: 1.8050 - accuracy: 0.6572 - val_loss: 1.9433 - val_accuracy: 0.5143\n",
      "Epoch 124/300\n",
      "9/9 [==============================] - 0s 16ms/step - loss: 1.8080 - accuracy: 0.6502 - val_loss: 1.9316 - val_accuracy: 0.5429\n",
      "Epoch 125/300\n",
      "9/9 [==============================] - 0s 15ms/step - loss: 1.7993 - accuracy: 0.6572 - val_loss: 1.9199 - val_accuracy: 0.5429\n",
      "Epoch 126/300\n",
      "9/9 [==============================] - 0s 19ms/step - loss: 1.8093 - accuracy: 0.6537 - val_loss: 1.9713 - val_accuracy: 0.4857\n",
      "Epoch 127/300\n",
      "9/9 [==============================] - 0s 17ms/step - loss: 1.7731 - accuracy: 0.6926 - val_loss: 1.9045 - val_accuracy: 0.6000\n",
      "Epoch 128/300\n",
      "9/9 [==============================] - 0s 15ms/step - loss: 1.7908 - accuracy: 0.6643 - val_loss: 1.9237 - val_accuracy: 0.5429\n",
      "Epoch 129/300\n",
      "9/9 [==============================] - 0s 17ms/step - loss: 1.7851 - accuracy: 0.6749 - val_loss: 1.9262 - val_accuracy: 0.5429\n",
      "Epoch 130/300\n",
      "9/9 [==============================] - 0s 14ms/step - loss: 1.7724 - accuracy: 0.6855 - val_loss: 2.0104 - val_accuracy: 0.4286\n",
      "Epoch 131/300\n",
      "9/9 [==============================] - 0s 15ms/step - loss: 1.7865 - accuracy: 0.6820 - val_loss: 1.9197 - val_accuracy: 0.5429\n",
      "Epoch 132/300\n",
      "9/9 [==============================] - 0s 15ms/step - loss: 1.7994 - accuracy: 0.6572 - val_loss: 1.9279 - val_accuracy: 0.5714\n",
      "Epoch 133/300\n",
      "9/9 [==============================] - 0s 15ms/step - loss: 1.8064 - accuracy: 0.6608 - val_loss: 1.9632 - val_accuracy: 0.5143\n",
      "Epoch 134/300\n",
      "9/9 [==============================] - 0s 14ms/step - loss: 1.7629 - accuracy: 0.6996 - val_loss: 1.9162 - val_accuracy: 0.5429\n",
      "Epoch 135/300\n",
      "9/9 [==============================] - 0s 15ms/step - loss: 1.7791 - accuracy: 0.6855 - val_loss: 1.8931 - val_accuracy: 0.5714\n",
      "Epoch 136/300\n",
      "9/9 [==============================] - 0s 15ms/step - loss: 1.7610 - accuracy: 0.6996 - val_loss: 1.9263 - val_accuracy: 0.5143\n",
      "Epoch 137/300\n",
      "9/9 [==============================] - 0s 18ms/step - loss: 1.7733 - accuracy: 0.6926 - val_loss: 1.9210 - val_accuracy: 0.5429\n",
      "Epoch 138/300\n",
      "9/9 [==============================] - 0s 15ms/step - loss: 1.7572 - accuracy: 0.7032 - val_loss: 1.9064 - val_accuracy: 0.6000\n",
      "Epoch 139/300\n",
      "9/9 [==============================] - 0s 16ms/step - loss: 1.7503 - accuracy: 0.7138 - val_loss: 1.8922 - val_accuracy: 0.6000\n",
      "Epoch 140/300\n",
      "9/9 [==============================] - 0s 15ms/step - loss: 1.7388 - accuracy: 0.7314 - val_loss: 1.8724 - val_accuracy: 0.6000\n",
      "Epoch 141/300\n",
      "9/9 [==============================] - 0s 16ms/step - loss: 1.7366 - accuracy: 0.7279 - val_loss: 1.9667 - val_accuracy: 0.4857\n",
      "Epoch 142/300\n",
      "9/9 [==============================] - 0s 15ms/step - loss: 1.7533 - accuracy: 0.7102 - val_loss: 1.9232 - val_accuracy: 0.5429\n",
      "Epoch 143/300\n",
      "9/9 [==============================] - 0s 18ms/step - loss: 1.7385 - accuracy: 0.7314 - val_loss: 1.9377 - val_accuracy: 0.5429\n",
      "Epoch 144/300\n",
      "9/9 [==============================] - 0s 15ms/step - loss: 1.7390 - accuracy: 0.7314 - val_loss: 1.9544 - val_accuracy: 0.4857\n",
      "Epoch 145/300\n",
      "9/9 [==============================] - 0s 15ms/step - loss: 1.7241 - accuracy: 0.7350 - val_loss: 1.9264 - val_accuracy: 0.5429\n",
      "Epoch 146/300\n",
      "9/9 [==============================] - 0s 15ms/step - loss: 1.7370 - accuracy: 0.7244 - val_loss: 1.9470 - val_accuracy: 0.5429\n",
      "Epoch 147/300\n",
      "9/9 [==============================] - 0s 15ms/step - loss: 1.7437 - accuracy: 0.7244 - val_loss: 1.9120 - val_accuracy: 0.5429\n",
      "Epoch 148/300\n",
      "9/9 [==============================] - 0s 14ms/step - loss: 1.7758 - accuracy: 0.6855 - val_loss: 1.9393 - val_accuracy: 0.5143\n",
      "Epoch 149/300\n",
      "9/9 [==============================] - 0s 15ms/step - loss: 1.7272 - accuracy: 0.7350 - val_loss: 1.8925 - val_accuracy: 0.5714\n",
      "Epoch 150/300\n",
      "9/9 [==============================] - 0s 15ms/step - loss: 1.7165 - accuracy: 0.7491 - val_loss: 1.8823 - val_accuracy: 0.6000\n",
      "Epoch 151/300\n",
      "9/9 [==============================] - 0s 15ms/step - loss: 1.7158 - accuracy: 0.7491 - val_loss: 1.8875 - val_accuracy: 0.5714\n",
      "Epoch 152/300\n",
      "9/9 [==============================] - 0s 15ms/step - loss: 1.7457 - accuracy: 0.7173 - val_loss: 1.9038 - val_accuracy: 0.5429\n",
      "Epoch 153/300\n",
      "9/9 [==============================] - 0s 15ms/step - loss: 1.7071 - accuracy: 0.7633 - val_loss: 1.8815 - val_accuracy: 0.5714\n",
      "Epoch 154/300\n",
      "9/9 [==============================] - 0s 18ms/step - loss: 1.6994 - accuracy: 0.7703 - val_loss: 1.8794 - val_accuracy: 0.5714\n",
      "Epoch 155/300\n",
      "9/9 [==============================] - 0s 14ms/step - loss: 1.7024 - accuracy: 0.7597 - val_loss: 1.9064 - val_accuracy: 0.5429\n",
      "Epoch 156/300\n",
      "9/9 [==============================] - 0s 14ms/step - loss: 1.7113 - accuracy: 0.7456 - val_loss: 1.9008 - val_accuracy: 0.5714\n",
      "Epoch 157/300\n",
      "9/9 [==============================] - 0s 15ms/step - loss: 1.7220 - accuracy: 0.7420 - val_loss: 1.9175 - val_accuracy: 0.5429\n",
      "Epoch 158/300\n",
      "9/9 [==============================] - 0s 15ms/step - loss: 1.6970 - accuracy: 0.7633 - val_loss: 1.9052 - val_accuracy: 0.5429\n",
      "Epoch 159/300\n",
      "9/9 [==============================] - 0s 15ms/step - loss: 1.7055 - accuracy: 0.7562 - val_loss: 1.8667 - val_accuracy: 0.6000\n",
      "Epoch 160/300\n",
      "9/9 [==============================] - 0s 14ms/step - loss: 1.7221 - accuracy: 0.7350 - val_loss: 1.8850 - val_accuracy: 0.5714\n",
      "Epoch 161/300\n",
      "9/9 [==============================] - 0s 15ms/step - loss: 1.7063 - accuracy: 0.7633 - val_loss: 1.9251 - val_accuracy: 0.5429\n",
      "Epoch 162/300\n",
      "9/9 [==============================] - 0s 15ms/step - loss: 1.7026 - accuracy: 0.7668 - val_loss: 1.8673 - val_accuracy: 0.5714\n",
      "Epoch 163/300\n",
      "9/9 [==============================] - 0s 15ms/step - loss: 1.6931 - accuracy: 0.7739 - val_loss: 1.8921 - val_accuracy: 0.5714\n",
      "Epoch 164/300\n",
      "9/9 [==============================] - 0s 15ms/step - loss: 1.6843 - accuracy: 0.7774 - val_loss: 1.8918 - val_accuracy: 0.5714\n",
      "Epoch 165/300\n",
      "9/9 [==============================] - 0s 15ms/step - loss: 1.7194 - accuracy: 0.7420 - val_loss: 1.9100 - val_accuracy: 0.5714\n",
      "Epoch 166/300\n",
      "9/9 [==============================] - 0s 16ms/step - loss: 1.6737 - accuracy: 0.7915 - val_loss: 1.9017 - val_accuracy: 0.5714\n",
      "Epoch 167/300\n",
      "9/9 [==============================] - 0s 15ms/step - loss: 1.6922 - accuracy: 0.7703 - val_loss: 1.8661 - val_accuracy: 0.6000\n",
      "Epoch 168/300\n",
      "9/9 [==============================] - 0s 17ms/step - loss: 1.6673 - accuracy: 0.7951 - val_loss: 1.8356 - val_accuracy: 0.6286\n",
      "Epoch 169/300\n",
      "9/9 [==============================] - 0s 15ms/step - loss: 1.6792 - accuracy: 0.7845 - val_loss: 1.8795 - val_accuracy: 0.6000\n",
      "Epoch 170/300\n",
      "9/9 [==============================] - 0s 14ms/step - loss: 1.6776 - accuracy: 0.7915 - val_loss: 1.8669 - val_accuracy: 0.6000\n",
      "Epoch 171/300\n",
      "9/9 [==============================] - 0s 15ms/step - loss: 1.6840 - accuracy: 0.7774 - val_loss: 1.8787 - val_accuracy: 0.5714\n",
      "Epoch 172/300\n",
      "9/9 [==============================] - 0s 14ms/step - loss: 1.6773 - accuracy: 0.7845 - val_loss: 1.8912 - val_accuracy: 0.5714\n",
      "Epoch 173/300\n",
      "9/9 [==============================] - 0s 16ms/step - loss: 1.6816 - accuracy: 0.7703 - val_loss: 1.8627 - val_accuracy: 0.6000\n",
      "Epoch 174/300\n",
      "9/9 [==============================] - 0s 15ms/step - loss: 1.7116 - accuracy: 0.7562 - val_loss: 1.8867 - val_accuracy: 0.5714\n"
     ]
    },
    {
     "name": "stdout",
     "output_type": "stream",
     "text": [
      "Epoch 175/300\n",
      "9/9 [==============================] - 0s 15ms/step - loss: 1.6955 - accuracy: 0.7668 - val_loss: 1.9100 - val_accuracy: 0.5714\n",
      "Epoch 176/300\n",
      "9/9 [==============================] - 0s 15ms/step - loss: 1.6781 - accuracy: 0.7915 - val_loss: 1.8956 - val_accuracy: 0.5714\n",
      "Epoch 177/300\n",
      "9/9 [==============================] - 0s 15ms/step - loss: 1.6623 - accuracy: 0.8021 - val_loss: 1.8653 - val_accuracy: 0.6000\n",
      "Epoch 178/300\n",
      "9/9 [==============================] - 0s 17ms/step - loss: 1.6759 - accuracy: 0.7880 - val_loss: 1.9060 - val_accuracy: 0.5429\n",
      "Epoch 179/300\n",
      "9/9 [==============================] - 0s 19ms/step - loss: 1.6587 - accuracy: 0.8057 - val_loss: 1.9038 - val_accuracy: 0.5429\n",
      "Epoch 180/300\n",
      "9/9 [==============================] - 0s 16ms/step - loss: 1.6539 - accuracy: 0.8092 - val_loss: 1.8986 - val_accuracy: 0.5714\n",
      "Epoch 181/300\n",
      "9/9 [==============================] - 0s 15ms/step - loss: 1.6745 - accuracy: 0.7915 - val_loss: 1.8665 - val_accuracy: 0.6000\n",
      "Epoch 182/300\n",
      "9/9 [==============================] - 0s 16ms/step - loss: 1.6600 - accuracy: 0.7986 - val_loss: 1.8678 - val_accuracy: 0.6000\n",
      "Epoch 183/300\n",
      "9/9 [==============================] - 0s 16ms/step - loss: 1.6667 - accuracy: 0.7915 - val_loss: 1.8888 - val_accuracy: 0.5714\n",
      "Epoch 184/300\n",
      "9/9 [==============================] - 0s 15ms/step - loss: 1.6590 - accuracy: 0.8021 - val_loss: 1.8736 - val_accuracy: 0.5714\n",
      "Epoch 185/300\n",
      "9/9 [==============================] - 0s 16ms/step - loss: 1.6598 - accuracy: 0.8021 - val_loss: 1.9374 - val_accuracy: 0.5143\n",
      "Epoch 186/300\n",
      "9/9 [==============================] - 0s 20ms/step - loss: 1.6720 - accuracy: 0.7915 - val_loss: 1.9049 - val_accuracy: 0.5714\n",
      "Epoch 187/300\n",
      "9/9 [==============================] - 0s 16ms/step - loss: 1.6723 - accuracy: 0.7915 - val_loss: 1.8543 - val_accuracy: 0.6000\n",
      "Epoch 188/300\n",
      "9/9 [==============================] - 0s 16ms/step - loss: 1.6668 - accuracy: 0.8021 - val_loss: 1.9303 - val_accuracy: 0.5143\n",
      "Epoch 189/300\n",
      "9/9 [==============================] - 0s 16ms/step - loss: 1.6888 - accuracy: 0.7774 - val_loss: 1.8751 - val_accuracy: 0.6000\n",
      "Epoch 190/300\n",
      "9/9 [==============================] - 0s 17ms/step - loss: 1.6861 - accuracy: 0.7809 - val_loss: 1.8679 - val_accuracy: 0.6000\n",
      "Epoch 191/300\n",
      "9/9 [==============================] - 0s 16ms/step - loss: 1.6598 - accuracy: 0.8057 - val_loss: 1.8439 - val_accuracy: 0.6286\n",
      "Epoch 192/300\n",
      "9/9 [==============================] - 0s 16ms/step - loss: 1.6511 - accuracy: 0.8092 - val_loss: 1.8349 - val_accuracy: 0.6286\n",
      "Epoch 193/300\n",
      "9/9 [==============================] - 0s 15ms/step - loss: 1.6491 - accuracy: 0.8127 - val_loss: 1.8457 - val_accuracy: 0.6286\n",
      "Epoch 194/300\n",
      "9/9 [==============================] - 0s 16ms/step - loss: 1.6490 - accuracy: 0.8163 - val_loss: 1.8473 - val_accuracy: 0.6000\n",
      "Epoch 195/300\n",
      "9/9 [==============================] - 0s 15ms/step - loss: 1.6622 - accuracy: 0.8092 - val_loss: 1.8871 - val_accuracy: 0.6000\n",
      "Epoch 196/300\n",
      "9/9 [==============================] - 0s 16ms/step - loss: 1.6560 - accuracy: 0.8057 - val_loss: 1.8539 - val_accuracy: 0.6000\n",
      "Epoch 197/300\n",
      "9/9 [==============================] - 0s 16ms/step - loss: 1.6669 - accuracy: 0.7986 - val_loss: 1.8331 - val_accuracy: 0.6286\n",
      "Epoch 198/300\n",
      "9/9 [==============================] - 0s 16ms/step - loss: 1.6556 - accuracy: 0.8163 - val_loss: 1.8520 - val_accuracy: 0.6000\n",
      "Epoch 199/300\n",
      "9/9 [==============================] - 0s 16ms/step - loss: 1.6402 - accuracy: 0.8269 - val_loss: 1.8344 - val_accuracy: 0.6286\n",
      "Epoch 200/300\n",
      "9/9 [==============================] - 0s 15ms/step - loss: 1.6605 - accuracy: 0.7986 - val_loss: 1.8391 - val_accuracy: 0.6286\n",
      "Epoch 201/300\n",
      "9/9 [==============================] - 0s 16ms/step - loss: 1.6657 - accuracy: 0.8021 - val_loss: 1.8495 - val_accuracy: 0.6000\n",
      "Epoch 202/300\n",
      "9/9 [==============================] - 0s 15ms/step - loss: 1.6555 - accuracy: 0.8092 - val_loss: 1.8624 - val_accuracy: 0.6000\n",
      "Epoch 203/300\n",
      "9/9 [==============================] - 0s 15ms/step - loss: 1.6566 - accuracy: 0.8057 - val_loss: 1.8775 - val_accuracy: 0.5714\n",
      "Epoch 204/300\n",
      "9/9 [==============================] - 0s 15ms/step - loss: 1.6429 - accuracy: 0.8198 - val_loss: 1.8487 - val_accuracy: 0.6000\n",
      "Epoch 205/300\n",
      "9/9 [==============================] - 0s 15ms/step - loss: 1.6443 - accuracy: 0.8304 - val_loss: 1.8619 - val_accuracy: 0.5714\n",
      "Epoch 206/300\n",
      "9/9 [==============================] - 0s 19ms/step - loss: 1.6506 - accuracy: 0.8127 - val_loss: 1.8504 - val_accuracy: 0.6000\n",
      "Epoch 207/300\n",
      "9/9 [==============================] - 0s 17ms/step - loss: 1.6480 - accuracy: 0.8127 - val_loss: 1.8375 - val_accuracy: 0.6000\n",
      "Epoch 208/300\n",
      "9/9 [==============================] - 0s 16ms/step - loss: 1.6633 - accuracy: 0.7986 - val_loss: 1.9074 - val_accuracy: 0.5429\n",
      "Epoch 209/300\n",
      "9/9 [==============================] - 0s 18ms/step - loss: 1.6533 - accuracy: 0.8092 - val_loss: 1.8473 - val_accuracy: 0.6286\n",
      "Epoch 210/300\n",
      "9/9 [==============================] - 0s 22ms/step - loss: 1.6631 - accuracy: 0.7951 - val_loss: 1.8564 - val_accuracy: 0.6286\n",
      "Epoch 211/300\n",
      "9/9 [==============================] - 0s 18ms/step - loss: 1.6365 - accuracy: 0.8233 - val_loss: 1.8557 - val_accuracy: 0.6000\n",
      "Epoch 212/300\n",
      "9/9 [==============================] - 0s 23ms/step - loss: 1.6322 - accuracy: 0.8304 - val_loss: 1.8051 - val_accuracy: 0.6286\n",
      "Epoch 213/300\n",
      "9/9 [==============================] - 0s 20ms/step - loss: 1.6322 - accuracy: 0.8339 - val_loss: 1.8500 - val_accuracy: 0.6000\n",
      "Epoch 214/300\n",
      "9/9 [==============================] - 0s 27ms/step - loss: 1.6333 - accuracy: 0.8304 - val_loss: 1.8308 - val_accuracy: 0.6286\n",
      "Epoch 215/300\n",
      "9/9 [==============================] - 0s 24ms/step - loss: 1.6264 - accuracy: 0.8375 - val_loss: 1.8222 - val_accuracy: 0.6571\n",
      "Epoch 216/300\n",
      "9/9 [==============================] - 0s 17ms/step - loss: 1.6248 - accuracy: 0.8410 - val_loss: 1.8239 - val_accuracy: 0.6286\n",
      "Epoch 217/300\n",
      "9/9 [==============================] - 0s 19ms/step - loss: 1.6279 - accuracy: 0.8339 - val_loss: 1.8353 - val_accuracy: 0.6000\n",
      "Epoch 218/300\n",
      "9/9 [==============================] - 0s 16ms/step - loss: 1.6374 - accuracy: 0.8269 - val_loss: 1.8598 - val_accuracy: 0.5714\n",
      "Epoch 219/300\n",
      "9/9 [==============================] - 0s 16ms/step - loss: 1.6272 - accuracy: 0.8339 - val_loss: 1.8441 - val_accuracy: 0.6286\n",
      "Epoch 220/300\n",
      "9/9 [==============================] - 0s 16ms/step - loss: 1.6498 - accuracy: 0.8127 - val_loss: 1.8645 - val_accuracy: 0.6000\n",
      "Epoch 221/300\n",
      "9/9 [==============================] - 0s 18ms/step - loss: 1.6226 - accuracy: 0.8410 - val_loss: 1.8531 - val_accuracy: 0.6000\n",
      "Epoch 222/300\n",
      "9/9 [==============================] - 0s 16ms/step - loss: 1.6510 - accuracy: 0.8127 - val_loss: 1.8367 - val_accuracy: 0.6286\n",
      "Epoch 223/300\n",
      "9/9 [==============================] - 0s 15ms/step - loss: 1.6328 - accuracy: 0.8304 - val_loss: 1.8352 - val_accuracy: 0.6286\n",
      "Epoch 224/300\n",
      "9/9 [==============================] - 0s 15ms/step - loss: 1.6320 - accuracy: 0.8304 - val_loss: 1.8319 - val_accuracy: 0.6286\n",
      "Epoch 225/300\n",
      "9/9 [==============================] - 0s 17ms/step - loss: 1.6427 - accuracy: 0.8198 - val_loss: 1.8621 - val_accuracy: 0.5714\n",
      "Epoch 226/300\n",
      "9/9 [==============================] - 0s 16ms/step - loss: 1.6323 - accuracy: 0.8339 - val_loss: 1.8238 - val_accuracy: 0.6286\n",
      "Epoch 227/300\n",
      "9/9 [==============================] - 0s 18ms/step - loss: 1.6232 - accuracy: 0.8481 - val_loss: 1.8019 - val_accuracy: 0.6857\n",
      "Epoch 228/300\n",
      "9/9 [==============================] - 0s 16ms/step - loss: 1.6133 - accuracy: 0.8481 - val_loss: 1.7960 - val_accuracy: 0.6857\n",
      "Epoch 229/300\n",
      "9/9 [==============================] - 0s 18ms/step - loss: 1.6197 - accuracy: 0.8375 - val_loss: 1.7935 - val_accuracy: 0.6571\n",
      "Epoch 230/300\n",
      "9/9 [==============================] - 0s 18ms/step - loss: 1.6371 - accuracy: 0.8233 - val_loss: 1.8043 - val_accuracy: 0.6571\n",
      "Epoch 231/300\n",
      "9/9 [==============================] - 0s 18ms/step - loss: 1.6184 - accuracy: 0.8481 - val_loss: 1.8005 - val_accuracy: 0.6571\n",
      "Epoch 232/300\n",
      "9/9 [==============================] - 0s 17ms/step - loss: 1.6151 - accuracy: 0.8481 - val_loss: 1.7849 - val_accuracy: 0.6857\n"
     ]
    },
    {
     "name": "stdout",
     "output_type": "stream",
     "text": [
      "Epoch 233/300\n",
      "9/9 [==============================] - 0s 16ms/step - loss: 1.6308 - accuracy: 0.8339 - val_loss: 1.8132 - val_accuracy: 0.6571\n",
      "Epoch 234/300\n",
      "9/9 [==============================] - 0s 17ms/step - loss: 1.6316 - accuracy: 0.8339 - val_loss: 1.8357 - val_accuracy: 0.6286\n",
      "Epoch 235/300\n",
      "9/9 [==============================] - 0s 17ms/step - loss: 1.6117 - accuracy: 0.8551 - val_loss: 1.8630 - val_accuracy: 0.5714\n",
      "Epoch 236/300\n",
      "9/9 [==============================] - ETA: 0s - loss: 1.6219 - accuracy: 0.84 - 0s 17ms/step - loss: 1.6219 - accuracy: 0.8445 - val_loss: 1.8551 - val_accuracy: 0.6000\n",
      "Epoch 237/300\n",
      "9/9 [==============================] - 0s 17ms/step - loss: 1.6329 - accuracy: 0.8339 - val_loss: 1.8560 - val_accuracy: 0.6000\n",
      "Epoch 238/300\n",
      "9/9 [==============================] - 0s 17ms/step - loss: 1.6174 - accuracy: 0.8410 - val_loss: 1.8677 - val_accuracy: 0.6000\n",
      "Epoch 239/300\n",
      "9/9 [==============================] - 0s 16ms/step - loss: 1.6221 - accuracy: 0.8445 - val_loss: 1.8239 - val_accuracy: 0.6286\n",
      "Epoch 240/300\n",
      "9/9 [==============================] - 0s 17ms/step - loss: 1.6143 - accuracy: 0.8445 - val_loss: 1.8339 - val_accuracy: 0.6286\n",
      "Epoch 241/300\n",
      "9/9 [==============================] - 0s 17ms/step - loss: 1.6117 - accuracy: 0.8481 - val_loss: 1.8434 - val_accuracy: 0.6286\n",
      "Epoch 242/300\n",
      "9/9 [==============================] - 0s 16ms/step - loss: 1.6000 - accuracy: 0.8693 - val_loss: 1.8312 - val_accuracy: 0.6286\n",
      "Epoch 243/300\n",
      "9/9 [==============================] - 0s 14ms/step - loss: 1.6023 - accuracy: 0.8657 - val_loss: 1.8467 - val_accuracy: 0.6286\n",
      "Epoch 244/300\n",
      "9/9 [==============================] - 0s 15ms/step - loss: 1.6069 - accuracy: 0.8587 - val_loss: 1.8484 - val_accuracy: 0.6000\n",
      "Epoch 245/300\n",
      "9/9 [==============================] - 0s 16ms/step - loss: 1.6128 - accuracy: 0.8481 - val_loss: 1.8472 - val_accuracy: 0.6286\n",
      "Epoch 246/300\n",
      "9/9 [==============================] - 0s 16ms/step - loss: 1.6286 - accuracy: 0.8375 - val_loss: 1.8662 - val_accuracy: 0.6000\n",
      "Epoch 247/300\n",
      "9/9 [==============================] - 0s 18ms/step - loss: 1.6077 - accuracy: 0.8551 - val_loss: 1.8516 - val_accuracy: 0.6000\n",
      "Epoch 248/300\n",
      "9/9 [==============================] - 0s 16ms/step - loss: 1.6085 - accuracy: 0.8551 - val_loss: 1.8669 - val_accuracy: 0.6000\n",
      "Epoch 249/300\n",
      "9/9 [==============================] - 0s 17ms/step - loss: 1.6033 - accuracy: 0.8587 - val_loss: 1.8547 - val_accuracy: 0.6000\n",
      "Epoch 250/300\n",
      "9/9 [==============================] - 0s 16ms/step - loss: 1.6022 - accuracy: 0.8622 - val_loss: 1.8377 - val_accuracy: 0.6286\n",
      "Epoch 251/300\n",
      "9/9 [==============================] - 0s 16ms/step - loss: 1.6004 - accuracy: 0.8622 - val_loss: 1.8610 - val_accuracy: 0.6000\n",
      "Epoch 252/300\n",
      "9/9 [==============================] - 0s 16ms/step - loss: 1.6072 - accuracy: 0.8516 - val_loss: 1.8327 - val_accuracy: 0.6286\n",
      "Epoch 253/300\n",
      "9/9 [==============================] - 0s 17ms/step - loss: 1.6158 - accuracy: 0.8516 - val_loss: 1.8475 - val_accuracy: 0.6000\n",
      "Epoch 254/300\n",
      "9/9 [==============================] - 0s 15ms/step - loss: 1.6078 - accuracy: 0.8516 - val_loss: 1.8601 - val_accuracy: 0.6000\n",
      "Epoch 255/300\n",
      "9/9 [==============================] - 0s 16ms/step - loss: 1.6109 - accuracy: 0.8516 - val_loss: 1.8284 - val_accuracy: 0.6571\n",
      "Epoch 256/300\n",
      "9/9 [==============================] - 0s 15ms/step - loss: 1.6074 - accuracy: 0.8516 - val_loss: 1.8527 - val_accuracy: 0.6000\n",
      "Epoch 257/300\n",
      "9/9 [==============================] - 0s 16ms/step - loss: 1.6032 - accuracy: 0.8587 - val_loss: 1.8269 - val_accuracy: 0.6286\n",
      "Epoch 258/300\n",
      "9/9 [==============================] - 0s 16ms/step - loss: 1.6084 - accuracy: 0.8516 - val_loss: 1.7885 - val_accuracy: 0.6857\n",
      "Epoch 259/300\n",
      "9/9 [==============================] - 0s 16ms/step - loss: 1.6022 - accuracy: 0.8622 - val_loss: 1.8479 - val_accuracy: 0.6000\n",
      "Epoch 260/300\n",
      "9/9 [==============================] - 0s 16ms/step - loss: 1.6002 - accuracy: 0.8657 - val_loss: 1.8464 - val_accuracy: 0.6286\n",
      "Epoch 261/300\n",
      "9/9 [==============================] - 0s 15ms/step - loss: 1.5969 - accuracy: 0.8657 - val_loss: 1.8418 - val_accuracy: 0.6286\n",
      "Epoch 262/300\n",
      "9/9 [==============================] - 0s 16ms/step - loss: 1.6011 - accuracy: 0.8587 - val_loss: 1.7978 - val_accuracy: 0.6571\n",
      "Epoch 263/300\n",
      "9/9 [==============================] - 0s 18ms/step - loss: 1.5977 - accuracy: 0.8657 - val_loss: 1.7806 - val_accuracy: 0.7143\n",
      "Epoch 264/300\n",
      "9/9 [==============================] - 0s 16ms/step - loss: 1.5967 - accuracy: 0.8657 - val_loss: 1.7973 - val_accuracy: 0.6857\n",
      "Epoch 265/300\n",
      "9/9 [==============================] - 0s 16ms/step - loss: 1.6001 - accuracy: 0.8622 - val_loss: 1.8231 - val_accuracy: 0.6571\n",
      "Epoch 266/300\n",
      "9/9 [==============================] - 0s 15ms/step - loss: 1.6183 - accuracy: 0.8375 - val_loss: 1.8077 - val_accuracy: 0.6857\n",
      "Epoch 267/300\n",
      "9/9 [==============================] - 0s 16ms/step - loss: 1.5910 - accuracy: 0.8728 - val_loss: 1.7869 - val_accuracy: 0.6857\n",
      "Epoch 268/300\n",
      "9/9 [==============================] - 0s 15ms/step - loss: 1.5924 - accuracy: 0.8693 - val_loss: 1.7897 - val_accuracy: 0.6857\n",
      "Epoch 269/300\n",
      "9/9 [==============================] - 0s 17ms/step - loss: 1.5996 - accuracy: 0.8657 - val_loss: 1.8158 - val_accuracy: 0.6571\n",
      "Epoch 270/300\n",
      "9/9 [==============================] - 0s 16ms/step - loss: 1.5943 - accuracy: 0.8693 - val_loss: 1.8358 - val_accuracy: 0.6286\n",
      "Epoch 271/300\n",
      "9/9 [==============================] - 0s 16ms/step - loss: 1.5982 - accuracy: 0.8657 - val_loss: 1.8377 - val_accuracy: 0.6286\n",
      "Epoch 272/300\n",
      "9/9 [==============================] - 0s 15ms/step - loss: 1.5989 - accuracy: 0.8622 - val_loss: 1.8282 - val_accuracy: 0.6286\n",
      "Epoch 273/300\n",
      "9/9 [==============================] - 0s 15ms/step - loss: 1.5980 - accuracy: 0.8657 - val_loss: 1.8327 - val_accuracy: 0.6286\n",
      "Epoch 274/300\n",
      "9/9 [==============================] - 0s 16ms/step - loss: 1.5985 - accuracy: 0.8622 - val_loss: 1.8168 - val_accuracy: 0.6571\n",
      "Epoch 275/300\n",
      "9/9 [==============================] - 0s 15ms/step - loss: 1.5998 - accuracy: 0.8657 - val_loss: 1.8022 - val_accuracy: 0.6571\n",
      "Epoch 276/300\n",
      "9/9 [==============================] - 0s 17ms/step - loss: 1.6080 - accuracy: 0.8551 - val_loss: 1.8237 - val_accuracy: 0.6571\n",
      "Epoch 277/300\n",
      "9/9 [==============================] - 0s 16ms/step - loss: 1.5970 - accuracy: 0.8657 - val_loss: 1.8469 - val_accuracy: 0.6000\n",
      "Epoch 278/300\n",
      "9/9 [==============================] - 0s 16ms/step - loss: 1.5960 - accuracy: 0.8693 - val_loss: 1.8029 - val_accuracy: 0.6571\n",
      "Epoch 279/300\n",
      "9/9 [==============================] - 0s 16ms/step - loss: 1.6028 - accuracy: 0.8551 - val_loss: 1.8240 - val_accuracy: 0.6571\n",
      "Epoch 280/300\n",
      "9/9 [==============================] - 0s 16ms/step - loss: 1.5973 - accuracy: 0.8657 - val_loss: 1.8354 - val_accuracy: 0.6286\n",
      "Epoch 281/300\n",
      "9/9 [==============================] - 0s 19ms/step - loss: 1.5965 - accuracy: 0.8657 - val_loss: 1.8329 - val_accuracy: 0.6286\n",
      "Epoch 282/300\n",
      "9/9 [==============================] - 0s 15ms/step - loss: 1.5992 - accuracy: 0.8622 - val_loss: 1.8571 - val_accuracy: 0.6000\n",
      "Epoch 283/300\n",
      "9/9 [==============================] - 0s 15ms/step - loss: 1.5966 - accuracy: 0.8657 - val_loss: 1.8667 - val_accuracy: 0.6000\n",
      "Epoch 284/300\n",
      "9/9 [==============================] - 0s 15ms/step - loss: 1.6035 - accuracy: 0.8622 - val_loss: 1.8416 - val_accuracy: 0.6000\n",
      "Epoch 285/300\n",
      "9/9 [==============================] - 0s 15ms/step - loss: 1.6015 - accuracy: 0.8587 - val_loss: 1.8277 - val_accuracy: 0.6571\n",
      "Epoch 286/300\n",
      "9/9 [==============================] - 0s 15ms/step - loss: 1.6048 - accuracy: 0.8587 - val_loss: 1.8394 - val_accuracy: 0.6286\n",
      "Epoch 287/300\n",
      "9/9 [==============================] - 0s 16ms/step - loss: 1.6092 - accuracy: 0.8481 - val_loss: 1.8635 - val_accuracy: 0.5714\n",
      "Epoch 288/300\n",
      "9/9 [==============================] - 0s 15ms/step - loss: 1.6034 - accuracy: 0.8587 - val_loss: 1.8360 - val_accuracy: 0.6000\n",
      "Epoch 289/300\n",
      "9/9 [==============================] - 0s 15ms/step - loss: 1.5945 - accuracy: 0.8693 - val_loss: 1.8123 - val_accuracy: 0.6571\n",
      "Epoch 290/300\n",
      "9/9 [==============================] - 0s 16ms/step - loss: 1.5954 - accuracy: 0.8693 - val_loss: 1.8100 - val_accuracy: 0.6571\n",
      "Epoch 291/300\n",
      "9/9 [==============================] - 0s 16ms/step - loss: 1.5921 - accuracy: 0.8728 - val_loss: 1.8297 - val_accuracy: 0.6286\n",
      "Epoch 292/300\n",
      "9/9 [==============================] - 0s 16ms/step - loss: 1.5978 - accuracy: 0.8657 - val_loss: 1.8060 - val_accuracy: 0.6571\n",
      "Epoch 293/300\n",
      "9/9 [==============================] - 0s 16ms/step - loss: 1.5964 - accuracy: 0.8657 - val_loss: 1.8343 - val_accuracy: 0.6286\n",
      "Epoch 294/300\n",
      "9/9 [==============================] - 0s 15ms/step - loss: 1.6012 - accuracy: 0.8622 - val_loss: 1.8429 - val_accuracy: 0.6000\n",
      "Epoch 295/300\n",
      "9/9 [==============================] - 0s 17ms/step - loss: 1.5996 - accuracy: 0.8657 - val_loss: 1.8148 - val_accuracy: 0.6857\n",
      "Epoch 296/300\n",
      "9/9 [==============================] - 0s 16ms/step - loss: 1.5961 - accuracy: 0.8693 - val_loss: 1.8380 - val_accuracy: 0.6286\n",
      "Epoch 297/300\n",
      "9/9 [==============================] - 0s 16ms/step - loss: 1.5968 - accuracy: 0.8693 - val_loss: 1.8208 - val_accuracy: 0.6571\n",
      "Epoch 298/300\n",
      "9/9 [==============================] - 0s 16ms/step - loss: 1.5894 - accuracy: 0.8728 - val_loss: 1.8223 - val_accuracy: 0.6286\n",
      "Epoch 299/300\n",
      "9/9 [==============================] - 0s 17ms/step - loss: 1.5951 - accuracy: 0.8622 - val_loss: 1.8198 - val_accuracy: 0.6571\n",
      "Epoch 300/300\n",
      "9/9 [==============================] - 0s 15ms/step - loss: 1.5974 - accuracy: 0.8622 - val_loss: 1.8165 - val_accuracy: 0.6571\n"
     ]
    }
   ],
   "source": [
    "EPOCHS = 300\n",
    "history = model.fit(\n",
    "    train_ds,\n",
    "    validation_data=val_ds,  \n",
    "    epochs=EPOCHS, callbacks=[model_checkpoint_callback]\n",
    ")"
   ]
  },
  {
   "cell_type": "markdown",
   "metadata": {
    "id": "gjpCDeQ4mUfS"
   },
   "source": [
    "Let's check the training and validation loss curves to see how your model has improved during training."
   ]
  },
  {
   "cell_type": "code",
   "execution_count": 36,
   "metadata": {
    "colab": {
     "base_uri": "https://localhost:8080/",
     "height": 265
    },
    "id": "nzhipg3Gu2AY",
    "outputId": "1a083c44-aa58-4263-d46b-4b64229c0097"
   },
   "outputs": [
    {
     "data": {
      "image/png": "[encoded data removed]",
      "text/plain": [
       "<Figure size 432x288 with 1 Axes>"
      ]
     },
     "metadata": {
      "needs_background": "light"
     },
     "output_type": "display_data"
    }
   ],
   "source": [
    "metrics = history.history\n",
    "plt.plot(history.epoch, metrics['loss'], metrics['val_loss'])\n",
    "plt.legend(['loss', 'val_loss'])\n",
    "plt.show()"
   ]
  },
  {
   "cell_type": "markdown",
   "metadata": {
    "id": "5ZTt3kO3mfm4"
   },
   "source": [
    "## Evaluate test set performance\n",
    "\n",
    "Let's run the model on the test set and check performance."
   ]
  },
  {
   "cell_type": "code",
   "execution_count": 37,
   "metadata": {
    "id": "biU2MwzyAo8o"
   },
   "outputs": [],
   "source": [
    "test_audio = []\n",
    "test_labels = []\n",
    "\n",
    "for audio, label in test_ds:\n",
    "  test_audio.append(audio.numpy())\n",
    "  test_labels.append(label.numpy())\n",
    "\n",
    "test_audio = np.array(test_audio)\n",
    "test_labels = np.array(test_labels)"
   ]
  },
  {
   "cell_type": "code",
   "execution_count": 38,
   "metadata": {
    "colab": {
     "base_uri": "https://localhost:8080/"
    },
    "id": "ktUanr9mRZky",
    "outputId": "573a1836-e35e-40b0-d528-7675f8ed2b57"
   },
   "outputs": [
    {
     "name": "stdout",
     "output_type": "stream",
     "text": [
      "Test set accuracy: 54%\n"
     ]
    }
   ],
   "source": [
    "y_pred = np.argmax(model.predict(test_audio), axis=1)\n",
    "y_true = test_labels\n",
    "\n",
    "test_acc = sum(y_pred == y_true) / len(y_true)\n",
    "print(f'Test set accuracy: {test_acc:.0%}')"
   ]
  },
  {
   "cell_type": "markdown",
   "metadata": {
    "id": "en9Znt1NOabH"
   },
   "source": [
    "### Display a confusion matrix\n",
    "\n",
    "A confusion matrix is helpful to see how well the model did on each of the commands in the test set."
   ]
  },
  {
   "cell_type": "code",
   "execution_count": 39,
   "metadata": {
    "colab": {
     "base_uri": "https://localhost:8080/",
     "height": 502
    },
    "id": "LvoSAOiXU3lL",
    "outputId": "2ee5fcd9-d270-479a-c07b-5468954fe75d"
   },
   "outputs": [
    {
     "data": {
      "image/png": "[encoded data removed]",
      "text/plain": [
       "<Figure size 720x576 with 2 Axes>"
      ]
     },
     "metadata": {
      "needs_background": "light"
     },
     "output_type": "display_data"
    }
   ],
   "source": [
    "confusion_mtx = tf.math.confusion_matrix(y_true, y_pred) \n",
    "plt.figure(figsize=(10, 8))\n",
    "sns.heatmap(confusion_mtx, xticklabels=commands, yticklabels=commands, \n",
    "            annot=True, fmt='g')\n",
    "plt.xlabel('Prediction')\n",
    "plt.ylabel('Label')\n",
    "plt.show()"
   ]
  },
  {
   "cell_type": "markdown",
   "metadata": {
    "id": "mQGi_mzPcLvl"
   },
   "source": [
    "## Run inference on an audio file\n"
   ]
  },
  {
   "cell_type": "code",
   "execution_count": 40,
   "metadata": {
    "colab": {
     "base_uri": "https://localhost:8080/",
     "height": 282
    },
    "id": "zRxauKMdhofU",
    "outputId": "7411db4a-6731-4b5b-914d-cec16d012451"
   },
   "outputs": [
    {
     "data": {
      "image/png": "[encoded data removed]",
      "text/plain": [
       "<Figure size 432x288 with 1 Axes>"
      ]
     },
     "metadata": {
      "needs_background": "light"
     },
     "output_type": "display_data"
    }
   ],
   "source": [
    "sample_file = test_files[2].numpy().decode(\"UTF-8\")\n",
    "\n",
    "sample_ds = preprocess_dataset([str(sample_file)])\n",
    "\n",
    "for spectrogram, label in sample_ds.batch(1):\n",
    "  prediction = model(spectrogram)\n",
    "  plt.bar(commands, tf.nn.softmax(prediction[0]))\n",
    "  plt.title(f'Predictions for \"{commands[label[0]]}\"')\n",
    "  plt.show()"
   ]
  },
  {
   "cell_type": "code",
   "execution_count": null,
   "metadata": {
    "id": "g7wgjg48Vom7"
   },
   "outputs": [],
   "source": []
  },
  {
   "cell_type": "code",
   "execution_count": null,
   "metadata": {},
   "outputs": [],
   "source": []
  }
 ],
 "metadata": {
  "accelerator": "GPU",
  "colab": {
   "collapsed_sections": [],
   "name": "animal_species_audio.ipynb",
   "provenance": []
  },
  "kernelspec": {
   "display_name": "Python 3",
   "language": "python",
   "name": "python3"
  },
  "language_info": {
   "codemirror_mode": {
    "name": "ipython",
    "version": 3
   },
   "file_extension": ".py",
   "mimetype": "text/x-python",
   "name": "python",
   "nbconvert_exporter": "python",
   "pygments_lexer": "ipython3",
   "version": "3.7.6"
  }
 },
 "nbformat": 4,
 "nbformat_minor": 1
}
